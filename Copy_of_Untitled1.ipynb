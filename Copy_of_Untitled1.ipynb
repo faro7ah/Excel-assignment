{
  "nbformat": 4,
  "nbformat_minor": 0,
  "metadata": {
    "colab": {
      "name": "Copy of Untitled1.ipynb",
      "provenance": [],
      "authorship_tag": "ABX9TyMseF/fNICp3tv/V0DCIlWH",
      "include_colab_link": true
    },
    "kernelspec": {
      "name": "python3",
      "display_name": "Python 3"
    }
  },
  "cells": [
    {
      "cell_type": "markdown",
      "metadata": {
        "id": "view-in-github",
        "colab_type": "text"
      },
      "source": [
        "<a href=\"https://colab.research.google.com/github/faro7ah/python_project/blob/main/Copy_of_Untitled1.ipynb\" target=\"_parent\"><img src=\"https://colab.research.google.com/assets/colab-badge.svg\" alt=\"Open In Colab\"/></a>"
      ]
    },
    {
      "cell_type": "code",
      "metadata": {
        "id": "UWAymBFf7mdP"
      },
      "source": [
        "import pandas as pd\r\n",
        "from matplotlib import pyplot as plt\r\n",
        "%matplotlib inline\r\n",
        "import seaborn as sns\r\n",
        "plt.rcParams['figure.figsize']=(12,7)\r\n",
        "import numpy as np\r\n",
        "import statsmodels.api as sms;\r\n",
        "import json\r\n",
        "\r\n"
      ],
      "execution_count": null,
      "outputs": []
    },
    {
      "cell_type": "code",
      "metadata": {
        "id": "vqqGzbkg7yOQ"
      },
      "source": [
        "# Read in the data\r\n",
        "tmdb_5000_movies_df =pd.read_csv('tmdb_5000_movies.csv')\r\n",
        "tmdb_5000_credits_df=pd.read_csv('tmdb_5000_credits.csv')"
      ],
      "execution_count": null,
      "outputs": []
    },
    {
      "cell_type": "code",
      "metadata": {
        "id": "Rb8XV3Fsr063"
      },
      "source": [
        "#Determine json columns\r\n",
        "json_cols = ['genres', 'keywords', 'production_companies', 'spoken_languages', 'production_countries']\r\n",
        "#iterate json colmns then load it as json\r\n",
        "for col in json_cols:\r\n",
        "        tmdb_5000_movies_df_1[col] = tmdb_5000_movies_df_1[col].apply(json.loads)\r\n",
        "#empty dataframe to  assign Id and genre's name\r\n",
        "columns = ['id', 'name']\r\n",
        "tmdb_movie_genres = pd.DataFrame(columns=columns)\r\n",
        "#iterat tmdb_5000_movies_df_1 to iterate genre's rows\r\n",
        "for i, x in tmdb_5000_movies_df_1.iterrows():\r\n",
        "    #iterate for genre's. and then extract genres ID and name.\r\n",
        "    for i in x['genres']:\r\n",
        "        key_list=list(i.keys())\r\n",
        "        val_list=list(i.values())"
      ],
      "execution_count": null,
      "outputs": []
    },
    {
      "cell_type": "code",
      "metadata": {
        "id": "Bf-DNucT7lvS"
      },
      "source": [
        ""
      ],
      "execution_count": null,
      "outputs": []
    },
    {
      "cell_type": "code",
      "metadata": {
        "id": "14u7IFIT7lRX"
      },
      "source": [
        ""
      ],
      "execution_count": null,
      "outputs": []
    }
  ]
}