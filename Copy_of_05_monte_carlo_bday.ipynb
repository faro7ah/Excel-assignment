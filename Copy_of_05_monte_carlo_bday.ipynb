{
  "nbformat": 4,
  "nbformat_minor": 0,
  "metadata": {
    "colab": {
      "name": "Copy of 05_monte_carlo_bday.ipynb",
      "provenance": [],
      "include_colab_link": true
    },
    "kernelspec": {
      "name": "python3",
      "display_name": "Python 3"
    }
  },
  "cells": [
    {
      "cell_type": "markdown",
      "metadata": {
        "id": "view-in-github",
        "colab_type": "text"
      },
      "source": [
        "<a href=\"https://colab.research.google.com/github/faro7ah/python_project/blob/main/Copy_of_05_monte_carlo_bday.ipynb\" target=\"_parent\"><img src=\"https://colab.research.google.com/assets/colab-badge.svg\" alt=\"Open In Colab\"/></a>"
      ]
    },
    {
      "cell_type": "markdown",
      "metadata": {
        "id": "rnj0wuNtHt8E"
      },
      "source": [
        "##Project P5\n",
        "\n",
        "**There is a famous problem in statistics that concerns a room full of people: Same Birthday!**\n",
        "\n",
        "An instructor offers a prize of $20.00 to anyone who thinks that two people in the room have the same birthday.\n",
        "\n",
        "Your assignment is to build a Monte Carlo simulation to tell the instructor how many people need to be in the room to give him/her a better than 50% chance of winning the $20.\n",
        "\n",
        "That is to say how many people need to be in a room in order for the probability of two of them having the same birthday is greater than 50%. Do the same for 95% and 99%."
      ]
    },
    {
      "cell_type": "code",
      "metadata": {
        "id": "yrzJvKsEHhda"
      },
      "source": [
        "import numpy as np\r\n"
      ],
      "execution_count": 2,
      "outputs": []
    },
    {
      "cell_type": "code",
      "metadata": {
        "id": "lzPJHmdaICpW"
      },
      "source": [
        "# # Create funtion to run simulations\r\n",
        "import numpy as np\r\n",
        "\r\n",
        "def simulation_birthday(prop): \r\n",
        "             \r\n",
        "    for people in np.arange(1,365):\r\n",
        "        # simulation of the Array\r\n",
        "        semulation = np.array([])  \r\n",
        "        # matches result                       \r\n",
        "        matches= 0                                        \r\n",
        "        # Range iterate\r\n",
        "        for i in range(5000):\r\n",
        "           #  Random birthday                            \r\n",
        "            birthdays = np.random.randint(0,365, people)\r\n",
        "\r\n",
        "            #If the simulation matches to birthday or not\r\n",
        "            if len(np.unique(birthdays)) == len(birthdays): \r\n",
        "                semulation = np.append(semulation,0)\r\n",
        "            else:                                               \r\n",
        "                semulation = np.append(semulation,1)\r\n",
        "        # matches probability        \r\n",
        "        matches =(np.mean(semulation) * 100)\r\n",
        "        \r\n",
        "        if matches > prop:\r\n",
        "            break\r\n",
        "    #Print Num of people and percentage of people who have the same birthday\r\n",
        "    print(\"{} Number of people in rooms\".format(people))\r\n",
        "    print(\"{:.1f}% Of two people having the same birthday\\n\".format(matches))\r\n",
        "\r\n",
        "\r\n",
        "\r\n"
      ],
      "execution_count": 3,
      "outputs": []
    },
    {
      "cell_type": "code",
      "metadata": {
        "id": "tRIi6wjPQOiH",
        "colab": {
          "base_uri": "https://localhost:8080/"
        },
        "outputId": "ea9ec6ea-ebff-4e63-b700-e59e4fee7b63"
      },
      "source": [
        "# Run simulations\r\n",
        "\r\n",
        "simulation_birthday(99)\r\n",
        "simulation_birthday(95)\r\n",
        "simulation_birthday(50)"
      ],
      "execution_count": 4,
      "outputs": [
        {
          "output_type": "stream",
          "text": [
            "56 Number of people in rooms\n",
            "99.1% Of two people having the same birthday\n",
            "\n",
            "47 Number of people in rooms\n",
            "95.5% Of two people having the same birthday\n",
            "\n",
            "23 Number of people in rooms\n",
            "50.4% Of two people having the same birthday\n",
            "\n"
          ],
          "name": "stdout"
        }
      ]
    },
    {
      "cell_type": "code",
      "metadata": {
        "id": "VquVBKSp1wwR"
      },
      "source": [
        ""
      ],
      "execution_count": null,
      "outputs": []
    }
  ]
}