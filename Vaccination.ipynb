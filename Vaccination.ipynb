{
  "nbformat": 4,
  "nbformat_minor": 0,
  "metadata": {
    "colab": {
      "name": "Vaccination.ipynb",
      "provenance": [],
      "collapsed_sections": [],
      "authorship_tag": "ABX9TyPWVi3ZqJeCQys863LKR7tY",
      "include_colab_link": true
    },
    "kernelspec": {
      "name": "python3",
      "display_name": "Python 3"
    },
    "language_info": {
      "name": "python"
    }
  },
  "cells": [
    {
      "cell_type": "markdown",
      "metadata": {
        "id": "view-in-github",
        "colab_type": "text"
      },
      "source": [
        "<a href=\"https://colab.research.google.com/github/faro7ah/python_project/blob/main/Vaccination.ipynb\" target=\"_parent\"><img src=\"https://colab.research.google.com/assets/colab-badge.svg\" alt=\"Open In Colab\"/></a>"
      ]
    },
    {
      "cell_type": "code",
      "metadata": {
        "colab": {
          "resources": {
            "http://localhost:8080/nbextensions/google.colab/files.js": {
              "data": "Ly8gQ29weXJpZ2h0IDIwMTcgR29vZ2xlIExMQwovLwovLyBMaWNlbnNlZCB1bmRlciB0aGUgQXBhY2hlIExpY2Vuc2UsIFZlcnNpb24gMi4wICh0aGUgIkxpY2Vuc2UiKTsKLy8geW91IG1heSBub3QgdXNlIHRoaXMgZmlsZSBleGNlcHQgaW4gY29tcGxpYW5jZSB3aXRoIHRoZSBMaWNlbnNlLgovLyBZb3UgbWF5IG9idGFpbiBhIGNvcHkgb2YgdGhlIExpY2Vuc2UgYXQKLy8KLy8gICAgICBodHRwOi8vd3d3LmFwYWNoZS5vcmcvbGljZW5zZXMvTElDRU5TRS0yLjAKLy8KLy8gVW5sZXNzIHJlcXVpcmVkIGJ5IGFwcGxpY2FibGUgbGF3IG9yIGFncmVlZCB0byBpbiB3cml0aW5nLCBzb2Z0d2FyZQovLyBkaXN0cmlidXRlZCB1bmRlciB0aGUgTGljZW5zZSBpcyBkaXN0cmlidXRlZCBvbiBhbiAiQVMgSVMiIEJBU0lTLAovLyBXSVRIT1VUIFdBUlJBTlRJRVMgT1IgQ09ORElUSU9OUyBPRiBBTlkgS0lORCwgZWl0aGVyIGV4cHJlc3Mgb3IgaW1wbGllZC4KLy8gU2VlIHRoZSBMaWNlbnNlIGZvciB0aGUgc3BlY2lmaWMgbGFuZ3VhZ2UgZ292ZXJuaW5nIHBlcm1pc3Npb25zIGFuZAovLyBsaW1pdGF0aW9ucyB1bmRlciB0aGUgTGljZW5zZS4KCi8qKgogKiBAZmlsZW92ZXJ2aWV3IEhlbHBlcnMgZm9yIGdvb2dsZS5jb2xhYiBQeXRob24gbW9kdWxlLgogKi8KKGZ1bmN0aW9uKHNjb3BlKSB7CmZ1bmN0aW9uIHNwYW4odGV4dCwgc3R5bGVBdHRyaWJ1dGVzID0ge30pIHsKICBjb25zdCBlbGVtZW50ID0gZG9jdW1lbnQuY3JlYXRlRWxlbWVudCgnc3BhbicpOwogIGVsZW1lbnQudGV4dENvbnRlbnQgPSB0ZXh0OwogIGZvciAoY29uc3Qga2V5IG9mIE9iamVjdC5rZXlzKHN0eWxlQXR0cmlidXRlcykpIHsKICAgIGVsZW1lbnQuc3R5bGVba2V5XSA9IHN0eWxlQXR0cmlidXRlc1trZXldOwogIH0KICByZXR1cm4gZWxlbWVudDsKfQoKLy8gTWF4IG51bWJlciBvZiBieXRlcyB3aGljaCB3aWxsIGJlIHVwbG9hZGVkIGF0IGEgdGltZS4KY29uc3QgTUFYX1BBWUxPQURfU0laRSA9IDEwMCAqIDEwMjQ7CgpmdW5jdGlvbiBfdXBsb2FkRmlsZXMoaW5wdXRJZCwgb3V0cHV0SWQpIHsKICBjb25zdCBzdGVwcyA9IHVwbG9hZEZpbGVzU3RlcChpbnB1dElkLCBvdXRwdXRJZCk7CiAgY29uc3Qgb3V0cHV0RWxlbWVudCA9IGRvY3VtZW50LmdldEVsZW1lbnRCeUlkKG91dHB1dElkKTsKICAvLyBDYWNoZSBzdGVwcyBvbiB0aGUgb3V0cHV0RWxlbWVudCB0byBtYWtlIGl0IGF2YWlsYWJsZSBmb3IgdGhlIG5leHQgY2FsbAogIC8vIHRvIHVwbG9hZEZpbGVzQ29udGludWUgZnJvbSBQeXRob24uCiAgb3V0cHV0RWxlbWVudC5zdGVwcyA9IHN0ZXBzOwoKICByZXR1cm4gX3VwbG9hZEZpbGVzQ29udGludWUob3V0cHV0SWQpOwp9CgovLyBUaGlzIGlzIHJvdWdobHkgYW4gYXN5bmMgZ2VuZXJhdG9yIChub3Qgc3VwcG9ydGVkIGluIHRoZSBicm93c2VyIHlldCksCi8vIHdoZXJlIHRoZXJlIGFyZSBtdWx0aXBsZSBhc3luY2hyb25vdXMgc3RlcHMgYW5kIHRoZSBQeXRob24gc2lkZSBpcyBnb2luZwovLyB0byBwb2xsIGZvciBjb21wbGV0aW9uIG9mIGVhY2ggc3RlcC4KLy8gVGhpcyB1c2VzIGEgUHJvbWlzZSB0byBibG9jayB0aGUgcHl0aG9uIHNpZGUgb24gY29tcGxldGlvbiBvZiBlYWNoIHN0ZXAsCi8vIHRoZW4gcGFzc2VzIHRoZSByZXN1bHQgb2YgdGhlIHByZXZpb3VzIHN0ZXAgYXMgdGhlIGlucHV0IHRvIHRoZSBuZXh0IHN0ZXAuCmZ1bmN0aW9uIF91cGxvYWRGaWxlc0NvbnRpbnVlKG91dHB1dElkKSB7CiAgY29uc3Qgb3V0cHV0RWxlbWVudCA9IGRvY3VtZW50LmdldEVsZW1lbnRCeUlkKG91dHB1dElkKTsKICBjb25zdCBzdGVwcyA9IG91dHB1dEVsZW1lbnQuc3RlcHM7CgogIGNvbnN0IG5leHQgPSBzdGVwcy5uZXh0KG91dHB1dEVsZW1lbnQubGFzdFByb21pc2VWYWx1ZSk7CiAgcmV0dXJuIFByb21pc2UucmVzb2x2ZShuZXh0LnZhbHVlLnByb21pc2UpLnRoZW4oKHZhbHVlKSA9PiB7CiAgICAvLyBDYWNoZSB0aGUgbGFzdCBwcm9taXNlIHZhbHVlIHRvIG1ha2UgaXQgYXZhaWxhYmxlIHRvIHRoZSBuZXh0CiAgICAvLyBzdGVwIG9mIHRoZSBnZW5lcmF0b3IuCiAgICBvdXRwdXRFbGVtZW50Lmxhc3RQcm9taXNlVmFsdWUgPSB2YWx1ZTsKICAgIHJldHVybiBuZXh0LnZhbHVlLnJlc3BvbnNlOwogIH0pOwp9CgovKioKICogR2VuZXJhdG9yIGZ1bmN0aW9uIHdoaWNoIGlzIGNhbGxlZCBiZXR3ZWVuIGVhY2ggYXN5bmMgc3RlcCBvZiB0aGUgdXBsb2FkCiAqIHByb2Nlc3MuCiAqIEBwYXJhbSB7c3RyaW5nfSBpbnB1dElkIEVsZW1lbnQgSUQgb2YgdGhlIGlucHV0IGZpbGUgcGlja2VyIGVsZW1lbnQuCiAqIEBwYXJhbSB7c3RyaW5nfSBvdXRwdXRJZCBFbGVtZW50IElEIG9mIHRoZSBvdXRwdXQgZGlzcGxheS4KICogQHJldHVybiB7IUl0ZXJhYmxlPCFPYmplY3Q+fSBJdGVyYWJsZSBvZiBuZXh0IHN0ZXBzLgogKi8KZnVuY3Rpb24qIHVwbG9hZEZpbGVzU3RlcChpbnB1dElkLCBvdXRwdXRJZCkgewogIGNvbnN0IGlucHV0RWxlbWVudCA9IGRvY3VtZW50LmdldEVsZW1lbnRCeUlkKGlucHV0SWQpOwogIGlucHV0RWxlbWVudC5kaXNhYmxlZCA9IGZhbHNlOwoKICBjb25zdCBvdXRwdXRFbGVtZW50ID0gZG9jdW1lbnQuZ2V0RWxlbWVudEJ5SWQob3V0cHV0SWQpOwogIG91dHB1dEVsZW1lbnQuaW5uZXJIVE1MID0gJyc7CgogIGNvbnN0IHBpY2tlZFByb21pc2UgPSBuZXcgUHJvbWlzZSgocmVzb2x2ZSkgPT4gewogICAgaW5wdXRFbGVtZW50LmFkZEV2ZW50TGlzdGVuZXIoJ2NoYW5nZScsIChlKSA9PiB7CiAgICAgIHJlc29sdmUoZS50YXJnZXQuZmlsZXMpOwogICAgfSk7CiAgfSk7CgogIGNvbnN0IGNhbmNlbCA9IGRvY3VtZW50LmNyZWF0ZUVsZW1lbnQoJ2J1dHRvbicpOwogIGlucHV0RWxlbWVudC5wYXJlbnRFbGVtZW50LmFwcGVuZENoaWxkKGNhbmNlbCk7CiAgY2FuY2VsLnRleHRDb250ZW50ID0gJ0NhbmNlbCB1cGxvYWQnOwogIGNvbnN0IGNhbmNlbFByb21pc2UgPSBuZXcgUHJvbWlzZSgocmVzb2x2ZSkgPT4gewogICAgY2FuY2VsLm9uY2xpY2sgPSAoKSA9PiB7CiAgICAgIHJlc29sdmUobnVsbCk7CiAgICB9OwogIH0pOwoKICAvLyBXYWl0IGZvciB0aGUgdXNlciB0byBwaWNrIHRoZSBmaWxlcy4KICBjb25zdCBmaWxlcyA9IHlpZWxkIHsKICAgIHByb21pc2U6IFByb21pc2UucmFjZShbcGlja2VkUHJvbWlzZSwgY2FuY2VsUHJvbWlzZV0pLAogICAgcmVzcG9uc2U6IHsKICAgICAgYWN0aW9uOiAnc3RhcnRpbmcnLAogICAgfQogIH07CgogIGNhbmNlbC5yZW1vdmUoKTsKCiAgLy8gRGlzYWJsZSB0aGUgaW5wdXQgZWxlbWVudCBzaW5jZSBmdXJ0aGVyIHBpY2tzIGFyZSBub3QgYWxsb3dlZC4KICBpbnB1dEVsZW1lbnQuZGlzYWJsZWQgPSB0cnVlOwoKICBpZiAoIWZpbGVzKSB7CiAgICByZXR1cm4gewogICAgICByZXNwb25zZTogewogICAgICAgIGFjdGlvbjogJ2NvbXBsZXRlJywKICAgICAgfQogICAgfTsKICB9CgogIGZvciAoY29uc3QgZmlsZSBvZiBmaWxlcykgewogICAgY29uc3QgbGkgPSBkb2N1bWVudC5jcmVhdGVFbGVtZW50KCdsaScpOwogICAgbGkuYXBwZW5kKHNwYW4oZmlsZS5uYW1lLCB7Zm9udFdlaWdodDogJ2JvbGQnfSkpOwogICAgbGkuYXBwZW5kKHNwYW4oCiAgICAgICAgYCgke2ZpbGUudHlwZSB8fCAnbi9hJ30pIC0gJHtmaWxlLnNpemV9IGJ5dGVzLCBgICsKICAgICAgICBgbGFzdCBtb2RpZmllZDogJHsKICAgICAgICAgICAgZmlsZS5sYXN0TW9kaWZpZWREYXRlID8gZmlsZS5sYXN0TW9kaWZpZWREYXRlLnRvTG9jYWxlRGF0ZVN0cmluZygpIDoKICAgICAgICAgICAgICAgICAgICAgICAgICAgICAgICAgICAgJ24vYSd9IC0gYCkpOwogICAgY29uc3QgcGVyY2VudCA9IHNwYW4oJzAlIGRvbmUnKTsKICAgIGxpLmFwcGVuZENoaWxkKHBlcmNlbnQpOwoKICAgIG91dHB1dEVsZW1lbnQuYXBwZW5kQ2hpbGQobGkpOwoKICAgIGNvbnN0IGZpbGVEYXRhUHJvbWlzZSA9IG5ldyBQcm9taXNlKChyZXNvbHZlKSA9PiB7CiAgICAgIGNvbnN0IHJlYWRlciA9IG5ldyBGaWxlUmVhZGVyKCk7CiAgICAgIHJlYWRlci5vbmxvYWQgPSAoZSkgPT4gewogICAgICAgIHJlc29sdmUoZS50YXJnZXQucmVzdWx0KTsKICAgICAgfTsKICAgICAgcmVhZGVyLnJlYWRBc0FycmF5QnVmZmVyKGZpbGUpOwogICAgfSk7CiAgICAvLyBXYWl0IGZvciB0aGUgZGF0YSB0byBiZSByZWFkeS4KICAgIGxldCBmaWxlRGF0YSA9IHlpZWxkIHsKICAgICAgcHJvbWlzZTogZmlsZURhdGFQcm9taXNlLAogICAgICByZXNwb25zZTogewogICAgICAgIGFjdGlvbjogJ2NvbnRpbnVlJywKICAgICAgfQogICAgfTsKCiAgICAvLyBVc2UgYSBjaHVua2VkIHNlbmRpbmcgdG8gYXZvaWQgbWVzc2FnZSBzaXplIGxpbWl0cy4gU2VlIGIvNjIxMTU2NjAuCiAgICBsZXQgcG9zaXRpb24gPSAwOwogICAgZG8gewogICAgICBjb25zdCBsZW5ndGggPSBNYXRoLm1pbihmaWxlRGF0YS5ieXRlTGVuZ3RoIC0gcG9zaXRpb24sIE1BWF9QQVlMT0FEX1NJWkUpOwogICAgICBjb25zdCBjaHVuayA9IG5ldyBVaW50OEFycmF5KGZpbGVEYXRhLCBwb3NpdGlvbiwgbGVuZ3RoKTsKICAgICAgcG9zaXRpb24gKz0gbGVuZ3RoOwoKICAgICAgY29uc3QgYmFzZTY0ID0gYnRvYShTdHJpbmcuZnJvbUNoYXJDb2RlLmFwcGx5KG51bGwsIGNodW5rKSk7CiAgICAgIHlpZWxkIHsKICAgICAgICByZXNwb25zZTogewogICAgICAgICAgYWN0aW9uOiAnYXBwZW5kJywKICAgICAgICAgIGZpbGU6IGZpbGUubmFtZSwKICAgICAgICAgIGRhdGE6IGJhc2U2NCwKICAgICAgICB9LAogICAgICB9OwoKICAgICAgbGV0IHBlcmNlbnREb25lID0gZmlsZURhdGEuYnl0ZUxlbmd0aCA9PT0gMCA/CiAgICAgICAgICAxMDAgOgogICAgICAgICAgTWF0aC5yb3VuZCgocG9zaXRpb24gLyBmaWxlRGF0YS5ieXRlTGVuZ3RoKSAqIDEwMCk7CiAgICAgIHBlcmNlbnQudGV4dENvbnRlbnQgPSBgJHtwZXJjZW50RG9uZX0lIGRvbmVgOwoKICAgIH0gd2hpbGUgKHBvc2l0aW9uIDwgZmlsZURhdGEuYnl0ZUxlbmd0aCk7CiAgfQoKICAvLyBBbGwgZG9uZS4KICB5aWVsZCB7CiAgICByZXNwb25zZTogewogICAgICBhY3Rpb246ICdjb21wbGV0ZScsCiAgICB9CiAgfTsKfQoKc2NvcGUuZ29vZ2xlID0gc2NvcGUuZ29vZ2xlIHx8IHt9OwpzY29wZS5nb29nbGUuY29sYWIgPSBzY29wZS5nb29nbGUuY29sYWIgfHwge307CnNjb3BlLmdvb2dsZS5jb2xhYi5fZmlsZXMgPSB7CiAgX3VwbG9hZEZpbGVzLAogIF91cGxvYWRGaWxlc0NvbnRpbnVlLAp9Owp9KShzZWxmKTsK",
              "ok": true,
              "headers": [
                [
                  "content-type",
                  "application/javascript"
                ]
              ],
              "status": 200,
              "status_text": ""
            }
          },
          "base_uri": "https://localhost:8080/",
          "height": 73
        },
        "id": "LC9I7OzQpPy0",
        "outputId": "7526734e-cf78-4c31-9900-03665fb4fb66"
      },
      "source": [
        "import pandas as pd \n",
        "import numpy as np \n",
        "import matplotlib.pyplot as plt \n",
        "import seaborn as sns\n",
        "!pip install -q kaggle \n",
        "from google.colab import files \n",
        "files.upload()\n",
        "\n",
        "!mkdir -p ~/.kaggle\n",
        "!cp kaggle.json ~/.kaggle/\n",
        "!chmod 600 ~/.kaggle/kaggle.json"
      ],
      "execution_count": 2,
      "outputs": [
        {
          "output_type": "display_data",
          "data": {
            "text/html": [
              "\n",
              "     <input type=\"file\" id=\"files-739459ee-7a6d-4752-bbdc-dddb62eacb32\" name=\"files[]\" multiple disabled\n",
              "        style=\"border:none\" />\n",
              "     <output id=\"result-739459ee-7a6d-4752-bbdc-dddb62eacb32\">\n",
              "      Upload widget is only available when the cell has been executed in the\n",
              "      current browser session. Please rerun this cell to enable.\n",
              "      </output>\n",
              "      <script src=\"/nbextensions/google.colab/files.js\"></script> "
            ],
            "text/plain": [
              "<IPython.core.display.HTML object>"
            ]
          },
          "metadata": {
            "tags": []
          }
        },
        {
          "output_type": "stream",
          "text": [
            "Saving kaggle.json to kaggle (4).json\n"
          ],
          "name": "stdout"
        }
      ]
    },
    {
      "cell_type": "code",
      "metadata": {
        "id": "uOw1FOKyZ4lD"
      },
      "source": [
        ""
      ],
      "execution_count": null,
      "outputs": []
    },
    {
      "cell_type": "code",
      "metadata": {
        "colab": {
          "base_uri": "https://localhost:8080/"
        },
        "id": "Ba43AD-2Zr4q",
        "outputId": "4bb42c6f-38e2-44a4-9212-3457440b5b64"
      },
      "source": [
        "pip install --upgrade kaggle"
      ],
      "execution_count": 3,
      "outputs": [
        {
          "output_type": "stream",
          "text": [
            "Requirement already up-to-date: kaggle in /usr/local/lib/python3.7/dist-packages (1.5.12)\n",
            "Requirement already satisfied, skipping upgrade: requests in /usr/local/lib/python3.7/dist-packages (from kaggle) (2.23.0)\n",
            "Requirement already satisfied, skipping upgrade: six>=1.10 in /usr/local/lib/python3.7/dist-packages (from kaggle) (1.15.0)\n",
            "Requirement already satisfied, skipping upgrade: python-dateutil in /usr/local/lib/python3.7/dist-packages (from kaggle) (2.8.1)\n",
            "Requirement already satisfied, skipping upgrade: certifi in /usr/local/lib/python3.7/dist-packages (from kaggle) (2020.12.5)\n",
            "Requirement already satisfied, skipping upgrade: python-slugify in /usr/local/lib/python3.7/dist-packages (from kaggle) (5.0.2)\n",
            "Requirement already satisfied, skipping upgrade: tqdm in /usr/local/lib/python3.7/dist-packages (from kaggle) (4.41.1)\n",
            "Requirement already satisfied, skipping upgrade: urllib3 in /usr/local/lib/python3.7/dist-packages (from kaggle) (1.24.3)\n",
            "Requirement already satisfied, skipping upgrade: chardet<4,>=3.0.2 in /usr/local/lib/python3.7/dist-packages (from requests->kaggle) (3.0.4)\n",
            "Requirement already satisfied, skipping upgrade: idna<3,>=2.5 in /usr/local/lib/python3.7/dist-packages (from requests->kaggle) (2.10)\n",
            "Requirement already satisfied, skipping upgrade: text-unidecode>=1.3 in /usr/local/lib/python3.7/dist-packages (from python-slugify->kaggle) (1.3)\n"
          ],
          "name": "stdout"
        }
      ]
    },
    {
      "cell_type": "code",
      "metadata": {
        "colab": {
          "base_uri": "https://localhost:8080/"
        },
        "id": "a_Qog1dkpTwJ",
        "outputId": "f18e209e-9d98-422c-feb4-1c932f13ac77"
      },
      "source": [
        "!kaggle datasets download -d gpreda/covid19-tweets"
      ],
      "execution_count": 4,
      "outputs": [
        {
          "output_type": "stream",
          "text": [
            "covid19-tweets.zip: Skipping, found more recently modified local copy (use --force to force download)\n"
          ],
          "name": "stdout"
        }
      ]
    },
    {
      "cell_type": "code",
      "metadata": {
        "colab": {
          "base_uri": "https://localhost:8080/"
        },
        "id": "y6gae3gHpavY",
        "outputId": "e107aa79-3e2e-4d19-dd71-0436cf71fd43"
      },
      "source": [
        "!unzip \\*.zip && rm *.zip"
      ],
      "execution_count": 5,
      "outputs": [
        {
          "output_type": "stream",
          "text": [
            "Archive:  covid19-tweets.zip\n",
            "replace covid19_tweets.csv? [y]es, [n]o, [A]ll, [N]one, [r]ename: n\n"
          ],
          "name": "stdout"
        }
      ]
    },
    {
      "cell_type": "code",
      "metadata": {
        "id": "LRfvHGnBpc1m"
      },
      "source": [
        "df = pd.read_csv(\"covid19_tweets.csv\")"
      ],
      "execution_count": 6,
      "outputs": []
    },
    {
      "cell_type": "code",
      "metadata": {
        "colab": {
          "base_uri": "https://localhost:8080/",
          "height": 447
        },
        "id": "7b9pK0drp2Rb",
        "outputId": "e9adfa2d-5eb7-4d25-e1bc-326926581493"
      },
      "source": [
        "df.head()"
      ],
      "execution_count": 7,
      "outputs": [
        {
          "output_type": "execute_result",
          "data": {
            "text/html": [
              "<div>\n",
              "<style scoped>\n",
              "    .dataframe tbody tr th:only-of-type {\n",
              "        vertical-align: middle;\n",
              "    }\n",
              "\n",
              "    .dataframe tbody tr th {\n",
              "        vertical-align: top;\n",
              "    }\n",
              "\n",
              "    .dataframe thead th {\n",
              "        text-align: right;\n",
              "    }\n",
              "</style>\n",
              "<table border=\"1\" class=\"dataframe\">\n",
              "  <thead>\n",
              "    <tr style=\"text-align: right;\">\n",
              "      <th></th>\n",
              "      <th>user_name</th>\n",
              "      <th>user_location</th>\n",
              "      <th>user_description</th>\n",
              "      <th>user_created</th>\n",
              "      <th>user_followers</th>\n",
              "      <th>user_friends</th>\n",
              "      <th>user_favourites</th>\n",
              "      <th>user_verified</th>\n",
              "      <th>date</th>\n",
              "      <th>text</th>\n",
              "      <th>hashtags</th>\n",
              "      <th>source</th>\n",
              "      <th>is_retweet</th>\n",
              "    </tr>\n",
              "  </thead>\n",
              "  <tbody>\n",
              "    <tr>\n",
              "      <th>0</th>\n",
              "      <td>ᏉᎥ☻լꂅϮ</td>\n",
              "      <td>astroworld</td>\n",
              "      <td>wednesday addams as a disney princess keepin i...</td>\n",
              "      <td>2017-05-26 05:46:42</td>\n",
              "      <td>624</td>\n",
              "      <td>950</td>\n",
              "      <td>18775</td>\n",
              "      <td>False</td>\n",
              "      <td>2020-07-25 12:27:21</td>\n",
              "      <td>If I smelled the scent of hand sanitizers toda...</td>\n",
              "      <td>NaN</td>\n",
              "      <td>Twitter for iPhone</td>\n",
              "      <td>False</td>\n",
              "    </tr>\n",
              "    <tr>\n",
              "      <th>1</th>\n",
              "      <td>Tom Basile 🇺🇸</td>\n",
              "      <td>New York, NY</td>\n",
              "      <td>Husband, Father, Columnist &amp; Commentator. Auth...</td>\n",
              "      <td>2009-04-16 20:06:23</td>\n",
              "      <td>2253</td>\n",
              "      <td>1677</td>\n",
              "      <td>24</td>\n",
              "      <td>True</td>\n",
              "      <td>2020-07-25 12:27:17</td>\n",
              "      <td>Hey @Yankees @YankeesPR and @MLB - wouldn't it...</td>\n",
              "      <td>NaN</td>\n",
              "      <td>Twitter for Android</td>\n",
              "      <td>False</td>\n",
              "    </tr>\n",
              "    <tr>\n",
              "      <th>2</th>\n",
              "      <td>Time4fisticuffs</td>\n",
              "      <td>Pewee Valley, KY</td>\n",
              "      <td>#Christian #Catholic #Conservative #Reagan #Re...</td>\n",
              "      <td>2009-02-28 18:57:41</td>\n",
              "      <td>9275</td>\n",
              "      <td>9525</td>\n",
              "      <td>7254</td>\n",
              "      <td>False</td>\n",
              "      <td>2020-07-25 12:27:14</td>\n",
              "      <td>@diane3443 @wdunlap @realDonaldTrump Trump nev...</td>\n",
              "      <td>['COVID19']</td>\n",
              "      <td>Twitter for Android</td>\n",
              "      <td>False</td>\n",
              "    </tr>\n",
              "    <tr>\n",
              "      <th>3</th>\n",
              "      <td>ethel mertz</td>\n",
              "      <td>Stuck in the Middle</td>\n",
              "      <td>#Browns #Indians #ClevelandProud #[]_[] #Cavs ...</td>\n",
              "      <td>2019-03-07 01:45:06</td>\n",
              "      <td>197</td>\n",
              "      <td>987</td>\n",
              "      <td>1488</td>\n",
              "      <td>False</td>\n",
              "      <td>2020-07-25 12:27:10</td>\n",
              "      <td>@brookbanktv The one gift #COVID19 has give me...</td>\n",
              "      <td>['COVID19']</td>\n",
              "      <td>Twitter for iPhone</td>\n",
              "      <td>False</td>\n",
              "    </tr>\n",
              "    <tr>\n",
              "      <th>4</th>\n",
              "      <td>DIPR-J&amp;K</td>\n",
              "      <td>Jammu and Kashmir</td>\n",
              "      <td>🖊️Official Twitter handle of Department of Inf...</td>\n",
              "      <td>2017-02-12 06:45:15</td>\n",
              "      <td>101009</td>\n",
              "      <td>168</td>\n",
              "      <td>101</td>\n",
              "      <td>False</td>\n",
              "      <td>2020-07-25 12:27:08</td>\n",
              "      <td>25 July : Media Bulletin on Novel #CoronaVirus...</td>\n",
              "      <td>['CoronaVirusUpdates', 'COVID19']</td>\n",
              "      <td>Twitter for Android</td>\n",
              "      <td>False</td>\n",
              "    </tr>\n",
              "  </tbody>\n",
              "</table>\n",
              "</div>"
            ],
            "text/plain": [
              "         user_name         user_location  ...               source is_retweet\n",
              "0           ᏉᎥ☻լꂅϮ            astroworld  ...   Twitter for iPhone      False\n",
              "1    Tom Basile 🇺🇸          New York, NY  ...  Twitter for Android      False\n",
              "2  Time4fisticuffs      Pewee Valley, KY  ...  Twitter for Android      False\n",
              "3      ethel mertz  Stuck in the Middle   ...   Twitter for iPhone      False\n",
              "4         DIPR-J&K     Jammu and Kashmir  ...  Twitter for Android      False\n",
              "\n",
              "[5 rows x 13 columns]"
            ]
          },
          "metadata": {
            "tags": []
          },
          "execution_count": 7
        }
      ]
    },
    {
      "cell_type": "code",
      "metadata": {
        "id": "7_qrOxjnr2Uc"
      },
      "source": [
        "import nltk\n",
        "import os \n",
        "import nltk.corpus\n",
        "#nltk.download('punkt')"
      ],
      "execution_count": 8,
      "outputs": []
    },
    {
      "cell_type": "code",
      "metadata": {
        "colab": {
          "base_uri": "https://localhost:8080/"
        },
        "id": "wUS4ZUmWpWaH",
        "outputId": "e0040707-2f04-404d-d930-d2a4c8a1dfe0"
      },
      "source": [
        "import nltk.corpus\n",
        "dir(nltk.corpus)"
      ],
      "execution_count": 9,
      "outputs": [
        {
          "output_type": "execute_result",
          "data": {
            "text/plain": [
              "['_LazyModule__lazymodule_globals',\n",
              " '_LazyModule__lazymodule_import',\n",
              " '_LazyModule__lazymodule_init',\n",
              " '_LazyModule__lazymodule_loaded',\n",
              " '_LazyModule__lazymodule_locals',\n",
              " '_LazyModule__lazymodule_name',\n",
              " '__class__',\n",
              " '__delattr__',\n",
              " '__dict__',\n",
              " '__dir__',\n",
              " '__doc__',\n",
              " '__eq__',\n",
              " '__format__',\n",
              " '__ge__',\n",
              " '__getattr__',\n",
              " '__getattribute__',\n",
              " '__gt__',\n",
              " '__hash__',\n",
              " '__init__',\n",
              " '__init_subclass__',\n",
              " '__le__',\n",
              " '__lt__',\n",
              " '__module__',\n",
              " '__name__',\n",
              " '__ne__',\n",
              " '__new__',\n",
              " '__reduce__',\n",
              " '__reduce_ex__',\n",
              " '__repr__',\n",
              " '__setattr__',\n",
              " '__sizeof__',\n",
              " '__str__',\n",
              " '__subclasshook__',\n",
              " '__weakref__']"
            ]
          },
          "metadata": {
            "tags": []
          },
          "execution_count": 9
        }
      ]
    },
    {
      "cell_type": "code",
      "metadata": {
        "colab": {
          "base_uri": "https://localhost:8080/",
          "height": 851
        },
        "id": "3sIR-iSRvHui",
        "outputId": "9ed8db2d-5c1f-4ccb-e8ab-ed940af20179"
      },
      "source": [
        "df"
      ],
      "execution_count": 10,
      "outputs": [
        {
          "output_type": "execute_result",
          "data": {
            "text/html": [
              "<div>\n",
              "<style scoped>\n",
              "    .dataframe tbody tr th:only-of-type {\n",
              "        vertical-align: middle;\n",
              "    }\n",
              "\n",
              "    .dataframe tbody tr th {\n",
              "        vertical-align: top;\n",
              "    }\n",
              "\n",
              "    .dataframe thead th {\n",
              "        text-align: right;\n",
              "    }\n",
              "</style>\n",
              "<table border=\"1\" class=\"dataframe\">\n",
              "  <thead>\n",
              "    <tr style=\"text-align: right;\">\n",
              "      <th></th>\n",
              "      <th>user_name</th>\n",
              "      <th>user_location</th>\n",
              "      <th>user_description</th>\n",
              "      <th>user_created</th>\n",
              "      <th>user_followers</th>\n",
              "      <th>user_friends</th>\n",
              "      <th>user_favourites</th>\n",
              "      <th>user_verified</th>\n",
              "      <th>date</th>\n",
              "      <th>text</th>\n",
              "      <th>hashtags</th>\n",
              "      <th>source</th>\n",
              "      <th>is_retweet</th>\n",
              "    </tr>\n",
              "  </thead>\n",
              "  <tbody>\n",
              "    <tr>\n",
              "      <th>0</th>\n",
              "      <td>ᏉᎥ☻լꂅϮ</td>\n",
              "      <td>astroworld</td>\n",
              "      <td>wednesday addams as a disney princess keepin i...</td>\n",
              "      <td>2017-05-26 05:46:42</td>\n",
              "      <td>624</td>\n",
              "      <td>950</td>\n",
              "      <td>18775</td>\n",
              "      <td>False</td>\n",
              "      <td>2020-07-25 12:27:21</td>\n",
              "      <td>If I smelled the scent of hand sanitizers toda...</td>\n",
              "      <td>NaN</td>\n",
              "      <td>Twitter for iPhone</td>\n",
              "      <td>False</td>\n",
              "    </tr>\n",
              "    <tr>\n",
              "      <th>1</th>\n",
              "      <td>Tom Basile 🇺🇸</td>\n",
              "      <td>New York, NY</td>\n",
              "      <td>Husband, Father, Columnist &amp; Commentator. Auth...</td>\n",
              "      <td>2009-04-16 20:06:23</td>\n",
              "      <td>2253</td>\n",
              "      <td>1677</td>\n",
              "      <td>24</td>\n",
              "      <td>True</td>\n",
              "      <td>2020-07-25 12:27:17</td>\n",
              "      <td>Hey @Yankees @YankeesPR and @MLB - wouldn't it...</td>\n",
              "      <td>NaN</td>\n",
              "      <td>Twitter for Android</td>\n",
              "      <td>False</td>\n",
              "    </tr>\n",
              "    <tr>\n",
              "      <th>2</th>\n",
              "      <td>Time4fisticuffs</td>\n",
              "      <td>Pewee Valley, KY</td>\n",
              "      <td>#Christian #Catholic #Conservative #Reagan #Re...</td>\n",
              "      <td>2009-02-28 18:57:41</td>\n",
              "      <td>9275</td>\n",
              "      <td>9525</td>\n",
              "      <td>7254</td>\n",
              "      <td>False</td>\n",
              "      <td>2020-07-25 12:27:14</td>\n",
              "      <td>@diane3443 @wdunlap @realDonaldTrump Trump nev...</td>\n",
              "      <td>['COVID19']</td>\n",
              "      <td>Twitter for Android</td>\n",
              "      <td>False</td>\n",
              "    </tr>\n",
              "    <tr>\n",
              "      <th>3</th>\n",
              "      <td>ethel mertz</td>\n",
              "      <td>Stuck in the Middle</td>\n",
              "      <td>#Browns #Indians #ClevelandProud #[]_[] #Cavs ...</td>\n",
              "      <td>2019-03-07 01:45:06</td>\n",
              "      <td>197</td>\n",
              "      <td>987</td>\n",
              "      <td>1488</td>\n",
              "      <td>False</td>\n",
              "      <td>2020-07-25 12:27:10</td>\n",
              "      <td>@brookbanktv The one gift #COVID19 has give me...</td>\n",
              "      <td>['COVID19']</td>\n",
              "      <td>Twitter for iPhone</td>\n",
              "      <td>False</td>\n",
              "    </tr>\n",
              "    <tr>\n",
              "      <th>4</th>\n",
              "      <td>DIPR-J&amp;K</td>\n",
              "      <td>Jammu and Kashmir</td>\n",
              "      <td>🖊️Official Twitter handle of Department of Inf...</td>\n",
              "      <td>2017-02-12 06:45:15</td>\n",
              "      <td>101009</td>\n",
              "      <td>168</td>\n",
              "      <td>101</td>\n",
              "      <td>False</td>\n",
              "      <td>2020-07-25 12:27:08</td>\n",
              "      <td>25 July : Media Bulletin on Novel #CoronaVirus...</td>\n",
              "      <td>['CoronaVirusUpdates', 'COVID19']</td>\n",
              "      <td>Twitter for Android</td>\n",
              "      <td>False</td>\n",
              "    </tr>\n",
              "    <tr>\n",
              "      <th>...</th>\n",
              "      <td>...</td>\n",
              "      <td>...</td>\n",
              "      <td>...</td>\n",
              "      <td>...</td>\n",
              "      <td>...</td>\n",
              "      <td>...</td>\n",
              "      <td>...</td>\n",
              "      <td>...</td>\n",
              "      <td>...</td>\n",
              "      <td>...</td>\n",
              "      <td>...</td>\n",
              "      <td>...</td>\n",
              "      <td>...</td>\n",
              "    </tr>\n",
              "    <tr>\n",
              "      <th>179103</th>\n",
              "      <td>AJIMATI AbdulRahman O.</td>\n",
              "      <td>Ilorin, Nigeria</td>\n",
              "      <td>Animal Scientist|| Muslim|| Real Madrid/Chelsea</td>\n",
              "      <td>2013-12-30 18:59:19</td>\n",
              "      <td>412</td>\n",
              "      <td>1609</td>\n",
              "      <td>1062</td>\n",
              "      <td>False</td>\n",
              "      <td>2020-08-29 19:44:21</td>\n",
              "      <td>Thanks @IamOhmai for nominating me for the @WH...</td>\n",
              "      <td>['WearAMask']</td>\n",
              "      <td>Twitter for Android</td>\n",
              "      <td>False</td>\n",
              "    </tr>\n",
              "    <tr>\n",
              "      <th>179104</th>\n",
              "      <td>Jason</td>\n",
              "      <td>Ontario</td>\n",
              "      <td>When your cat has more baking soda than Ninja ...</td>\n",
              "      <td>2011-12-21 04:41:30</td>\n",
              "      <td>150</td>\n",
              "      <td>182</td>\n",
              "      <td>7295</td>\n",
              "      <td>False</td>\n",
              "      <td>2020-08-29 19:44:16</td>\n",
              "      <td>2020! The year of insanity! Lol! #COVID19 http...</td>\n",
              "      <td>['COVID19']</td>\n",
              "      <td>Twitter for Android</td>\n",
              "      <td>False</td>\n",
              "    </tr>\n",
              "    <tr>\n",
              "      <th>179105</th>\n",
              "      <td>BEEHEMOTH ⏳</td>\n",
              "      <td>🇨🇦 Canada</td>\n",
              "      <td>⚒️ The Architects of Free Trade ⚒️ Really Did ...</td>\n",
              "      <td>2016-07-13 17:21:59</td>\n",
              "      <td>1623</td>\n",
              "      <td>2160</td>\n",
              "      <td>98000</td>\n",
              "      <td>False</td>\n",
              "      <td>2020-08-29 19:44:15</td>\n",
              "      <td>@CTVNews A powerful painting by Juan Lucena. I...</td>\n",
              "      <td>NaN</td>\n",
              "      <td>Twitter Web App</td>\n",
              "      <td>False</td>\n",
              "    </tr>\n",
              "    <tr>\n",
              "      <th>179106</th>\n",
              "      <td>Gary DelPonte</td>\n",
              "      <td>New York City</td>\n",
              "      <td>Global UX UI Visual Designer. StoryTeller, Mus...</td>\n",
              "      <td>2009-10-27 17:43:13</td>\n",
              "      <td>1338</td>\n",
              "      <td>1111</td>\n",
              "      <td>0</td>\n",
              "      <td>False</td>\n",
              "      <td>2020-08-29 19:44:14</td>\n",
              "      <td>More than 1,200 students test positive for #CO...</td>\n",
              "      <td>['COVID19']</td>\n",
              "      <td>Twitter for iPhone</td>\n",
              "      <td>False</td>\n",
              "    </tr>\n",
              "    <tr>\n",
              "      <th>179107</th>\n",
              "      <td>TUKY II</td>\n",
              "      <td>Aliwal North, South Africa</td>\n",
              "      <td>TOKELO SEKHOPA | TUKY II | LAST BORN | EISH TU...</td>\n",
              "      <td>2018-04-14 17:30:07</td>\n",
              "      <td>97</td>\n",
              "      <td>1697</td>\n",
              "      <td>566</td>\n",
              "      <td>False</td>\n",
              "      <td>2020-08-29 19:44:08</td>\n",
              "      <td>I stop when I see a Stop\\n\\n@SABCNews\\n@Izinda...</td>\n",
              "      <td>NaN</td>\n",
              "      <td>Twitter for Android</td>\n",
              "      <td>False</td>\n",
              "    </tr>\n",
              "  </tbody>\n",
              "</table>\n",
              "<p>179108 rows × 13 columns</p>\n",
              "</div>"
            ],
            "text/plain": [
              "                     user_name  ... is_retweet\n",
              "0                       ᏉᎥ☻լꂅϮ  ...      False\n",
              "1                Tom Basile 🇺🇸  ...      False\n",
              "2              Time4fisticuffs  ...      False\n",
              "3                  ethel mertz  ...      False\n",
              "4                     DIPR-J&K  ...      False\n",
              "...                        ...  ...        ...\n",
              "179103  AJIMATI AbdulRahman O.  ...      False\n",
              "179104                   Jason  ...      False\n",
              "179105             BEEHEMOTH ⏳  ...      False\n",
              "179106           Gary DelPonte  ...      False\n",
              "179107                 TUKY II  ...      False\n",
              "\n",
              "[179108 rows x 13 columns]"
            ]
          },
          "metadata": {
            "tags": []
          },
          "execution_count": 10
        }
      ]
    },
    {
      "cell_type": "code",
      "metadata": {
        "colab": {
          "base_uri": "https://localhost:8080/"
        },
        "id": "DOODrkZaqcbb",
        "outputId": "dbe45952-44e4-4d6d-94b2-bf0989f61f95"
      },
      "source": [
        "for i in df.text[:500]:\n",
        "  print(i, sep =' ', end=' ')"
      ],
      "execution_count": 11,
      "outputs": [
        {
          "output_type": "stream",
          "text": [
            "If I smelled the scent of hand sanitizers today on someone in the past, I would think they were so intoxicated that… https://t.co/QZvYbrOgb0 Hey @Yankees @YankeesPR and @MLB - wouldn't it have made more sense to have the players pay their respects to the A… https://t.co/1QvW0zgyPu @diane3443 @wdunlap @realDonaldTrump Trump never once claimed #COVID19 was a hoax. We all claim that this effort to… https://t.co/Jkk8vHWHb3 @brookbanktv The one gift #COVID19 has give me is an appreciation for the simple things that were always around me… https://t.co/Z0pOAlFXcW 25 July : Media Bulletin on Novel #CoronaVirusUpdates #COVID19 \n",
            "@kansalrohit69 @DrSyedSehrish @airnewsalerts @ANI… https://t.co/MN0EEcsJHh #coronavirus #covid19 deaths continue to rise. It's almost  as bad as it ever was.  Politicians and businesses want… https://t.co/hXMHooXX2C How #COVID19 Will Change Work in General (and recruiting, specifically) via/ @ProactiveTalent #Recruiting… https://t.co/bjZxzGPMbK You now have to wear face coverings when out shopping - this includes a visit to your local Community Pharmacy… https://t.co/OSu5Q4kdd7 Praying for good health and recovery of @ChouhanShivraj .\n",
            "#covid19\n",
            "#covidPositive POPE AS GOD - Prophet Sadhu Sundar Selvaraj. Watch here at https://t.co/7X5RTyKVji \n",
            "\n",
            "#HurricaneHanna #COVID19… https://t.co/06dZcGUnwL 49K+ Covid19 cases still no response from \n",
            "@cbseindia29 @HRDMinistry @DrRPNishank.Please cancel the compartment exa… https://t.co/kV2ZKmumu1 Order here: https://t.co/4NUrGX6EmA\n",
            "\n",
            "#logo #graphicdesigner #logodesign #logodesinger #icon  #minimalist #Abstract… https://t.co/0yPMoGqi9s 👋🏻@PattyHajdu @NavdeepSBains — no one will be safe from #COVID19 until everyone is safe. Will you commit to ensure… https://t.co/aWCJo6eKvC Let's all protect ourselves from #COVID19.\n",
            "It's real and the numbers are climbing up fast in the Continent.\n",
            "Let's n… https://t.co/byMSfxltrw Rajasthan Government today started a Plasma Bank at Sawai Man Singh Hospital in Jaipur for treatment of COVID-19 pa… https://t.co/cwfCcWyaDA Nagaland police on Covid-19 Awareness at City Tower Junction Dimapur.\n",
            "\n",
            "#Covid19 #keepsocialdistance… https://t.co/WOvFMqhuEO July 25 #COVID19 update\n",
            "#TamilNadu - 6988\n",
            "Discharge- 7758\n",
            "People tested - 61729\n",
            "Actice cases - 52273\n",
            "#chennai - 1329 Second wave of #COVID19 in Flanders..back to more #homework again... https://t.co/9swImZACMN It is during our darkest moments that we must focus to see the #light.~Aristotle \n",
            "https://t.co/YLlS4Kj85c… https://t.co/tFJB7l1Kaw COVID Update: The infection rate in Florida is following the natural curve that experts predicted if the initial cu… https://t.co/hmEwE747WK @EvanAKilgore @realDonaldTrump Good Patriots!\n",
            "Call to Volunteer to be an Election Judge. \n",
            "Polls cannot open without… https://t.co/qA3mA4zedZ Coronavirus - South Africa: COVID-19 update for South Africa (24 July 2020) @nicd_sa @MoetiTshidi @WHOAFRO… https://t.co/WQzAdkpXC5 @JimBnntt Your image doesn't list a source, but I'd be careful with overall \"risk of dying\" statistics related to… https://t.co/GRjVq8vYMy The first comprehensive review of #WASH &amp; #COVID19.\n",
            "\n",
            "Analysis: key ways in which WASH can help reduce transmission… https://t.co/eCsfDmo9b4 Holy water in times of #COVID19 https://t.co/YaZ49yxL27 #Kolar\n",
            "Need #Blood Type :  B-positive\n",
            "At : Jalappa Hospital\n",
            "Blood Component : Need Plasma from B+ve #COVID19 recove… https://t.co/XtgxULc02Z Our Munitions Response Team in #BosniaandHerzegovina modified ops and adopted masks, disinfectants, and sanitizers… https://t.co/lMbKXlw1wQ I can imagine the same people profiting off the human suffering of #COVID19 will be studying these maps to make 207… https://t.co/NElsmGju2H #TNCoronaUpdate\n",
            "\n",
            "#TN crosses 2 lakh mark and 1,50,055 ppp has recovered so far.\n",
            "\n",
            "#COVID19 positive today 6988/total… https://t.co/QdJkpcc7qv @ratasjuri TAX Reform\n",
            "\n",
            "Tax-free minimum:\n",
            "For a company of five hundred thousand euros per year.\n",
            "\n",
            "Tax-free minimum:… https://t.co/gD0Q6ujjbl #FEMA acknowledges #PuertoRico lacks rebuilt homes and a hospital to survive #COVID19  https://t.co/PLXqKc5K5d Actor @VishalKOfficial and his father Mr.G.K.Reddy tested positive for #Covid19 15/20 days back..\n",
            "\n",
            "While #Vishal 's… https://t.co/V5Lo8NRLWY An update on the total #covid19 cases, recoveries, and deaths reported in countries in #Africa.  See the total numb… https://t.co/eqCJ3EhwRi @unionwill @megawedgy @jjhorgan “Regarding the community outbreak of #COVID19 on Haida Gwaii: 13 cases (one recover… https://t.co/rJzuY60qY7 A safe place to visit? Here is what our guests said, \"The hotel were meticulous in applying hand sanitation and als… https://t.co/PVCji8s1Eg Our CEO @RamneekHH live with @SASCO_Jikelele WSU talking about, “The effects of Covid-19 on students”.… https://t.co/VMN2LxHAds @NicoleKowalski5 @chrisdameanor19 I'm feeling a little anxious because #COVID19 seems to have detracted everyone's… https://t.co/A3mHdXamLg Actionables for a healthy recovery from #COVID19 #climate  https://t.co/crGlKZOz5Z @jfoster2019 @bbclaurak Well #BorisJohnson might have understood more if he hadn't missed #5COBRA meeting #Five \n",
            "In… https://t.co/mQPAgCYGn2 We released two new #COVID19 podcast episodes this week:\n",
            "-Technology Platforms Used to Conduct Telehealth Visits\n",
            "-C… https://t.co/G94VeYVCzk #PlayYourPart in the fight against #COVID19 . Each one of us can make a difference in containing the spread, lets… https://t.co/fRzLgrS8Qf Britain didn't understand #Covid19 for months, while plenty of other countries did understand it and took effective… https://t.co/KV2CAQ6skZ Volume for those at the back please. 🔊 #COVID19 https://t.co/d0pn2Bv2Hx #Delhi reports 1,142 #COVID19 positive cases and 29 deaths on Saturday. Death toll rises to 3,806, reports ANI quot… https://t.co/JxsVpWMRQS @realDonaldTrump Venezuela's Economy/Budget are tied to Oil like Louisiana's. Funny how the right-wing \"example\" of… https://t.co/qvHvKlTbbv #TamilNadu | #COVID19 |  25th July\n",
            "\n",
            "●  TN - 6,988 (Highest Spike)\n",
            "\n",
            "●  Total Cases  - 2,06,737\n",
            "\n",
            "●  Chennai - 1,329… https://t.co/X8zgUzC0Gr Why has Ruto not eulogisied Mkapa!! \n",
            "Asking for Moses Kuria \n",
            "\n",
            "Raila \n",
            "#RutoSwindlingGEMA \n",
            "#COVID19 Coronavirus Testing Fiasco: St Mirren have pledged to undertake an \"urgent review\" of their Covid-19 testing proced… https://t.co/0MCEUERQ74 Coronavirus Testing Fiasco: St Mirren have pledged to undertake an \"urgent review\" of their Covid-19 testing proced… https://t.co/AkxvIaD1Pr #TamilNadu | #COVID19 |  25th July\n",
            "●  TN - 6,988 (Highest Spike)\n",
            "●  Total Cases  - 2,06,737\n",
            "●  Chennai - 1,329\n",
            "●  T… https://t.co/ZWFKJwZdEo Coronavirus Testing Fiasco: St Mirren have pledged to undertake an \"urgent review\" of their Covid-19 testing proced… https://t.co/Ifse0whbVE Coronavirus Testing Fiasco: St Mirren have pledged to undertake an \"urgent review\" of their Covid-19 testing proced… https://t.co/dx8Yt7CvsM Coronavirus Testing Fiasco: St Mirren have pledged to undertake an \"urgent review\" of their Covid-19 testing proced… https://t.co/h7p44XIzuk Testing per 10 lakh population in Jammu and Kashmir has reached 44,744 as against 12,742 in the country; Recovery r… https://t.co/jmxhF67V5V Coronavirus Testing Fiasco: St Mirren have pledged to undertake an \"urgent review\" of their Covid-19 testing proced… https://t.co/bfel6gyXIq Coronavirus Testing Fiasco: St Mirren have pledged to undertake an \"urgent review\" of their Covid-19 testing proced… https://t.co/eu5g2djZYx .@nytimes reporting that yesterday 1145 people died of #COVID19 in the USA. Over 73K new cases were reported. Serio… https://t.co/sFwP0v7FEB Crazy that the world has come to this but as Americans we will fight to get through this!🇺🇸🇺🇸🇺🇸🇺🇸🇺🇸 #covid19 @jimsciutto @JoAnnBaldwin55 People whose relatives have died from #COVID19 should file a class action lawsuit against Sinclair Broadcasting. US #CoronaVirus: 4,249,584 cases and 148,521 deaths reported in the United States to date.\n",
            "\n",
            "1,257 new cases and 31… https://t.co/j4TreMnKW5 #IndiaFightsCorona :\n",
            "\n",
            "📍 Do you agree that a mask is one of the most powerful accessories we have to fight against t… https://t.co/5VauORkmjG I miss isopropyl alcohol so much!!!! Ethanol in hand sanitizer smells like I poured tequila on my hands 🤢 #COVID19 GVMC sanitation staff carrying out the regular sanitation activities to keep the city clean and prevent the spread… https://t.co/bkrQ5x6BCK @SonuSood sir mom is in ICU due to COVID just want prayers from you and everyone who is listening you . #COVID19 Due to #COVID19 aka #Coronavirus Ill be sending the first 500 people to like &amp; retweet this $300 -$1500 through Cas… https://t.co/3MkuUsGBDk This video had me in stitches\n",
            "https://t.co/tadF3G6qKJ #obesity #زواج_راكان_الحربي #carryminati #my200vsbutch200… https://t.co/fsZ8NTuVDg See this Instagram post by @facts.covid19 https://t.co/glmd51L1OJ \n",
            "facts.covid19 Deaths rates not rising in lockste… https://t.co/SeZieeSxAk Local government sales tax revenue dropped 27 percent year-to-year in the second quarter, thanks to #COVID19 shutdo… https://t.co/oDky9LzrV5 Look at Lil’ Donny Micro Dick go!! What an astounding achievement of brilliance + cognitive capabilities. Somebody… https://t.co/82aEo6gL3q While you at it, please follow me\n",
            "\n",
            "https://t.co/KheirQEh6Z\n",
            "\n",
            "#Fergusons #DurbanJuly #alreadyvideo #COVID19 #WiseUp https://t.co/h1TYdOgjwv Concealed Nation 1 Million Giveaway https://t.co/HaMym0cBe3 \n",
            "I put my family's safety before all others, criminals… https://t.co/7QQxVLWqZd Check out Angel's beautiful mask and hair bow designs at https://t.co/BpmP8tRs7M #etsy #epiconetsy #masksforsale… https://t.co/fgl69zjMyq Thread by @DrZoeHyde (based on international research and evidence) 1. Updated thread on children and #COVID19, sum… https://t.co/A1xWVotp75 1 municipality reports one new fatality due to #COVID19, compared to yesterday.\n",
            "\n",
            "1 new fatality is located and 0 fa… https://t.co/6iJ5lV7ZqR When your home walls need an upgradation, always opt for the experts. Hire #MumbaiPainters and let your walls find… https://t.co/Kb5Yv2ZS9Z Covid to shrink power sector growth, take discoms back to pre-UDAY era\n",
            "\n",
            "https://t.co/DP5zpNLuUV\n",
            "\n",
            "#Industry… https://t.co/3ZiFoPdWU8 #SaturdayVibes: The current situation calls for more awareness and less stress. To facilitate that, families at our… https://t.co/1Qwd523BZp What economic measures are governments taking to respond to #COVID19? Key actions taken by 193 countries are listed… https://t.co/5FXaZWFaLW “#Covid19 is everyone’s fight. I have covered major disasters, but nothing like this before.\" \n",
            "\n",
            "@fabeha_monir, a vi… https://t.co/q3f9kP8rsq @Haggis_UK “I think the government has hugely overestimated the danger of the disease”\n",
            "I wonder if he’d be brave en… https://t.co/gWJc6nUKqo By the time you see a spike in #Covid19 cases, it isvery hard to reverse it without drastic lockdown. By the time y… https://t.co/A3S4AK3JH4 @realDonaldTrump @WhiteHouse See what your #political games with #Covid19 have achieved? This is not only shameful… https://t.co/JXvuzUqwfC Hi long time no see...... In preparation for us reopening we have been doing our homework and some...... #clean… https://t.co/GjEe5w9uY2 @theJagmeetSingh @MatthewGreenNDP you took money at the beginning of the pandemic from woman front line workers who… https://t.co/NXYIA38Rj6 How Ireland built its COVID-19 contract tracing app, which is so successful that U, S. states want to use it… https://t.co/f0DavA6psh Rakesh Sharma best business Coach in India\n",
            "Website: https://t.co/oG44LxC2Gg\n",
            "#salescoach\n",
            "#BusinessCoach \n",
            "#salesforce… https://t.co/GkipPLJMX9 Think the link between 5G and #COVID19 is the stuff of loony conspiracy-theories?\n",
            "Think again: this screen-shot is… https://t.co/UFXNtHGa7L #NSTworld There will not be a #NationalDayRally (#NDR) this year, due to safe distancing requirements as a result o… https://t.co/XJMZjyPCrn The cost of preventing further pandemics over the next decade by protecting wildlife and forests would equate to ju… https://t.co/8yqpH3GrLf Learn new things during this period \n",
            "2d and 3d animations training ongoing...\n",
            "Click the link below to join the What… https://t.co/lLovm5cWPi 2,000 women lawyers write to #AmitShah seeking 5 Lakh Loan per financially drained lawyer.\n",
            "#COVID19 #Coronavirus \n",
            "https://t.co/JEjVTeCjEn I literally am using my own head to make decisions on safety from #COVID19 as government are creating the most conf… https://t.co/Kji4e3yBty OK I'm angry now. I cannot believe the stupidity there is out there about #COVID19. This virus kills. How many must… https://t.co/kNBiYfPTXB #DurbanJuly  It's that weekend Y,all... It's a pity that this year we are facing #COVID19 and we can't go in person… https://t.co/k451xx2Ynv Let's give it a try #alreadyvideo #COVID19 #HurricaneHanna https://t.co/2HChuAfNHy Shout out to Earth. Hands down the worst reaction to a “emergency” I’ve ever seen. The Lottery never shut down and… https://t.co/wLGZ8wHymT #TamilNadu | #COVID19 |  25th July\n",
            "\n",
            "●  TN - 6,988 (Highest Spike)\n",
            "\n",
            "●  Total Cases  - 2,06,737\n",
            "\n",
            "●  Chennai - 1,329… https://t.co/BFYb3AHGBi @WLOS_13 @wcti12 @thecw22 @myrdc @ABC45TV Please tell us you not going to run that Qanon conspiracy\n",
            "theory (banned… https://t.co/bYOIITE5kh You can all #PlayYourPart in the fight against #Covid19.  We’re all #InThisTogether. Cavan Ladies Footballer Aishli… https://t.co/JtU6MDq2tl The Egyptians ain't got shit on this. #COVID19 https://t.co/kl5lzOJaxO Voices from the Belt and Road: COVID-19 rap song alerts to needed precautions when returning to work\n",
            "#beltandroad… https://t.co/O39NmfUDmc PR :  @VishalKOfficial and his father Mr.G.K.Reddy tested positive for #Covid19 15/20 days back..\n",
            "\n",
            "While #Vishal 's… https://t.co/CSXEqIWtig Not only is the area about to be hit by #hanna a #COVID19 hotspot, but Hurricane Harvey work is ongoing. Still. 1.28% of the U.S. population is infected with Covid-19 \n",
            "#COVID19 \n",
            "#TrumpVirus \n",
            "#MaskItOrCasket My latest on #FoxNews - #COVID19 keeps Wish Children waiting as #WaltDisneyWorld re-opens. @GKTWVillage unable to b… https://t.co/jXCXwifFTb @Prof_Wombat @vickihickory @ROhsolovely @realDonaldTrump Imagine thinking your toddler-in-chief didn't ignore it ja… https://t.co/MtM8ESVchV .@headout with a dashboard to boost post-#COVID19 #travel https://t.co/0gnRgqvLlh #coronavirus #COVID19 disproportionately affecting communities of color, especially #Hispanic #Latinx ones in my ho… https://t.co/01gV4rcK1u As debates ensue about reopening schools 🏫 amid #COVID19, @WomenDeliver Young Leader @olorunisola8 of #Nigeria says… https://t.co/EGkaAKXGym Companies must protect their workforce’s physical and mental health during the crisis. The use of smart technology,… https://t.co/uExGQbwx1I Today's cases:  92\n",
            "Total cases: 4102\n",
            "Today's sample: 602\n",
            "Today's cured: 45\n",
            "Total cured: 3233\n",
            "Today's death: 2\n",
            "Total… https://t.co/tmrdKOWoma #DrKawana, Minister of Fisheries and Marine Resources, what’s the hold up now? Please release announce the names of… https://t.co/WurEtJyKGX Highest ever number of new cases yesterday #coronavirus #covid19 #STAYatHOME https://t.co/oovQrvMviY @eldiablo0786 @outercircles @RedMajid @A34SafetyAction @BrumLeader @elaina22475794 @CllrMajid @AKAsusangreen… https://t.co/AkiidjpCpe @toadmeister Yes, evidence has increased. Plus early WHO guidance was due to the global PPE shortage - priority to… https://t.co/Emdvdhx9Nw @bubbaprog 350 school employees exposed to #COVID19 in Manatee County schools over the summer https://t.co/GxiYb61ay0 @BenJamesPhotos Italy #BenPC  #LOCKDOWNPHOTOCHALLENGE #COVID19 https://t.co/27jyDBhbMc Cum Check It Out. Ill DM You Nudes!\n",
            "https://t.co/93MX6QIvAS\n",
            "#onlyfansbabe #ihaveajoke #onlyfansgirl #alreadyvideo… https://t.co/VHgsyRMeiM If CM of Madhya Pradesh is tested positive for COVID, then Scindia should also be tested for #COVID19. Four mayors reflect on their evolving response to the coronavirus pandemic https://t.co/TMqFfkPjcC  👈 click the lin… https://t.co/ZmqzTU7Nsv Bihar witnesses biggest single-day spike of 2,803 new #Covid19 cases\n",
            "\n",
            "https://t.co/zTPksALE7T https://t.co/979SPKzt3w Lunch in #Amsterdam away from the mass tourists that have invaded so quickly during the #COVID19 pandemic ! #travel https://t.co/DBCPWA0Ao9 We've captured a snapshot of the amazing VCSE response to the #COVID19 pandemic in Salford. \n",
            "\n",
            "We want to say thank… https://t.co/kPum9Ajq72 About 22,000 nonprofits will eventually close their doors for good as a result of the current economic crisis, acco… https://t.co/2PSnJgFVfd Punjab Govt Warns People Not to Click on Any URL Circulated via SMS/WhatsApp Claiming COVID-19 Relief Package of Rs… https://t.co/tOVrae0N2V The worst type of spread. #COVID19 #COVIDー19 #COVIDIOTS https://t.co/zyhtCU0A4B Wells Fargo Tightens Purse Strings to Ride Out Coronavirus Pandemic \n",
            "\n",
            "READ MORE: https://t.co/c86mzwRrnK\n",
            "\n",
            "#cdc… https://t.co/TJIxxLyVhQ This is a really informative and interesting 🧵. Lots to think about, especially if you have school age kids.… https://t.co/hBee6ZGnYA @travellerboxers Agreed !!  💯% \n",
            " But why I mean, what exactly was his problem with travellers ❤️\n",
            " He needs educatin… https://t.co/TdlxiJKpCV Veteran Affairs reports 252 new cases and 13 new deaths bringing total confirmed cases there to 35,563 and 1,980 to… https://t.co/92FnCL6EVR Irish home / commercial building model is the perfect breathing groung for the #COVID19  virus. Each trade is treat… https://t.co/YNyXtWrnCC \"Think-piece on Gender and Climate Change in the context of #COVID19\"\n",
            "\n",
            "https://t.co/BJE2s3WtG7\n",
            "\n",
            "@parimitaenergy… https://t.co/cVGpy53RNK #Leicestershire residents – if you develop any #Covid19 symptoms, even mild ones, book a test immediately at… https://t.co/Nmz8sJORJp I’m emotionally exhausted find my way coming soon ‼️#my200vsbutch200 #royalehightrades #alreadyvideo #MTVHotttest… https://t.co/LsqaRfGoAn Actor @VishalKOfficial and his father Mr. GK Reddy tested positive for #Covid19 a couple of weeks ago.\n",
            "\n",
            "#Vishal's f… https://t.co/6kk3mBMcIQ Just imagine...going back to sitting on an average of nearly 6.2 DAYS / year in the car in standstill traffic in Lo… https://t.co/kReiLNFqav Global fatalities chart for the last 24 hours..#COVID19 \n",
            "\n",
            "1. Bolsonaro\n",
            "2. Trump\n",
            "3. Modi https://t.co/D7BHp4xEE3 You don't drown by falling into a river, but by staying submerged in it.\n",
            "\n",
            "#facts #SaturdayMotivation #truth… https://t.co/Cl9uVqkTUK #COVID19:  #UttarPradesh CM @myogiadityanath directs officials to enhance #COVID-19 testing capacity to one lakh te… https://t.co/k67oJRG3Q8 Sounds like Plandemic is about to get a second life. Here’s a thread from it’s first run, that debunks its major cl… https://t.co/uGOPrGxbCp @princesscaro85 @NVGOP @marquezjesso @andylukechoi @FlocchiniAmanda @LaCubanaMisfit You should know better. Trump,… https://t.co/mEmjKjB4eN For me, someone who has been affected by social anxiety, wearing a face mask is amazing. I feel slightly hidden fro… https://t.co/t5zBRcraUp @badbitchinaz I’d pay the Republicans to leave America #VoteBlue2020 #VoteForBiden #VoteBlueToEndThisNightmare… https://t.co/bGRMueT7WS Vietnam’s high level of preparedness to prevent Covid-19 spread: Deputy PM #Vietnam #covid19 #coronavirus #ncov… https://t.co/H2hJRzkEZl @KGeorgieva @Lenin You're totally wrong. Ecuador is the Latin American country with the most causable mortality wit… https://t.co/w1xlNgLeSJ @CBCTheHouse @PattyHajdu @CochraneCBC #Covid19 Fatigue, people in front lines we cannot replace,  that is #Fatigue!… https://t.co/8pk0Vik8gX We provided a North Devon tourist attraction with a digital #twowayradio solution even before #COVID19 struck. As w… https://t.co/kLwJHahlkq Mask Print #1 (Londoners Wear Masks) https://t.co/N1zwBuf1No #MaskUp #mask #Masks #MaskMoaners #COVID19 #COVIDー19… https://t.co/W7uBNQomP2 #RepublicansForBidenNow #COVID19 \n",
            "Republican Group Uses Trump's Own Words Against Him In Searing Swing-State Ad… https://t.co/9fhivsvvHf @SkyNews Of course it's #COVID19 and absolutely nothing to do with this diabolical government who had almost triple… https://t.co/7JnGp3JLZW I had the opportunity to discuss the legacy of mistrust that Black communities have towards the medical community a… https://t.co/6EBJDIzuZT How about everyone can spread #COVID19. Another study not accurate! https://t.co/8h5OC3AzYq Learning is fun, interesting and surprisingly quite easy. Let’s join WLF Nigeria Ambassadors to promote learning a… https://t.co/rj1wtaf3uV Today's the day for #TheBigSpend to buy local &amp; support our #COVID19 rebuilding process. Shop at a local small busi… https://t.co/4xXcPttzqg @realDonaldTrump You mean you actually did your JOB after almost 4 years of dodging it?\n",
            "\n",
            "I don’t get thanked for do… https://t.co/gZcEljJQp5 #TravelTuesday #COVID19 *Excellent data charts which map how CV is progressing through our societies. They are also… https://t.co/TswUuwfSWY @HouseofBobber @SmithWinstona @BlackManOfKAG @cangal21 What a coincidence, influenza cases are unusually down.… https://t.co/UCeqTLOtIF 7813 new positive #COVID19 cases reported in #AndhraPradesh from last 24hours \n",
            "\n",
            "#APFightsCorona #StayHome https://t.co/MkpUtMvtyZ (1) Two quick estimates of the Arizona post apex recovery rate:\n",
            "\n",
            "7/03:  3,849 7d avg Peak #COVID19 Confirmed Cases… https://t.co/Tsi7BpsqJQ #AR State Sen. Jason Rapert Preached at a Mask-Free Church; Now He Has COVID https://t.co/J9rcqicIHc \n",
            "I'm sorry--is… https://t.co/A6dvDYcP7i Trump hates looking like a loser — right now he looks like one of the biggest losers in U.S. history: op-ed… https://t.co/5W9ybguQuX You want to cheat in WAEC which are you carrying #BBNajia #COVID19 #TachaDanceChallange #SayNoToNipostFee… https://t.co/4sEtgTAPNY #Kerala Private hospitals #covid treatment rates in ₹\n",
            "General Ward 2300\n",
            "HDU 3300\n",
            "ICU 6500\n",
            "ICU ventilator 11,500\n",
            "In… https://t.co/NWgix2xAUj Due to the epidemic I'm giving $80 - $1000 to any person out there looking, it might not be able to go round but i… https://t.co/BfX03CbW6F @JoeBiden What fight is the creepy and delusional basement dweller referring to? The only battle is keeping… https://t.co/gD8rzRpSc5 395 new cases and 3 new deaths in Uzbekistan \n",
            "\n",
            "[13:22 GMT] #coronavirus #CoronaVirusUpdate #COVID19 #CoronavirusPandemic #BIGNEWS: #Rajasthan Governor Kalraj Mishra appeals to all #COVID19 recovered patients to donate their plasma, says… https://t.co/oNsDHDdaYG “Until the day we have a medical vaccine, food is the best vaccine against chaos.”  - @WFPChief David Beasley. \n",
            "\n",
            "Am… https://t.co/pEYhGxDRPN In Nigeria hapless and unfortunate citizens are taxed ever increasing tariffs for these things. Even without lettin… https://t.co/860upMqDYV Your friendly weekend reminder that COVID didn’t go away because you got bored. \n",
            "\n",
            "#wearamask #covid #covid19… https://t.co/5Xjoivu9Ze Local TV stations owned by Sinclair Broadcast Group are set to air discredited Plandemic researcher's conspiracy th… https://t.co/RBoQTSdsns Photos: #UAE hospital launches support group for #Covid19 patients https://t.co/wLnFggHSQL @Intuitive1966 Yes but \n",
            "“we’re learning more about #COVID19 every day” &amp; \n",
            "“we’re listening to the science”.… https://t.co/aJW17HoIu8 Alhamdulillah ❤️\n",
            "Coronavirus: No deaths reported for 48 hours in Qatar. 🙏🙏🙏\n",
            "\n",
            "#Qatar #COVID19 #Coronavirus… https://t.co/29PAfpdt5x PRANIK'S Giloy Capsules gives you far-reaching benefits to fight against the infections and boost your immunity.… https://t.co/JlZXHZT1A1 #COVID19: 5,690 RTPCR/CBNAAT/TrueNat tests and 14,819 Rapid antigen tests conducted today. A total of 9,29,244 test… https://t.co/LtdrWlVZiX @RepMattGaetz @realDonaldTrump @GaetzTakes How much will dead and  #COVID19 sufferers spend? #Virtual #CHRO #PanelDiscussion on Re-imagining #workplaces amid #COVID19 on July 29 \n",
            "Register @… https://t.co/OQhX0QZD4I @GovernorGreg’s actions killed.  Are still killing.\n",
            "\n",
            "What’s that word we use for people who willfully and intention… https://t.co/6NUDsOh6zS Are people working in shops supposed to wear face covering? #COVID19 #England Delta flight departing from Detroit has to turn around as 2 guests refuse to wear masks\n",
            "#airlines \n",
            "#coronavirus… https://t.co/vFyQ1AFrB7 @fkeyamo Please can someone educate me on the application process since physical presence isn't possible due to… https://t.co/bD3Iek1PkE Puerto Rico reports 573 new cases and 10 new deaths bringing total confirmed cases there to 14,540 and 201 total de… https://t.co/iNO9S2jXVY 1,142 #COVID19 positive cases, 2,137 patients recovered/discharged/migrated and 29 deaths in Delhi today. There are… https://t.co/qF6QYCjcmd Dying WITH #COVID19 is not the same as\n",
            "\n",
            "Dying from #COVID19- huge difference.\n",
            "\n",
            "The #FakeNews and #Democrats are usi… https://t.co/6JY9Z05zEf If you thought that you would have a shorter line by arrive 45 min early at the brewer testing center.... you would… https://t.co/DQxat0X8xO #Airlines that design #COVID19 recovery plans with human-centered mindset will likely be in the best position to th… https://t.co/aAfvuqvW0v Deeply saddened by the untimely demise of Constable Krishna Kanta Burman due to #COVID19. He was posted in Hastings… https://t.co/uo48jr8l10 #Maharashtra Government Cuts Syllabus by 25% For Students in Class 1-12 in View of #COVID19 Pandemic, Says School E… https://t.co/H58P59UuMV #Jaipur | Rajasthan Government today started a #PlasmaBank at Sawai Man Singh Hospital in Jaipur for treatment of… https://t.co/J1geY43a16 @USCIS unlike most of the federal government, largely depends on funding from fees it collects on citizenship, gree… https://t.co/7TCmWf6PU5 Big Q: Parents: if you have flexibility to work from home or send your child to school, what would data/information… https://t.co/tw7Dz1V0OG How is the US such a colossal #COVID19 failure? https://t.co/jKcTgTF67V #Win a copy of the @positiv_planner with @motherhoodreal to support your #mentalhealth after #Covid19:… https://t.co/6pYVeIIBJm Rutland's own, supporting #COVID19 testing https://t.co/sVtRf11T3s @urstrulyMahesh @SCSC_Cyberabad @cyberabadpolice It's time all our beloved survivors of #COVID19 should now be a… https://t.co/QFrBbHlsd7 100% feeling good and 0% some symptoms🙃 Long May it last 🤞🏻 #COVID19 🦠🤛🏻 https://t.co/37Dc8BweJO You want to understand Improving Quality? It represents the soap and water to wash your hands with during #COVID19.… https://t.co/EnzxPEExIJ @TheDailyEdge @seanhannity @FoxNews So he can spread lies, hate, sexual violence, and murder. #COVID19 #FoxNews Just home from town &amp; there were so many people wearing masks incorrectly. I feel a bit frustrated by it but I’m ch… https://t.co/wTwZ1seQhV ##COVID19 and New York retail https://t.co/aUv60GNyfE #COVID19: Delhi reported 1,142 new cases and 29 deaths today, taking the total number of cases to 1,29,531 and death tally to 3,806. How can tech leaders help position their organization’s #techstrategy in a way that aligns with shifting investment… https://t.co/AIDJS3QvvA #Danang #COVID19 patient's health gets worse quickly, prompting doctors to use #ECMO &amp; filter blood… https://t.co/0c09GtUX61 @UrsulaIreneRay1 @VijayShadean #SouthAfrica #tourism @GoToSouthAfrica #CarteBlanche #COVID19 #Cricket #Rugby not sure of the breed How has having #ColleaguesForLife helped #DeloitteAlumni Karen Seminara-Patton co-found an organization to help med… https://t.co/xcbg2VesYY Successful #openingday with a #grandslam #walkoff by matt_olson21 !Was anyone else thinking: SIX FEET, with this ce… https://t.co/x8WJ0FnIFq #Brazil’s #Bilsonaro who tested positive for #COVID19 says his latest test result was negative. From more than 1,000 deaths in the US, fourth day in a row to questions about the global supply chain's ability to… https://t.co/wP58MfbT8E If you have been affected by the brief #COVID19 lock down, take some time to think of the animals we have permanent… https://t.co/6mEum6Ruau #COVID19: 1,142 positive cases, 2,137 patients recovered/discharged/migrated and 29 deaths in #Delhi today. There a… https://t.co/i8m34hJodD Check out my latest article: Three Supply Chain Risks That Could Thwart A Successful COVID-19 Vaccine… https://t.co/3Tdkknwns7 STOP FOGGY GLASSES WITH THIS HACK!!!!!! #COVID19 #facecoverings #maskproblems #facemask #hack #maskhack #MaskMoaners https://t.co/IjuRQVuBHL Symptom Duration and Risk Factors for Delayed Return to Usual Health Among Outpatients with #COVID19 in a Multistat… https://t.co/wNUL5Bd5Ok #COVID19 is the religion of 21st Century Jews fighting 21st Century Christian Evangelicals @kenolin1 That's an admission from @realDonaldTrump, probably the only truth we'll ever hear from him, that he regr… https://t.co/QgrbHcUvy8 There must be bad #times in order to appreciate the #good ones. ~Jeffrey Duarte https://t.co/rRoQRhtM5Z\n",
            "#depression… https://t.co/AetE9xyDbc PR :  @VishalKOfficial and his father Mr.G.K.Reddy tested positive for #Covid19 15/20 days back..\n",
            "\n",
            "While #Vishal 's… https://t.co/wV5foDZswX @BenJamesPhotos Pink #BENPC #LOCKDOWNPHOTOCHALLENGE #COVID19 #SaturdayMorning #flowers https://t.co/DLGgosBPjQ National and state impact of #COVID19 on our elder population. This is a societal loss of wisdom, history, and of s… https://t.co/4gaIfWiDcB #COVID19 in #AndhraPradesh:\n",
            "\n",
            "-7,813 new cases\n",
            "-52 more deaths\n",
            "-53,681 more samples tested\n",
            "-3,208 more discharged\n",
            "-E… https://t.co/lKlZORk7r7 ALERT: Eye Opener: Rep. John Lewis remembered - Global Pandemic News | #Coronavirus #COVID19 #Protests -… https://t.co/D8C1Ps4ebx My uncle just tested positive for #COVID19 , we already lost 3 family members. \n",
            "\n",
            "PLEASE wear a mask,social distance. https://t.co/YoXI0LbeLI Venrap Radio Now Playing Venrap Radio by Stay safe during this #COVID19 we love you Download our app or listen on… https://t.co/eQQGBJ8M5E “The anxiety surrounding COVID-19 has caused Bipolar and Chron’s Disease to flare up quite badly”\n",
            "\n",
            "Read more of you… https://t.co/oMFMm4ALPR We Shall Over Come! With victory in our minds in our #FightAgainstCorona, our retail outlets across India are adher… https://t.co/qwNPUCXbxj Absolutely NO... If they had, we wouldn't be standing at 3rd position worldwide with more than 12 lakh #COVID19 cas… https://t.co/qxWoJLGCaZ #CORONAVIRUS update 7/25/2020:\n",
            "*Nearly 40 countries report record single-day increases in infections.\n",
            "*US records o… https://t.co/PbHPWgfd6U In the US, even those with insurance face possible economic burdens from the pandemic.\n",
            "\n",
            "Tens of millions of America… https://t.co/Wje81ryIkV Undercover inspectors are deployed by the @AbuDhabiDED to make sure that all anti- #Covid19 measures are being foll… https://t.co/LNdyGBFXIt Hospital cleaners, porters &amp; catering staff are unsung #COVID19 heroes. Tell @issworld to pay them a fair wage… https://t.co/tSrg8MgqLx #Manufacturing production activity begins to echo 2019 trends, indicating further industry normalization. But will… https://t.co/ZrjOg5KZqN #COVIDUpdates: AP records as many as 7,813 new cases in the last 24 hours taking the tally to 88,671. 52 deaths wer… https://t.co/WRxXzhOFVA Economies participating in the Asia-Pacific Economic Cooperation (#APEC) reaffirmed the prioritization of economic… https://t.co/fXIWpmUDNl WORLD #NEWS #TODAY SHORTENED FOR BUSY PEOPLE\n",
            "https://t.co/lcRKTCWIdy\n",
            "\n",
            "#politics #trump #money #wisdom #leadership… https://t.co/pPWyxba1SF #APEC reaffirms #COVID19 economic recovery priorities, movement of essential goods https://t.co/sWRE9l9Fss July 25 #covid19 trend report for Dallas TX. DFW covid cases, hospitalizations, deaths, 7-day average.… https://t.co/RztOCAn19h Cautious optimism? Arizona May be plateauing with #COVID19   Potential good news.  https://t.co/j20GOpHK04 Want A #COVID19 Test? It’s Much Easier To Get In Wealthier, Whiter Neighborhoods #TestingWhileBlack https://t.co/vCdDRLHFEs @jkenney @AdrianaLaGrange @RachelNotley @shoffmanAB sit in a room together &amp; find a solution please. Parents need y… https://t.co/xqaO5tG5UH @WalshFreedom @freddyatton I just realized, if trump &amp; @GOP were to win (God Forbid) and they finally stripped ACA-… https://t.co/gk8AS397q3 Pleased to share our interesting results from worldwide survey of impact of #covid19 on bariatric surgery. Need rob… https://t.co/Xru8SrE3BK 🤔Remember when Trump told us that one day it would miraculously dissapear⁉️He was talking about your family, friend… https://t.co/mC4BnFqquE Hon. Municipal Commissioner, Shravan Hardikar appeals to all patients recovered from #COVID19 to #donate their… https://t.co/DVfM8opTVv @NBCNews @TODAYshow 6 feet apart, no #masks, indoors. #COVID19 bad examples.\n",
            "How R U going 2 get the kids 2 wear em… https://t.co/EAD1loS5U7 The truth about #COVID19 has to be around here somewhere.\n",
            "\n",
            "#coronavirus update #SaturdayMorning #saturdayvibes https://t.co/7hiLER0fHc #coronavirusspain #COVID19 Warning! #Spain could once more be a death trap: second spike! #Catalonia #Barcelona has… https://t.co/AUFXd60ns1 Three Cs is a term I hadn’t heard before. Good advice. \n",
            "\n",
            "#GoodAdvice \n",
            "#COVID19 https://t.co/ykSvJbILKP #Delhi | 1,142 #COVID19 positive cases, 2,137 patients recovered/discharged/migrated and 29 deaths today. There are… https://t.co/Ty7BH1aVgO Great to be with @ABC7Robert yesterday on @ABC7GMW #SocialDistancing #BBQ #COVID19 #COVID19 https://t.co/XSi0CvTSga Yes!\n",
            "#WakeUp #COVID19 #Fake #Plandemic #Exosomes #VirusTheory #5G is the real #Virus #SayNoToBillGates… https://t.co/fj9wHAH7IV We are pleased to announce the inclusion of the Virology Laboratory, University of Nigeria Teaching Hospital, Enugu… https://t.co/uxdPxiHN3J Why are apartment buildings exempt from the mask requirement? It makes no sense. There's probably 300 people in my… https://t.co/pS2nCZdPym Great tips from our friends at @samhsagov! #COVID19 #InThisTogether https://t.co/BtsiHvnGB3 ALERT: Parents decide whether to send kids back to school as\n",
            "coronavirus spreads faster than ever - Global Pandemic… https://t.co/4xlpmk4Zel Does a football jersey count? First MD in the NFL, opting out to care for others. #MedBikini #COVID19 @Chiefs… https://t.co/z3JtqQG6HQ “Since everything stopped because of the pandemic, I haven’t had any information from [LALA]. Nobody has contacted… https://t.co/FvHjSj6mMJ Pandemic could push more N. Carolina families to home school | Miami Herald https://t.co/7OhF8j1uMb #homeschooling #COVID19 #coronavirus #NC This impactful video by a Liv McNeil demonstrates in 3:22 minutes why all students need outdoor learning.… https://t.co/t9j2ao0EVe Government (Tabla player) of most of the countries during #pandemic \n",
            "#COVID #COVID19 https://t.co/7Ww1o4IFxL Since everything’s changing with #COVID19, @RedSox can we start playing this version of Sweet Caroline at games? Th… https://t.co/572lQQDwhc I use many sources for my #COVID19 guidance. \n",
            "\n",
            "I do use the CDC for some things but I have to fact check their sour… https://t.co/ipYUezB7zh It so brilliant to see people awake and not accepting the #COVID19 mainstream narrative. Coronavirus - Kenya: COVID-19 Update (24th July 2020) \n",
            "\n",
            "@MOH_Kenya @susan_mochache @MoetiTshidi @WHOAFRO @DrTedros… https://t.co/48HVIXqpYP #alreadyvideo #RihannaXTiwa #ObasekiFlagsOffToday #COVID19 #TachaDanceChallange #FraudbyQuodjoe #BBNaijia2020… https://t.co/CCUsUOEMsd 100%  feeling good ! Sounds like a soul song ! #COVID19 https://t.co/E5fp3sIBl5 EKITI COVID-19 UPDATE: As at 09:00 am on July 25, there are forty-two (42) active cases of #COVID19 in Ekiti State.… https://t.co/qdXGA4fuMD Are we still doing the travel credit ???\n",
            "#COVID19 #Stimulus Thanks ⁦@GovofCO⁩ for stressing personal responsibility with a #facecoveringmandate limiting the spread of #COVID19… https://t.co/yBaJfUNY5W Follow the advisory to fight #COVID19 at your workplace. Your safety is in your hands. Stay alert, stay safe.… https://t.co/qOLYT7XQCD The #Ukraine's President renewed the invitation to Abdel Fattah al-Sisi to visit Ukraine after #COVID19 is over. Ab… https://t.co/Qni2Z9WjFY #GoodJobCop #SaturdayMotivation \n",
            "\n",
            "DCP Hari Kiran @chennaipolice_ helped Radhe Amma (50), a sanitary worker, get a j… https://t.co/lHaZ5CxhsX Sad Reality: Hundreds of Cars line up drive thru Food Drive in Florida https://t.co/3pQoULuznu  \n",
            "\n",
            "#COVID19 @CPKolkata @KolkataPolice It would be a commendable step taken by the @KolkataPolice personnel in regard to fight a… https://t.co/WQnNLN7CBT \"This development is very worrying and will continue to be monitored very closely by the RKI.. A further exacerbati… https://t.co/uDBCgnQIth If this is not AWESOMENESS, I don't know what is👇👇👇\n",
            "\n",
            "#BBNaijia2020 #RihannaXTiwa #alreadyvideo #COVID19 https://t.co/gUjp3t8OLd @BenJamesPhotos A new beginning 6yrs ago.  A wonderful new addition to our family. Marley has brought us all so muc… https://t.co/tlZIstA3xs Drive-through #COVID19 testing hours at the Kinsmen changing on Monday 👉 https://t.co/St5xGZnlIS https://t.co/foVq2iBU2q Even when we have a #COVID19 vaccine, are face coverings here to stay? It feels like a massive shift towards more a… https://t.co/K4K8BqVTZT @LiamMcBaen They say, \"One is the loneliest number,\" anyway. \n",
            "\n",
            "#WearAMask #realmenwearmasks #toughguyswearmasks… https://t.co/sPEAaY1LXJ Dr. Ebrahim Janahi, CEO of Tamkeen confirmed that supporting sectors affected by the coronavirus pandemic have reac… https://t.co/l5DZe947SU I hate #Covid19 coz it made me lose the love of my life. The pain is so unbearable yooh🤞🏿. I hope to heal one day🍀🌿… https://t.co/9SIOLgvqeo 183 coronavirus cases linked to Al-Taqwa College in Melbourne but the commentary is nearly non existent. Imagine th… https://t.co/up6DhfZxo2 An expert explains: Why it's wrong to talk about a second wave of COVID-19 https://t.co/nFHAIhd9VL #covid19 @mick_inLa Yes, the hoody #TrayvonMartin the mask #COVID19. As far as followers, I don't have any real friends in l… https://t.co/97OH1psSZt Absolutely !! Exceptional situations need extraordinary solutions. We cannot fight the same battle with usual measu… https://t.co/93FjlTofsK Every time you demonize \"the left, Democrats, liberals\" and people who oppose you...you are REJECTING THE MAJORITY… https://t.co/JC89mIb2Jo Help slow the spread of #COVID19 and identify at risk cases sooner by self-reporting your symptoms daily, even if y… https://t.co/u68CCkBZ1p #COVID19 #testing programme on #Cyprus customer service employees ongoing.\n",
            "\n",
            "Source: https://t.co/zqOR1zCbmx My Late Baby Sister left behind three sons. The eldest, on the far right was just diagnosed with #COVID19. He’s in… https://t.co/3bnCpoWCMI #COVIDUpdates: #COVID19 cases in the last 24 hours as on 25/07/2020 till 10 AM \n",
            "#APFightsCorona #COVID19Pandemic https://t.co/wEfGviENYT Remember that nonsense about Obamacare and “death camps?” At least with the GOP in charge of a pandemic you get to… https://t.co/KuPgnbaFGX #bbcaq Oh yes, I am sure we will be perfectly happy with self-certification re #distress with #wearingamask #wearamask #viralload #COVID19 Students are stressed due to this pandemic and are not mentally prepare to give exams.Moreover they are also going… https://t.co/8pSPqPpJ6A Bored on Saturday morning? Tired of reading Covid-19 drama? Take a break and watch Ginger in her new shoes:… https://t.co/2BQ8rRaAV2 Who needs a Green List when we’ve got this on our doorstep?🤷‍♀️🥰 #Kerry #Staycation2020 #Cloghane #COVID19… https://t.co/ht36eNK9Hq @wodarg called for an inquiry into the influence of #BigPharma on #WHO during the H1N1 pandemic. Should we call for… https://t.co/bxDx7KiATe Our director will be speaking shortly on the Peoples Assembly event on the future of industry, jobs and rights at w… https://t.co/oZZbq6rgup A review of the recent study (now retracted) which connected #5G with #COVID19 \n",
            "\n",
            "https://t.co/4eEdoiiz1W Hello Twitter! Delighted to share with you the great innovators, creators and thought leaders. Visit our website an… https://t.co/oqPqyYGzNl Go Headlines: #TopNews Of The Hour\n",
            "#Rajasthan political crisis: Will stage sit-in outside PM House if needed, says… https://t.co/agmm4wCoi7 Another #ExGop-er \n",
            "Amazing that it took the #pandemic for her to regret her choice; but hey, better late than never… https://t.co/glFm9zcecO It took two weeks with a limited population for one of my members to test positive for #COVID19 and we've followed… https://t.co/ob75JlMLYD Dear @realDonaldTrump before the Covid vaccine goes to market PLEASE repeal the 1986 Act that removed liability fro… https://t.co/TuTbMZv7Nv Other countries are #ReopeningSchools \n",
            "\n",
            "Well guess what?\n",
            "\n",
            "Other countries aren't a raging hotbed of #COVID19 right… https://t.co/qtCIwC7TtD It’s been rough with all the clubs shut ⬇️ in #newyork since #COVID19 hit.\n",
            "We wanted to find suggestions for Online… https://t.co/srpXKmW82M Wow! Very surprised! I am very impressed with Mia. She understands the rule (for waiting her brother Fraser to p--… https://t.co/MJ9DWoekak #france will require on-the-spot #Covid19 tests for travellers coming from 16 countries: United States, Brazil, Alg… https://t.co/nAUGfDlxUs The devil's laughing at us. #Catholic #Christian #truth  #COVID19 #coronavirus https://t.co/9n4SbZKIA4 @BitcoinBehemoth Nope😉\n",
            "#COVID19 #coronavirus #cantstopthetruth https://t.co/kJKYBfW5vm This WILL be the new way of life-until Nov. 4, the day after the election. Then, the lockdown charade becomes meani… https://t.co/cBWTMTdLNu Doing the part to help fight the most important threats, addressing the issues of sanitization in this Pandemic.\n",
            "A… https://t.co/XiPXxf6Hw1 @DineshS50064379 @KDMCOfficial @CMOMaharashtra @AUThackeray @NiteshNRane @RSSorg @narendramodi @omnavalihalkar… https://t.co/RkFYkh1LAZ @ckkirsch1 Comments on @andrewcuomo's mishandling of senior #COVID19 patients aren't politically motivated. They ar… https://t.co/7dorCM29I2 Let the people praise thee, O God; let all the people praise thee.  Then shall the earth yield her increase; and Go… https://t.co/YWTZW6cXgX Since I can’t go to the coffee shop #COVID19 I had to (re)imagine my outdoor space. Up early this morning reading,… https://t.co/YkSjLWY9W1 - today #Croatia has 77 new cases #COVID19 and 5 new death...\n",
            "- active cases 881...\n",
            "\n",
            "- @BNODesk https://t.co/3rojpewPLP The first textile and reusable mask with a proven ability to inactivate the new coronavirus which is responsible fo… https://t.co/Zsm5mNVnCx @BhadeliaMD It's OK but a little disturbing the US has to get #COVID19 data from S Korea, like the youth study. I m… https://t.co/Ll4QfPhaXd Further mishandling of the pandemic response will lead to more excess deaths, and premature death is a losing game… https://t.co/YmZPh7922m How #COVID19 is luring Canadians into the #stockmarket - https://t.co/ePmB76xX4x https://t.co/Wez6uClodr Hush Puppy was charged for online fraudster, what do we call these bunch thieves of visible Nigeria politicians\n",
            "\n",
            "Wa… https://t.co/q4GsEuJLuW #AndhraPradesh reports 7,813 new #COVID19 cases on Saturday as the tally goes up to 88,671. The death toll increase… https://t.co/RcGEsYsMUH @BernieSanders This guy gets it. \n",
            "#WearAMask #realmenwearmasks #toughguyswearmasks #MasksSaveLives… https://t.co/z60VFP3SKD @JoshMatlow The #ontario government has done as close to nothing as was possible for people during this pandemic .… https://t.co/r1GGeCShlf @denisear2017 @TomCottonAR Trump, #GOP &amp; @BetsyDeVosED are unfit for office. The plan? Return to school, church, wo… https://t.co/Rwz5b7tcJD Coronavirus - Kenya: COVID-19 Update (24th July 2020) @MOH_Kenya @susan_mochache @MoetiTshidi @WHOAFRO @DrTedros… https://t.co/T6YmZnpR31 Rajasthan Government today started a Plasma Bank at Sawai Man Singh Hospital in Jaipur for treatment of COVID-19 pa… https://t.co/ZtXDtwFDhC Help slow the spread of #COVID19 and identify at risk cases sooner by self-reporting your symptoms daily, even if y… https://t.co/F4Mr6JILyx July 25...”Jimmy Dean”...15ishx15ish on panel. #quarantineportraits #quarantine #dailyportrait #COVID19 #fineart… https://t.co/akhpEcRht8 Great reminder by @francescaSNH from @nature_scot how important nature is for all of us – both physically through e… https://t.co/grWZdT2FqY In the #US studies show public TRANSPORT to be one of the most dangerous places for transmission of #Covid19. It is… https://t.co/jVaiKUvWDt 1,005 new cases and 18 new deaths in the United States \n",
            "\n",
            "[13:16 GMT] #coronavirus #CoronaVirusUpdate #COVID19 #CoronavirusPandemic The best teachers don't ignore the chaos of the world outside their classroom, writes @chrisemdin. Instead, they us… https://t.co/ULiSvljMTN Latest updates on covid19  in Qatar \n",
            "#COVID19 https://t.co/IL0ukOXGti I hope everyone is watching how news or how they report death. Not everyone is dying from #COVID19. They need reeva… https://t.co/IvCsgzsUTB For all who can do this, enjoy! #Covid19 #telecommuting #remoteteaching #remotelearning #Barbados #BeachOffice… https://t.co/Gsvg9tMlFT County Health Department (@AAHealth)  Closes Dutch Farmers Market in #Annapolis Due to #COVID19 Related Violations… https://t.co/8rocu9K15C Five new #COVID19 cases in Sorsogon include two teenagers \n",
            "https://t.co/meYVYsR1zm\n",
            "#BicolNews https://t.co/adzr6ZZ6zg #COVID19 and #ClimateChange intersect in so many ways.\n",
            "\n",
            "Right now #HurricaneHanna is expected to bring severe flood… https://t.co/C9Iyi4ELAm #COVID19 in the Netherlands (25-07)\n",
            "\n",
            "cases: 52.732 (+137)\n",
            "fatalities: 6.140 (+1)\n",
            "hospitalisations: 11.906 (+2)\n",
            "\n",
            "(di… https://t.co/0zbwrQM8l9 A surfer walks at Recreio dos Bandeirantes beach, amid the coronavirus disease (COVID-19) outbreak, in Rio de Janei… https://t.co/mtaP5lj6SZ #COVID19 recovery at home requires space to prevent infection in others living under the same roof.\n",
            "\n",
            "\"More than 1 i… https://t.co/B8Avf0y8id Out-of-Job Actor Kartika Sahoo Sells Vegetables in Odisha to Survive COVID-19 Lockdown\n",
            "https://t.co/XlhgFoljGE… https://t.co/RizQRONszh #SouthCarolina #healthcare leaders say 'hospitals are filling up' as #COVID19 cases continue to climb #coronavirus… https://t.co/SnWsSruTbv @3days3nights ‼️BREAKING‼️ Share everywhere! \n",
            "The WHO admit that an A-Symptomatic person (those that do not have sy… https://t.co/wpIVWpo1CT #AndrewMlangeni Memorial: @MYANC urges mourners to adhere to #COVID19 regulations -@motso_modise… https://t.co/IVd5evzeQf Fiji has no active cases of the novel coronavirus disease/COVID-19. #COVID19 Just in: 1,142 new #COVID19 cases were reported in #Delhi in the past 24 hours, taking the total number of cases to… https://t.co/sFA3WWzZzi Barcelona legend Xavi Hernandez has tested positive for #COVID19, the now head coach of Qatar's Al Sadd said on soc… https://t.co/3Hq6MlO5YN #RiseAndGrind, Help others cope with #Covid19. #IFollowBack. @RahulGandhi your government in Rajasthan is very poor pro! Look what kind of slum they are sitting in and in what… https://t.co/pNR0vr6XDT Active #COVID19 cases in #Assam, #India, have increased by 62 in last 24 hours or 2.6 per hour. Data from: MoHFW, #GOI. @ray_ban Every other business is dealing with #covid19 too and this is by far my worst experience. Not in keeping w… https://t.co/tWDIu981hL University of Kentucky has been working with Somerset Community College to create new advancements in mask filtrati… https://t.co/ghkQbPbqrY How do you safely restart non-emergent #EssentialSurgery during the #COVID19 pandemic? Join me from 9-10:30am EDT o… https://t.co/8bhAeGIuWn 🔴 Express Entry draw figures for the July 23 draw are below\n",
            "\n",
            "IMMIGRATION EXPERTS\n",
            "📱 9999467686, 8448587890\n",
            "☎️ 0120-6… https://t.co/i22dIDZARE If you got your brain tickled for a #COVID19 test and were told to check @QuestDX’s website for your results, how l… https://t.co/JwJ2JxGdT9 #COVID19 Lucknow CMO Dr Narendra Agarwal has been replaced with Dr Rajendra Kr Singh with immediate effect. Lucknow… https://t.co/AfqiDbtTHd Ladies, date ur mate, u'll nor hear, one babe has been on her knees for 1hr now cause she called her boyfriend ode.… https://t.co/83af53Xdsl Is love this wicked 🤷‍♂️🤷‍♂️🤷‍♂️🤷‍♂️ #RihannaXTiwa #alreadyvideo #ObasekiFlagsOffToday #odikwabyblaqdee #COVID19… https://t.co/BvAJ2JWKxL @arrington Dr. FAUCI.. HOSPITAL #COVID19  #FRONTLINE WORKERS KEPT WORKING DAILY AND NOT #QUARANTINED WHILE EVERYONE… https://t.co/2tVkALdFVd Here's 10 startups for businesses , how can they use their technologies and expertise to fight #pandemic… https://t.co/ZerbuoSdKX You're allowed to start small. 🐞\n",
            "\n",
            "#COVID19 #FlattenTheCurve Not Wearing Sunscreen For a whole year to see what kills me first #COVID19\n",
            "https://t.co/xhVwtpBqTy Since #Andaman tourism isn’t opening &amp; there’s no income, I asked police to tell a crime that I could commit &amp; be j… https://t.co/nmAKb4i6dw Open Access GP Essay - COVID-19 Mobile Phone Apps Fail the Most Vulnerable #COVID19 #Tracing #Pandemic #Tech… https://t.co/sC7eFUOg89 If only Trump cared as much about protecting adults and school children during the pandemic as he does about protec… https://t.co/uvxrglsE4z @ggo0megaFAN @NikolovScience No, it is still a thing. It is distinct from #Covid_19 #COVID19 More than 60 countries have reported disruptions to children's immunizations during #COVID19. Decades of progress -… https://t.co/vRjT2KhVnr Connecticut’s total prison &amp; jail population has dropped to another 30-year low: 9,682 - down 2,727 since March 1st… https://t.co/dGtWRh9D9X Running out of Balance? \n",
            "Get your SMART number recharge online \n",
            "#StayHome, we care about you! #Smart #covid19 https://t.co/H7pM77nY6O The online retail sector is busier than ever since the outbreak of #covid19. Here are 10 easy steps for improving y… https://t.co/XJZTYZRG0F You really dont wanna miss this \n",
            "#BBNaijia2020 \n",
            "#alreadyvideo \n",
            "#RihannaXTiwa \n",
            "#ObasekiFlagsOffToday \n",
            "#COVID19… https://t.co/H30PqT5hl3 The speed of the spread of #coronavirus is unprecedented and is due to the subtle black energy of the negative ener… https://t.co/FsD76FdZWs Are retail stores really limiting their hours for \"deep cleaning\" or to limit wages? #COVID19 The relief that temporarily allowed students to stop making their payment is set to expire on September 30th. This… https://t.co/CV1NGghdnF RSS Meet Discusses Bhoomi Pujan of Ram Temple, India-China Stand-Off and Other Issues Amid COVID-19 Crisis: Sources… https://t.co/DOeupKhsdZ #AndhraPradesh #COVID19 @ArogyaAndhra Andhra Pradesh \n",
            "25/07/2020 \n",
            "\n",
            "New positive cases 7,813\n",
            "New discharges 3,320\n",
            "Ne… https://t.co/LN6gBe1Kfj In this #safety-first world, brands that offer customer experiences ensuring well-being and convenience set themsel… https://t.co/v1YVwj0NZr This weekend's #Leadership reading https://t.co/ouV0E5Om5S  #Workplace #COVID19 #future https://t.co/gHLR2zq1Bw #UAE has started inviting #volunteers for the world's first Phase III #COVID19 #vaccine clinical trials. Here's how… https://t.co/dJcruoRDOf \"I miss them. But this is my duty.\"\n",
            "\n",
            "This is the story of Noman Saghir, a doting father, a lab technician and one o… https://t.co/5jl7vSdPLQ @standardnews I see @BorisJohnson and the @Conservatives world beating Test, Track &amp; Trace system for #COVID19, whi… https://t.co/ZWj1IRmTvw Surely you have carried out the correct risk assessments to allow the children to play football again?\n",
            "Also why are… https://t.co/Jmv9sOxdOY #COVID19 business decision. He is using his medical career to make the decision, not the @NFL $$$$. https://t.co/VZnt3TpQ9S How #COVID19 Causes Smell Loss - Neuroscience News https://t.co/OG0gIhyctD @realDonaldTrump Let the #COVID19 flow Amazing how @nedbanksport is using the @OfficialPSL partnership during this #COVID19 period to provide knowledge an… https://t.co/fJp2P6M6S9 Voting for Trump. He isn’t backtracking on his views of #COVID19 because he cares about you. He’s doing it to get m… https://t.co/NSegDA8Z3W Revovered corona B+ve plasma donor who is interested to donate plasma, DM urgently required #kashmir #srinagar #COVID19 Due to overflow of Hospital capacity with #COVID19 patients in Starr County/ Texas, a committee will deem which pat… https://t.co/7jizObIQnJ Mama’s of Corona third generation owner Irene DeBenedittis is encouraging her workers to treat their customers “lik… https://t.co/SzusE9ar1E 'Many US institutions of HE are forging ahead with on-campus, in-person classes + activities for fall terms, making… https://t.co/7an9s88MUt #KAGA #MAGA PLEASE!  \n",
            "#Covid19 kills.\n",
            "🚨Don't fall for the lie a vaccine would be on the way🚨\n",
            "✔️ Ask what happens me… https://t.co/YhyOMHXqVz Does anyone know if the Dutch government will still legally mandate parents to send their children to school this c… https://t.co/HRr3aGEanD #COVID19 in #AndhraPradesh:\n",
            "\n",
            "-7,813 new cases\n",
            "-52 more deaths\n",
            "-53,681 more samples tested\n",
            "-3,208 more discharged\n",
            "-E… https://t.co/PYEfG2WKcN Help slow the spread of #COVID19 and identify at risk cases sooner by self-reporting your symptoms daily, even if y… https://t.co/XpfOQ7WCQ4 https://t.co/Si1oSX9not \n",
            "\n",
            "\"Compared with the rest of the California labor force, Asian Americans with a high school… https://t.co/o9YmtOVzB6 2021 Australian Open: Smaller crowds, player bio-security\n",
            "\n",
            "#AusOpen #AustralianOpen2021 #Coronavirus #COVID19\n",
            "\n",
            "https://t.co/pzOJvjd2DQ Being #obese or excessively overweight increases the risk of severe illness and death from the novel #coronavirus.… https://t.co/cqOVYyWZb2 #AnimsXavi Much strength to you idolo. #COVID19 https://t.co/OkzMOevfPp Guys, so where the party at? COVID, COVID, or COVID ? #isthisserious #Gambia #COVID19 @salieutaal @farageloubna… https://t.co/nGYNINlWyi How is this okay but I can’t visit my granny in a nursing home? Not even an out doors visit... #COVID19 https://t.co/y3kbnOTQdM Inline with UK's goals towards promoting quality mentorship opportunities for young persons in 🇳🇬, @OnaboluYvonne w… https://t.co/sSuj8UWWXA Our face covering policy was created under the guidance of our on-staff corporate medical team, public health offic… https://t.co/8dArlgrvyQ Can You Get #Covid19 Again? It’s Very Unlikely, Experts Say https://t.co/AWlwCgU5EI And if so, what's the problem,… https://t.co/BX9aP4M6Gh Summer 2020 Garden party Covid time #Summer2020 #COVID19 #Weather #gardenparty https://t.co/yu1E5Fb0ku @stayingupszn When did I ask? #COVID19 #katiehopkins #LUFC @Bill_Maxwell_ Yes. And to vote out any member of the @GOP Six months later and they did nothing about #COVID19 #VoteBlueToEndThisNightmare Wear a Mask! \n",
            "Stay safe and keep others safe!\n",
            "\n",
            "#covid19 #besafe \n",
            "#peraktbg #abstraxmax \n",
            "#puma #pumaone… https://t.co/hVkiYAQp1l . @PawanKalyan about resuming movie shootings in his latest interview.\n",
            "#Covid19 #Janasena #Powerstar #VakeelSaab https://t.co/XzOA6UJWZp @realDonaldTrump #trumpdeathtoll147K 4.2 Million cases of #COVID19 Millions unemployed! #TrumpVirusCatastrophe… https://t.co/a7a0J9w5de Help slow the spread of #COVID19 and identify at risk cases sooner by self-reporting your symptoms daily, even if y… https://t.co/i3gCMhxaFT I know no one could have foreseen #COVID19 , but the #UK would have been in a far better position if it were not lo… https://t.co/ep0MMX7XMH Yesterday #leftyTossers attacking #Boris for pointing out that obesity has a very negative effect on victims who ar… https://t.co/Pu1aiTKD9B Wit d econs meltdown  bcos of #COVID19 . Wit d battered state of d purchasing power of d citizens. Wt d rising pove… https://t.co/PI4q8PI0uY Yestwrday, a friend’s brother died in Zimbabwe 🇿🇼, they called an ambulance at 2pm, it came at 8pm! #COVID19 #AhmedabadRain \n",
            "Finally,\n",
            "It looks like rainy season has started now 😍,\n",
            "May it doesn’t brings hike in #covid19 infec… https://t.co/AceCeHERRk Children are affected, infected and dying in Florida from Covid19.\n",
            "#ReopenSafely #ReopeningSchools #health #covid19… https://t.co/3XZPMne57z History will not only account for the dead but also the wicked @GovRonDeSantis #COVID19 https://t.co/90MsXwkUss Ants may be pesky creatures, but it turns out we could learn a thing or two from them. @SophNaama writes about what… https://t.co/FzUG1KFhJL This government was too slow to act, and even they now admit that. They followed and did not lead! It's very hard f… https://t.co/0ZlVcPpKkb My observations after day 1 of mandatory face masks...I'm seeing a lot of \"chin masks\" and people walking around wi… https://t.co/jWdczSjAND Delhi #COVID19 Update Jul 25\n",
            "\n",
            "New Cases 1142\n",
            "Total 129531\n",
            "July 43452 (33.54% of total)\n",
            "\n",
            "Deaths 29\n",
            "Total 3806\n",
            "\n",
            "Disch… https://t.co/62jsJh8TWH Congratulations to Jeff Bezos\n",
            "\n",
            "The UK government has managed to make  shopping on the high street even less appeali… https://t.co/yGfUeXqVDH Catalonia Spain reports 1,493 new #coronavirus cases #COVID19 👀👀 If you don’t have a mask.......just ask! We will provide one AND ask for a contribution to the West Midlands Air Am… https://t.co/rOTjxSvbT0 ALERT: Pregnant women at risk of death in Kenya's COVID-19\n",
            "curfew - Global Pandemic News | #Coronavirus #COVID19… https://t.co/MIklFXCtvj #COVID19 #COVIDー19 #coronavirus #BlackLivesMatter #satchat #ptech #weareptech https://t.co/2tCw7OEqpV An open dialo… https://t.co/CdQNTeh7D1 Check us out on Spotify as well \n",
            "🙌🎶👑🔊🔥👇👇👇👇\n",
            "https://t.co/v2XKBfaTfj\n",
            "\n",
            "#GospelHouse 🎶👑🔊💯\n",
            "#GodGotThis ❤🙌🔥🔥🔥… https://t.co/oeIUQVc6gR could double as a #COVID19 vaccine delivery mechanism @BorisJohnson  @MattHancock @pritipatel https://t.co/hM83eKV2LF Help slow the spread of #COVID19 and identify at risk cases sooner by self-reporting your symptoms daily, even if y… https://t.co/KSyVttdgqo @OpIndia_com #how #heir @joker @laluprasadrjd @yadavtejashwi #have #little #knowledge @mygovindia @who #thinks… https://t.co/9GyojXmCS7 Sign the Alert to Stop Deadly Mass Killing of #Animals in #University Labs Due to #COVID19 https://t.co/tzaxAeeS14 @jennfranconews @realDonaldTrump Each of you should look not only to your own interests, but also to the interests… https://t.co/g3bYHLyXd4 The latest Islam and Islamism! https://t.co/1Gx3WUOc9r #berkleyforum #covid19 #Hope #USA #Trump vilifying #USPS &amp; #Amazon while (Republicans own premium stock) catering to them by #Postmaster w… https://t.co/wznVS6kWKo #AndhraPradesh reports 7,813 new #COVID19 cases on Saturday as the tally goes up to 88,671. The death toll increase… https://t.co/Pk3YJjwX19 #Coronavirus in #Andorra: There is a total of 52 confirmed deaths from #COVID19. @fordnation\n",
            "Please don't go in like a bunch of storm troopers !\n",
            "The migrant workers are afraid of being deported so… https://t.co/w0D37rCtza Wear a face cover or pay £100 fine. New laws imposed in London #covid19 #London ''. Lol. I Chose to cover it up. https://t.co/AO2qMQ1Vln #COVIDUpdates: AP records as many as 7,813 new cases in the last 24 hours taking the tally to 88,671. 52 deaths wer… https://t.co/doN2jrcaTe Remember when #Drumpf said #TexasIsHeeling?? Well, they're getting screwed several times over today!! Not to mentio… https://t.co/B5PLXiC3Gh Ringway, Preston (14th May 2020 and 24th July 2020)\n",
            "I will be releasing another video this weekend from the past co… https://t.co/X98cNByTW3 The statistics in the #pic gives info that #Assam is performing better than #Odisha in their fight against #COVID19… https://t.co/rdrtsDfWyF 'Not what we should be doing': Few masks, no social distancing at crowded Falls attractions | CBC News https://t.co/TFwjEhdLHI #COVID19 If you think I’m buying any of these rumours of us being locked down or restricted for up to 2 years, forget it. It… https://t.co/aEQZaqs79U @realDonaldTrump Remember the #WorstPresidentInHistory #trumpdeathtoll147K 4.2 Million cases of #COVID19 Millions U… https://t.co/tv0DXaS2nJ With increased testing of samples for Covid-19, the fatality rate has significantly dropped to 2.35% on Saturday an… https://t.co/48x8cQ6sxA CDC changes COVID-19 guidance on how long people need to be isolated https://t.co/LqEQKBBQAN via @nbcnews #COVID19 #theyhavenoidea 👀 A plea to #mask wearers to read this as THIS is why many #NoMasks don’t want to blindly follow “govt” edicts on… https://t.co/uQWjZyPQ7j #MP CM #ShivrajSinghChouhan tested positive for #COVID19 . There's been news that bcoz of him many ministers as wel… https://t.co/c1ia1QsqXQ (6) We never rise beyond the level of our knowledge. This is why you must keep acquiring new and helpful informatio… https://t.co/Z4EDRcuMTU Two students tested positive for coronavirus after taking the ACT at an Oklahoma high school… https://t.co/DRNa3Uq3th Sending the science deniers home to their fellow MAGATs.  #BlueWave2020 #COVID19 https://t.co/BKMbdjClDk Home-made cloth face masks likely need a minimum of two layers, and preferably three, to prevent the dispersal of v… https://t.co/PssY9MisDQ @Die_Diktatur @FatEmperor @WHO 2009 was just the rehearsal for #COVID19 #AndhraPradesh \n",
            "\n",
            "Andhra Pradesh registered single-day spike of 7,813 #COVID19 positive cases &amp; 52 deaths in last 24… https://t.co/2xK87RJYnF How well are you dealing with the COVID-19 outbreak? This survey developed by psychologists from around the world p… https://t.co/N3l6dIa4O9 The thing about being #LightSkinned is that every bruise on your body can be seen from Mars 🌝plus the fact that you… https://t.co/MwqNMipANn Actor @VishalKOfficial and his father Mr.G.K.Reddy tested positive for #Covid19 15/20 days back..\n",
            "\n",
            "While #Vishal 's… https://t.co/yXdPgtkW92 . @PawanKalyan about resuming movie shootings in his latest interview.\n",
            "#Covid19 #Janasena #Powerstar #VakeelSaab https://t.co/bpalIFxA6F Another WWE employee has contracted COVID-19\n",
            "\n",
            "Via @PWCDeez\n",
            "\n",
            "#WWE #WrestleMania #COVID19 #Coronavirus\n",
            "\n",
            "https://t.co/6sxCU0hn7a Thats What i got In This Productive Quarantine ,  After a Hard Assignments and Quizzes . #Productive  #COVID19… https://t.co/B7mEqHTPHm In order to help people opting for Home Isolation, TriBeCa Care has come up with a remote monitoring package.  Cont… https://t.co/XW2uPlBAxj #COVID19 : Restriction extended in #kupwara till 3 August. \n",
            "#CoronaVirusUpdate #FightAgainstCOVID19 #PANDAMIC https://t.co/XeP0c0LBRD @NBCNews @gtconway3d and... can the press knock it off with this whole “change of tone” this week from Trump. It’s… https://t.co/7Bgj4C9atH A big thank you to the team Cenit College in Nass and their ongoing support for our #ADR #Exams. Due to #COVID19 re… https://t.co/SJmuYI5DNR New Personal View: Need for sustainable biobanking networks for #COVID19 and other diseases of epidemic potential https://t.co/jmYKciZOju #COVID19 has worsened an already dire opioid crisis. There are fewer social supports, people battling addictions mu… https://t.co/WIN1DZkoYn Passengers cheer as ‘Karen’ is kicked off flight for refusing to wear mask\n",
            "#airlines \n",
            "#coronavirus \n",
            "#covid19 \n",
            "#Mask  https://t.co/3VimRsfAUb 🔴Corona Alert |\n",
            "Four arrivals from Chennai tested positive for Covid-19 raising the total in Sri Lanka to 2,768.… https://t.co/AwDjGiZvDT Oh for fvck’s sake @CNN @sarahcwestwood STOP WITH THE BS. #trump has not changed his tone. So @FoxNews. \n",
            "#CNN weeke… https://t.co/4DVBg0cCqF Teachers dealing with gettin they students in virtual class who have Parents that are just no help at all. So eithe… https://t.co/1xNXd2wH2t @NYCAudubon #Audubon #SaturdayMorning #SaturdayVibes #COVID19 #SaturdayThoughts #SaturdayMotivation #free shipping… https://t.co/VUTtHfSyPo The #OrangeBaboon wants to make sure we have over 150K dead from #COVID19 before the end of July!\n",
            "\n",
            "7/24: 148490 dea… https://t.co/cOVtyFoRrL How did America go from\n",
            "the land of the free and home of the brave\n",
            "to\n",
            "the land of the acquiescent and home of the f… https://t.co/EoRJn52zBv https://t.co/v4w6cLyHhu\n",
            "\n",
            "RFK Jr soars. Phenomenal read about the LACK of scientific testing behind #vaccine development. #COVID19 Together as One! #Covid19 #EconomicRecovery https://t.co/DwABLnFpjR We've progressed to the point that we're joking about #COVID19 . That's good...now if we could just get some sort o… https://t.co/AKDfTtpsFY @forwardarc @realDonaldTrump @VP If the U.S. doesn’t lock down, we’re stupid, and will reap what we sowed. \n",
            "And I c… https://t.co/7hwD0gcNOt so lets pack'em all into schools in late summer/fall, big mistake for now as young are always a major disease vecto… https://t.co/uCNLTAsTnU @funder Cannot imagine ANY #American in a right state of mind ever voting for the LUMP OF MASS unless they're membe… https://t.co/3AbFjr96H8 If schools reopen the spread of #COVID19 will be on a biblical scale. Hello #dorathians. Let's hit 1k followers on Twitter.  Kindly retweet and follow 😘 \n",
            "https://t.co/Jp8aRjoEE3… https://t.co/ADPR7A7qCN With #Coimbatore district administration announcing complete #lockdown from 5 pm on Saturday till 6 am on Monday, h… https://t.co/T66nLKWg9M @realDonaldTrump #TrumpDeathToll148K 4.2 Million cases of #COVID19 Millions Unemployed! #TrumpPandemicFailure… https://t.co/FbcBToXKQC Cheap #virus-killing spray that costs pennies could end Britain's #coronavirus, #COVID19 nightmare https://t.co/LSVcYqIweS One of the roles these survelliance team play in the community is to respond to and also support women and girls ex… https://t.co/lXtL03iXUO #Hurricane may hit area with major #COVID19 spread &amp;  full hospitals. This is why we need\n",
            "\n",
            "https://t.co/nLfpY1vEvZ… https://t.co/DulqthAtyT Day 31: #FreePalestine\n",
            "Palestinians are still in danger of #COVID19. #PalestiniansLivesMatter #EndApartheidNow… https://t.co/chDHeKuOgE SRV Group of Hospitals is dedicated in making neighborhood healthy.\n",
            "To book an appointmentr our SRV experts call 86… https://t.co/QdaKcO06JW 293 new cases and 3 new deaths in Uzbekistan \n",
            "\n",
            "[13:11 GMT] #coronavirus #CoronaVirusUpdate #COVID19 #CoronavirusPandemic @DonaldJTrumpJr 145k million dead from #COVID19 over 40 million unemployed GFY As Somalia heads to political campaign and later elections, any political instability at this time will reverse any… https://t.co/fZuMSygdR3 @jjauthor Can someone give this twirp and his family #COVID19 please and thank you. The @UN is helping families use the opportunity to teach young people about global challenges, including not only t… https://t.co/blbaeTj90J Spike in U.S. Cases Far Outpaces Testing Expansion\n",
            " https://t.co/HqB3P5aIcS\n",
            "#COVID19 https://t.co/HG1V3iTSwd ALERT: Right-Wing People ‘Least Likely To Wear Face Masks’ - Global Pandemic News | #Coronavirus #COVID19 #Protests… https://t.co/3aeXQVuHy1 "
          ],
          "name": "stdout"
        }
      ]
    },
    {
      "cell_type": "code",
      "metadata": {
        "colab": {
          "base_uri": "https://localhost:8080/",
          "height": 287
        },
        "id": "HRPNLlUSoBWJ",
        "outputId": "cbdfbb11-f8ae-4a75-861c-ee049491b07a"
      },
      "source": [
        "print(os.listdir(nltk.data.find(\"corpora\")))"
      ],
      "execution_count": 12,
      "outputs": [
        {
          "output_type": "error",
          "ename": "IndexError",
          "evalue": "ignored",
          "traceback": [
            "\u001b[0;31m---------------------------------------------------------------------------\u001b[0m",
            "\u001b[0;31mIndexError\u001b[0m                                Traceback (most recent call last)",
            "\u001b[0;32m<ipython-input-12-9f8c46ee9865>\u001b[0m in \u001b[0;36m<module>\u001b[0;34m()\u001b[0m\n\u001b[0;32m----> 1\u001b[0;31m \u001b[0mprint\u001b[0m\u001b[0;34m(\u001b[0m\u001b[0mos\u001b[0m\u001b[0;34m.\u001b[0m\u001b[0mlistdir\u001b[0m\u001b[0;34m(\u001b[0m\u001b[0mnltk\u001b[0m\u001b[0;34m.\u001b[0m\u001b[0mdata\u001b[0m\u001b[0;34m.\u001b[0m\u001b[0mfind\u001b[0m\u001b[0;34m(\u001b[0m\u001b[0;34m\"corpora\"\u001b[0m\u001b[0;34m)\u001b[0m\u001b[0;34m)\u001b[0m\u001b[0;34m)\u001b[0m\u001b[0;34m\u001b[0m\u001b[0;34m\u001b[0m\u001b[0m\n\u001b[0m",
            "\u001b[0;32m/usr/local/lib/python3.7/dist-packages/nltk/data.py\u001b[0m in \u001b[0;36mfind\u001b[0;34m(resource_name, paths)\u001b[0m\n\u001b[1;32m    656\u001b[0m \u001b[0;34m\u001b[0m\u001b[0m\n\u001b[1;32m    657\u001b[0m     \u001b[0;31m# Identify the package (i.e. the .zip file) to download.\u001b[0m\u001b[0;34m\u001b[0m\u001b[0;34m\u001b[0m\u001b[0;34m\u001b[0m\u001b[0m\n\u001b[0;32m--> 658\u001b[0;31m     \u001b[0mresource_zipname\u001b[0m \u001b[0;34m=\u001b[0m \u001b[0mresource_name\u001b[0m\u001b[0;34m.\u001b[0m\u001b[0msplit\u001b[0m\u001b[0;34m(\u001b[0m\u001b[0;34m'/'\u001b[0m\u001b[0;34m)\u001b[0m\u001b[0;34m[\u001b[0m\u001b[0;36m1\u001b[0m\u001b[0;34m]\u001b[0m\u001b[0;34m\u001b[0m\u001b[0;34m\u001b[0m\u001b[0m\n\u001b[0m\u001b[1;32m    659\u001b[0m     \u001b[0;32mif\u001b[0m \u001b[0mresource_zipname\u001b[0m\u001b[0;34m.\u001b[0m\u001b[0mendswith\u001b[0m\u001b[0;34m(\u001b[0m\u001b[0;34m'.zip'\u001b[0m\u001b[0;34m)\u001b[0m\u001b[0;34m:\u001b[0m\u001b[0;34m\u001b[0m\u001b[0;34m\u001b[0m\u001b[0m\n\u001b[1;32m    660\u001b[0m         \u001b[0mresource_zipname\u001b[0m \u001b[0;34m=\u001b[0m \u001b[0mresource_zipname\u001b[0m\u001b[0;34m.\u001b[0m\u001b[0mrpartition\u001b[0m\u001b[0;34m(\u001b[0m\u001b[0;34m'.'\u001b[0m\u001b[0;34m)\u001b[0m\u001b[0;34m[\u001b[0m\u001b[0;36m0\u001b[0m\u001b[0;34m]\u001b[0m\u001b[0;34m\u001b[0m\u001b[0;34m\u001b[0m\u001b[0m\n",
            "\u001b[0;31mIndexError\u001b[0m: list index out of range"
          ]
        }
      ]
    },
    {
      "cell_type": "code",
      "metadata": {
        "id": "YA0RMTvap4Vw"
      },
      "source": [
        "from nltk.tokenize import word_tokenize, sent_tokenize\n",
        "import re\n",
        "from nltk.corpus import stopwords\n",
        "from nltk.stem.porter import PorterStemmer"
      ],
      "execution_count": null,
      "outputs": []
    },
    {
      "cell_type": "code",
      "metadata": {
        "colab": {
          "base_uri": "https://localhost:8080/"
        },
        "id": "wecszwBPvrbH",
        "outputId": "58c71410-ea44-438e-d782-0ec835e214b8"
      },
      "source": [
        "nltk.download('stopwords')"
      ],
      "execution_count": null,
      "outputs": [
        {
          "output_type": "stream",
          "text": [
            "[nltk_data] Downloading package stopwords to /root/nltk_data...\n",
            "[nltk_data]   Unzipping corpora/stopwords.zip.\n"
          ],
          "name": "stdout"
        },
        {
          "output_type": "execute_result",
          "data": {
            "text/plain": [
              "True"
            ]
          },
          "metadata": {
            "tags": []
          },
          "execution_count": 46
        }
      ]
    },
    {
      "cell_type": "code",
      "metadata": {
        "id": "547D6D--x4Ya"
      },
      "source": [
        "text = re.sub('[^a-zA-Z]', ' ', df['text'][0])"
      ],
      "execution_count": null,
      "outputs": []
    },
    {
      "cell_type": "code",
      "metadata": {
        "colab": {
          "base_uri": "https://localhost:8080/",
          "height": 35
        },
        "id": "AOEks-ylyNdE",
        "outputId": "8ed8f998-8cb6-4f7d-f8dd-65744dc4a9d4"
      },
      "source": [
        "text"
      ],
      "execution_count": null,
      "outputs": [
        {
          "output_type": "execute_result",
          "data": {
            "application/vnd.google.colaboratory.intrinsic+json": {
              "type": "string"
            },
            "text/plain": [
              "'Same folks said daikon paste could treat a cytokine storm  PfizerBioNTech https   t co xeHhIMg kF'"
            ]
          },
          "metadata": {
            "tags": []
          },
          "execution_count": 48
        }
      ]
    },
    {
      "cell_type": "code",
      "metadata": {
        "colab": {
          "base_uri": "https://localhost:8080/",
          "height": 35
        },
        "id": "H52xC1vfzbhZ",
        "outputId": "ff488a6a-f77d-4ba9-bedb-bccdaecdecb6"
      },
      "source": [
        "df['text'][0]"
      ],
      "execution_count": null,
      "outputs": [
        {
          "output_type": "execute_result",
          "data": {
            "application/vnd.google.colaboratory.intrinsic+json": {
              "type": "string"
            },
            "text/plain": [
              "'Same folks said daikon paste could treat a cytokine storm #PfizerBioNTech https://t.co/xeHhIMg1kF'"
            ]
          },
          "metadata": {
            "tags": []
          },
          "execution_count": 49
        }
      ]
    },
    {
      "cell_type": "code",
      "metadata": {
        "colab": {
          "base_uri": "https://localhost:8080/",
          "height": 346
        },
        "id": "1Fzkx8mcqpWg",
        "outputId": "583ff21f-6496-47d5-c363-a326c5a13ee2"
      },
      "source": [
        "for i in range(len(df.text)):\n",
        "  word_tokenize(i)\n",
        "  print(i)"
      ],
      "execution_count": null,
      "outputs": [
        {
          "output_type": "error",
          "ename": "TypeError",
          "evalue": "ignored",
          "traceback": [
            "\u001b[0;31m---------------------------------------------------------------------------\u001b[0m",
            "\u001b[0;31mTypeError\u001b[0m                                 Traceback (most recent call last)",
            "\u001b[0;32m<ipython-input-44-04a6017911c8>\u001b[0m in \u001b[0;36m<module>\u001b[0;34m()\u001b[0m\n\u001b[1;32m      1\u001b[0m \u001b[0;32mfor\u001b[0m \u001b[0mi\u001b[0m \u001b[0;32min\u001b[0m \u001b[0mrange\u001b[0m\u001b[0;34m(\u001b[0m\u001b[0mlen\u001b[0m\u001b[0;34m(\u001b[0m\u001b[0mdf\u001b[0m\u001b[0;34m.\u001b[0m\u001b[0mtext\u001b[0m\u001b[0;34m)\u001b[0m\u001b[0;34m)\u001b[0m\u001b[0;34m:\u001b[0m\u001b[0;34m\u001b[0m\u001b[0;34m\u001b[0m\u001b[0m\n\u001b[0;32m----> 2\u001b[0;31m   \u001b[0mword_tokenize\u001b[0m\u001b[0;34m(\u001b[0m\u001b[0mi\u001b[0m\u001b[0;34m)\u001b[0m\u001b[0;34m\u001b[0m\u001b[0;34m\u001b[0m\u001b[0m\n\u001b[0m\u001b[1;32m      3\u001b[0m   \u001b[0mprint\u001b[0m\u001b[0;34m(\u001b[0m\u001b[0mi\u001b[0m\u001b[0;34m)\u001b[0m\u001b[0;34m\u001b[0m\u001b[0;34m\u001b[0m\u001b[0m\n",
            "\u001b[0;32m/usr/local/lib/python3.7/dist-packages/nltk/tokenize/__init__.py\u001b[0m in \u001b[0;36mword_tokenize\u001b[0;34m(text, language, preserve_line)\u001b[0m\n\u001b[1;32m    126\u001b[0m     \u001b[0;34m:\u001b[0m\u001b[0mtype\u001b[0m \u001b[0mpreserver_line\u001b[0m\u001b[0;34m:\u001b[0m \u001b[0mbool\u001b[0m\u001b[0;34m\u001b[0m\u001b[0;34m\u001b[0m\u001b[0m\n\u001b[1;32m    127\u001b[0m     \"\"\"\n\u001b[0;32m--> 128\u001b[0;31m     \u001b[0msentences\u001b[0m \u001b[0;34m=\u001b[0m \u001b[0;34m[\u001b[0m\u001b[0mtext\u001b[0m\u001b[0;34m]\u001b[0m \u001b[0;32mif\u001b[0m \u001b[0mpreserve_line\u001b[0m \u001b[0;32melse\u001b[0m \u001b[0msent_tokenize\u001b[0m\u001b[0;34m(\u001b[0m\u001b[0mtext\u001b[0m\u001b[0;34m,\u001b[0m \u001b[0mlanguage\u001b[0m\u001b[0;34m)\u001b[0m\u001b[0;34m\u001b[0m\u001b[0;34m\u001b[0m\u001b[0m\n\u001b[0m\u001b[1;32m    129\u001b[0m     return [token for sent in sentences\n\u001b[1;32m    130\u001b[0m             for token in _treebank_word_tokenizer.tokenize(sent)]\n",
            "\u001b[0;32m/usr/local/lib/python3.7/dist-packages/nltk/tokenize/__init__.py\u001b[0m in \u001b[0;36msent_tokenize\u001b[0;34m(text, language)\u001b[0m\n\u001b[1;32m     93\u001b[0m     \"\"\"\n\u001b[1;32m     94\u001b[0m     \u001b[0mtokenizer\u001b[0m \u001b[0;34m=\u001b[0m \u001b[0mload\u001b[0m\u001b[0;34m(\u001b[0m\u001b[0;34m'tokenizers/punkt/{0}.pickle'\u001b[0m\u001b[0;34m.\u001b[0m\u001b[0mformat\u001b[0m\u001b[0;34m(\u001b[0m\u001b[0mlanguage\u001b[0m\u001b[0;34m)\u001b[0m\u001b[0;34m)\u001b[0m\u001b[0;34m\u001b[0m\u001b[0;34m\u001b[0m\u001b[0m\n\u001b[0;32m---> 95\u001b[0;31m     \u001b[0;32mreturn\u001b[0m \u001b[0mtokenizer\u001b[0m\u001b[0;34m.\u001b[0m\u001b[0mtokenize\u001b[0m\u001b[0;34m(\u001b[0m\u001b[0mtext\u001b[0m\u001b[0;34m)\u001b[0m\u001b[0;34m\u001b[0m\u001b[0;34m\u001b[0m\u001b[0m\n\u001b[0m\u001b[1;32m     96\u001b[0m \u001b[0;34m\u001b[0m\u001b[0m\n\u001b[1;32m     97\u001b[0m \u001b[0;31m# Standard word tokenizer.\u001b[0m\u001b[0;34m\u001b[0m\u001b[0;34m\u001b[0m\u001b[0;34m\u001b[0m\u001b[0m\n",
            "\u001b[0;32m/usr/local/lib/python3.7/dist-packages/nltk/tokenize/punkt.py\u001b[0m in \u001b[0;36mtokenize\u001b[0;34m(self, text, realign_boundaries)\u001b[0m\n\u001b[1;32m   1235\u001b[0m         \u001b[0mGiven\u001b[0m \u001b[0ma\u001b[0m \u001b[0mtext\u001b[0m\u001b[0;34m,\u001b[0m \u001b[0mreturns\u001b[0m \u001b[0ma\u001b[0m \u001b[0mlist\u001b[0m \u001b[0mof\u001b[0m \u001b[0mthe\u001b[0m \u001b[0msentences\u001b[0m \u001b[0;32min\u001b[0m \u001b[0mthat\u001b[0m \u001b[0mtext\u001b[0m\u001b[0;34m.\u001b[0m\u001b[0;34m\u001b[0m\u001b[0;34m\u001b[0m\u001b[0m\n\u001b[1;32m   1236\u001b[0m         \"\"\"\n\u001b[0;32m-> 1237\u001b[0;31m         \u001b[0;32mreturn\u001b[0m \u001b[0mlist\u001b[0m\u001b[0;34m(\u001b[0m\u001b[0mself\u001b[0m\u001b[0;34m.\u001b[0m\u001b[0msentences_from_text\u001b[0m\u001b[0;34m(\u001b[0m\u001b[0mtext\u001b[0m\u001b[0;34m,\u001b[0m \u001b[0mrealign_boundaries\u001b[0m\u001b[0;34m)\u001b[0m\u001b[0;34m)\u001b[0m\u001b[0;34m\u001b[0m\u001b[0;34m\u001b[0m\u001b[0m\n\u001b[0m\u001b[1;32m   1238\u001b[0m \u001b[0;34m\u001b[0m\u001b[0m\n\u001b[1;32m   1239\u001b[0m     \u001b[0;32mdef\u001b[0m \u001b[0mdebug_decisions\u001b[0m\u001b[0;34m(\u001b[0m\u001b[0mself\u001b[0m\u001b[0;34m,\u001b[0m \u001b[0mtext\u001b[0m\u001b[0;34m)\u001b[0m\u001b[0;34m:\u001b[0m\u001b[0;34m\u001b[0m\u001b[0;34m\u001b[0m\u001b[0m\n",
            "\u001b[0;32m/usr/local/lib/python3.7/dist-packages/nltk/tokenize/punkt.py\u001b[0m in \u001b[0;36msentences_from_text\u001b[0;34m(self, text, realign_boundaries)\u001b[0m\n\u001b[1;32m   1283\u001b[0m         \u001b[0mfollows\u001b[0m \u001b[0mthe\u001b[0m \u001b[0mperiod\u001b[0m\u001b[0;34m.\u001b[0m\u001b[0;34m\u001b[0m\u001b[0;34m\u001b[0m\u001b[0m\n\u001b[1;32m   1284\u001b[0m         \"\"\"\n\u001b[0;32m-> 1285\u001b[0;31m         \u001b[0;32mreturn\u001b[0m \u001b[0;34m[\u001b[0m\u001b[0mtext\u001b[0m\u001b[0;34m[\u001b[0m\u001b[0ms\u001b[0m\u001b[0;34m:\u001b[0m\u001b[0me\u001b[0m\u001b[0;34m]\u001b[0m \u001b[0;32mfor\u001b[0m \u001b[0ms\u001b[0m\u001b[0;34m,\u001b[0m \u001b[0me\u001b[0m \u001b[0;32min\u001b[0m \u001b[0mself\u001b[0m\u001b[0;34m.\u001b[0m\u001b[0mspan_tokenize\u001b[0m\u001b[0;34m(\u001b[0m\u001b[0mtext\u001b[0m\u001b[0;34m,\u001b[0m \u001b[0mrealign_boundaries\u001b[0m\u001b[0;34m)\u001b[0m\u001b[0;34m]\u001b[0m\u001b[0;34m\u001b[0m\u001b[0;34m\u001b[0m\u001b[0m\n\u001b[0m\u001b[1;32m   1286\u001b[0m \u001b[0;34m\u001b[0m\u001b[0m\n\u001b[1;32m   1287\u001b[0m     \u001b[0;32mdef\u001b[0m \u001b[0m_slices_from_text\u001b[0m\u001b[0;34m(\u001b[0m\u001b[0mself\u001b[0m\u001b[0;34m,\u001b[0m \u001b[0mtext\u001b[0m\u001b[0;34m)\u001b[0m\u001b[0;34m:\u001b[0m\u001b[0;34m\u001b[0m\u001b[0;34m\u001b[0m\u001b[0m\n",
            "\u001b[0;32m/usr/local/lib/python3.7/dist-packages/nltk/tokenize/punkt.py\u001b[0m in \u001b[0;36mspan_tokenize\u001b[0;34m(self, text, realign_boundaries)\u001b[0m\n\u001b[1;32m   1274\u001b[0m         \u001b[0;32mif\u001b[0m \u001b[0mrealign_boundaries\u001b[0m\u001b[0;34m:\u001b[0m\u001b[0;34m\u001b[0m\u001b[0;34m\u001b[0m\u001b[0m\n\u001b[1;32m   1275\u001b[0m             \u001b[0mslices\u001b[0m \u001b[0;34m=\u001b[0m \u001b[0mself\u001b[0m\u001b[0;34m.\u001b[0m\u001b[0m_realign_boundaries\u001b[0m\u001b[0;34m(\u001b[0m\u001b[0mtext\u001b[0m\u001b[0;34m,\u001b[0m \u001b[0mslices\u001b[0m\u001b[0;34m)\u001b[0m\u001b[0;34m\u001b[0m\u001b[0;34m\u001b[0m\u001b[0m\n\u001b[0;32m-> 1276\u001b[0;31m         \u001b[0;32mreturn\u001b[0m \u001b[0;34m[\u001b[0m\u001b[0;34m(\u001b[0m\u001b[0msl\u001b[0m\u001b[0;34m.\u001b[0m\u001b[0mstart\u001b[0m\u001b[0;34m,\u001b[0m \u001b[0msl\u001b[0m\u001b[0;34m.\u001b[0m\u001b[0mstop\u001b[0m\u001b[0;34m)\u001b[0m \u001b[0;32mfor\u001b[0m \u001b[0msl\u001b[0m \u001b[0;32min\u001b[0m \u001b[0mslices\u001b[0m\u001b[0;34m]\u001b[0m\u001b[0;34m\u001b[0m\u001b[0;34m\u001b[0m\u001b[0m\n\u001b[0m\u001b[1;32m   1277\u001b[0m \u001b[0;34m\u001b[0m\u001b[0m\n\u001b[1;32m   1278\u001b[0m     \u001b[0;32mdef\u001b[0m \u001b[0msentences_from_text\u001b[0m\u001b[0;34m(\u001b[0m\u001b[0mself\u001b[0m\u001b[0;34m,\u001b[0m \u001b[0mtext\u001b[0m\u001b[0;34m,\u001b[0m \u001b[0mrealign_boundaries\u001b[0m\u001b[0;34m=\u001b[0m\u001b[0;32mTrue\u001b[0m\u001b[0;34m)\u001b[0m\u001b[0;34m:\u001b[0m\u001b[0;34m\u001b[0m\u001b[0;34m\u001b[0m\u001b[0m\n",
            "\u001b[0;32m/usr/local/lib/python3.7/dist-packages/nltk/tokenize/punkt.py\u001b[0m in \u001b[0;36m<listcomp>\u001b[0;34m(.0)\u001b[0m\n\u001b[1;32m   1274\u001b[0m         \u001b[0;32mif\u001b[0m \u001b[0mrealign_boundaries\u001b[0m\u001b[0;34m:\u001b[0m\u001b[0;34m\u001b[0m\u001b[0;34m\u001b[0m\u001b[0m\n\u001b[1;32m   1275\u001b[0m             \u001b[0mslices\u001b[0m \u001b[0;34m=\u001b[0m \u001b[0mself\u001b[0m\u001b[0;34m.\u001b[0m\u001b[0m_realign_boundaries\u001b[0m\u001b[0;34m(\u001b[0m\u001b[0mtext\u001b[0m\u001b[0;34m,\u001b[0m \u001b[0mslices\u001b[0m\u001b[0;34m)\u001b[0m\u001b[0;34m\u001b[0m\u001b[0;34m\u001b[0m\u001b[0m\n\u001b[0;32m-> 1276\u001b[0;31m         \u001b[0;32mreturn\u001b[0m \u001b[0;34m[\u001b[0m\u001b[0;34m(\u001b[0m\u001b[0msl\u001b[0m\u001b[0;34m.\u001b[0m\u001b[0mstart\u001b[0m\u001b[0;34m,\u001b[0m \u001b[0msl\u001b[0m\u001b[0;34m.\u001b[0m\u001b[0mstop\u001b[0m\u001b[0;34m)\u001b[0m \u001b[0;32mfor\u001b[0m \u001b[0msl\u001b[0m \u001b[0;32min\u001b[0m \u001b[0mslices\u001b[0m\u001b[0;34m]\u001b[0m\u001b[0;34m\u001b[0m\u001b[0;34m\u001b[0m\u001b[0m\n\u001b[0m\u001b[1;32m   1277\u001b[0m \u001b[0;34m\u001b[0m\u001b[0m\n\u001b[1;32m   1278\u001b[0m     \u001b[0;32mdef\u001b[0m \u001b[0msentences_from_text\u001b[0m\u001b[0;34m(\u001b[0m\u001b[0mself\u001b[0m\u001b[0;34m,\u001b[0m \u001b[0mtext\u001b[0m\u001b[0;34m,\u001b[0m \u001b[0mrealign_boundaries\u001b[0m\u001b[0;34m=\u001b[0m\u001b[0;32mTrue\u001b[0m\u001b[0;34m)\u001b[0m\u001b[0;34m:\u001b[0m\u001b[0;34m\u001b[0m\u001b[0;34m\u001b[0m\u001b[0m\n",
            "\u001b[0;32m/usr/local/lib/python3.7/dist-packages/nltk/tokenize/punkt.py\u001b[0m in \u001b[0;36m_realign_boundaries\u001b[0;34m(self, text, slices)\u001b[0m\n\u001b[1;32m   1314\u001b[0m         \"\"\"\n\u001b[1;32m   1315\u001b[0m         \u001b[0mrealign\u001b[0m \u001b[0;34m=\u001b[0m \u001b[0;36m0\u001b[0m\u001b[0;34m\u001b[0m\u001b[0;34m\u001b[0m\u001b[0m\n\u001b[0;32m-> 1316\u001b[0;31m         \u001b[0;32mfor\u001b[0m \u001b[0msl1\u001b[0m\u001b[0;34m,\u001b[0m \u001b[0msl2\u001b[0m \u001b[0;32min\u001b[0m \u001b[0m_pair_iter\u001b[0m\u001b[0;34m(\u001b[0m\u001b[0mslices\u001b[0m\u001b[0;34m)\u001b[0m\u001b[0;34m:\u001b[0m\u001b[0;34m\u001b[0m\u001b[0;34m\u001b[0m\u001b[0m\n\u001b[0m\u001b[1;32m   1317\u001b[0m             \u001b[0msl1\u001b[0m \u001b[0;34m=\u001b[0m \u001b[0mslice\u001b[0m\u001b[0;34m(\u001b[0m\u001b[0msl1\u001b[0m\u001b[0;34m.\u001b[0m\u001b[0mstart\u001b[0m \u001b[0;34m+\u001b[0m \u001b[0mrealign\u001b[0m\u001b[0;34m,\u001b[0m \u001b[0msl1\u001b[0m\u001b[0;34m.\u001b[0m\u001b[0mstop\u001b[0m\u001b[0;34m)\u001b[0m\u001b[0;34m\u001b[0m\u001b[0;34m\u001b[0m\u001b[0m\n\u001b[1;32m   1318\u001b[0m             \u001b[0;32mif\u001b[0m \u001b[0;32mnot\u001b[0m \u001b[0msl2\u001b[0m\u001b[0;34m:\u001b[0m\u001b[0;34m\u001b[0m\u001b[0;34m\u001b[0m\u001b[0m\n",
            "\u001b[0;32m/usr/local/lib/python3.7/dist-packages/nltk/tokenize/punkt.py\u001b[0m in \u001b[0;36m_pair_iter\u001b[0;34m(it)\u001b[0m\n\u001b[1;32m    310\u001b[0m     \"\"\"\n\u001b[1;32m    311\u001b[0m     \u001b[0mit\u001b[0m \u001b[0;34m=\u001b[0m \u001b[0miter\u001b[0m\u001b[0;34m(\u001b[0m\u001b[0mit\u001b[0m\u001b[0;34m)\u001b[0m\u001b[0;34m\u001b[0m\u001b[0;34m\u001b[0m\u001b[0m\n\u001b[0;32m--> 312\u001b[0;31m     \u001b[0mprev\u001b[0m \u001b[0;34m=\u001b[0m \u001b[0mnext\u001b[0m\u001b[0;34m(\u001b[0m\u001b[0mit\u001b[0m\u001b[0;34m)\u001b[0m\u001b[0;34m\u001b[0m\u001b[0;34m\u001b[0m\u001b[0m\n\u001b[0m\u001b[1;32m    313\u001b[0m     \u001b[0;32mfor\u001b[0m \u001b[0mel\u001b[0m \u001b[0;32min\u001b[0m \u001b[0mit\u001b[0m\u001b[0;34m:\u001b[0m\u001b[0;34m\u001b[0m\u001b[0;34m\u001b[0m\u001b[0m\n\u001b[1;32m    314\u001b[0m         \u001b[0;32myield\u001b[0m \u001b[0;34m(\u001b[0m\u001b[0mprev\u001b[0m\u001b[0;34m,\u001b[0m \u001b[0mel\u001b[0m\u001b[0;34m)\u001b[0m\u001b[0;34m\u001b[0m\u001b[0;34m\u001b[0m\u001b[0m\n",
            "\u001b[0;32m/usr/local/lib/python3.7/dist-packages/nltk/tokenize/punkt.py\u001b[0m in \u001b[0;36m_slices_from_text\u001b[0;34m(self, text)\u001b[0m\n\u001b[1;32m   1287\u001b[0m     \u001b[0;32mdef\u001b[0m \u001b[0m_slices_from_text\u001b[0m\u001b[0;34m(\u001b[0m\u001b[0mself\u001b[0m\u001b[0;34m,\u001b[0m \u001b[0mtext\u001b[0m\u001b[0;34m)\u001b[0m\u001b[0;34m:\u001b[0m\u001b[0;34m\u001b[0m\u001b[0;34m\u001b[0m\u001b[0m\n\u001b[1;32m   1288\u001b[0m         \u001b[0mlast_break\u001b[0m \u001b[0;34m=\u001b[0m \u001b[0;36m0\u001b[0m\u001b[0;34m\u001b[0m\u001b[0;34m\u001b[0m\u001b[0m\n\u001b[0;32m-> 1289\u001b[0;31m         \u001b[0;32mfor\u001b[0m \u001b[0mmatch\u001b[0m \u001b[0;32min\u001b[0m \u001b[0mself\u001b[0m\u001b[0;34m.\u001b[0m\u001b[0m_lang_vars\u001b[0m\u001b[0;34m.\u001b[0m\u001b[0mperiod_context_re\u001b[0m\u001b[0;34m(\u001b[0m\u001b[0;34m)\u001b[0m\u001b[0;34m.\u001b[0m\u001b[0mfinditer\u001b[0m\u001b[0;34m(\u001b[0m\u001b[0mtext\u001b[0m\u001b[0;34m)\u001b[0m\u001b[0;34m:\u001b[0m\u001b[0;34m\u001b[0m\u001b[0;34m\u001b[0m\u001b[0m\n\u001b[0m\u001b[1;32m   1290\u001b[0m             \u001b[0mcontext\u001b[0m \u001b[0;34m=\u001b[0m \u001b[0mmatch\u001b[0m\u001b[0;34m.\u001b[0m\u001b[0mgroup\u001b[0m\u001b[0;34m(\u001b[0m\u001b[0;34m)\u001b[0m \u001b[0;34m+\u001b[0m \u001b[0mmatch\u001b[0m\u001b[0;34m.\u001b[0m\u001b[0mgroup\u001b[0m\u001b[0;34m(\u001b[0m\u001b[0;34m'after_tok'\u001b[0m\u001b[0;34m)\u001b[0m\u001b[0;34m\u001b[0m\u001b[0;34m\u001b[0m\u001b[0m\n\u001b[1;32m   1291\u001b[0m             \u001b[0;32mif\u001b[0m \u001b[0mself\u001b[0m\u001b[0;34m.\u001b[0m\u001b[0mtext_contains_sentbreak\u001b[0m\u001b[0;34m(\u001b[0m\u001b[0mcontext\u001b[0m\u001b[0;34m)\u001b[0m\u001b[0;34m:\u001b[0m\u001b[0;34m\u001b[0m\u001b[0;34m\u001b[0m\u001b[0m\n",
            "\u001b[0;31mTypeError\u001b[0m: expected string or bytes-like object"
          ]
        }
      ]
    },
    {
      "cell_type": "code",
      "metadata": {
        "id": "YJYfZfnarl6a"
      },
      "source": [
        ""
      ],
      "execution_count": null,
      "outputs": []
    }
  ]
}