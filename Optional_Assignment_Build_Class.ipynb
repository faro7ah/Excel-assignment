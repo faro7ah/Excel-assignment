{
  "nbformat": 4,
  "nbformat_minor": 0,
  "metadata": {
    "colab": {
      "name": "Optional_Assignment_Build_Class.ipynb",
      "provenance": [],
      "collapsed_sections": [],
      "include_colab_link": true
    },
    "kernelspec": {
      "name": "python3",
      "display_name": "Python 3"
    }
  },
  "cells": [
    {
      "cell_type": "markdown",
      "metadata": {
        "id": "view-in-github",
        "colab_type": "text"
      },
      "source": [
        "<a href=\"https://colab.research.google.com/github/faro7ah/python_project/blob/main/Optional_Assignment_Build_Class.ipynb\" target=\"_parent\"><img src=\"https://colab.research.google.com/assets/colab-badge.svg\" alt=\"Open In Colab\"/></a>"
      ]
    },
    {
      "cell_type": "markdown",
      "metadata": {
        "id": "bsL0OJ16DEBe"
      },
      "source": [
        "# **Build Company Class**"
      ]
    },
    {
      "cell_type": "code",
      "metadata": {
        "id": "wfDHgAgRCx5d"
      },
      "source": [
        "# define a class\r\n",
        "class Company:\r\n",
        "\r\n",
        "    # create instances\r\n",
        "    def __init__(self, name, industry_type, num_employees, total_revenue):\r\n",
        "        self.name = name\r\n",
        "        self.industry_type = industry_type\r\n",
        "        self.num_employees = num_employees\r\n",
        "        self.total_revenue = total_revenue\r\n",
        "\r\n",
        "    # First Method\r\n",
        "    def serve_customer(self, cost_customer):\r\n",
        "      self.cost_customer = cost_customer\r\n",
        "      self.total_revenue += cost_customer \r\n",
        "      print(self.total_revenue)\r\n",
        "      \r\n",
        "     # Second Method \r\n",
        "    def gain_employees(self, new_employee):\r\n",
        "      self.new_employee = new_employee\r\n",
        "      self.num_employees += len(new_employee)\r\n",
        "      print(self.num_employees)"
      ],
      "execution_count": null,
      "outputs": []
    },
    {
      "cell_type": "code",
      "metadata": {
        "id": "riG7lJvSFDxD"
      },
      "source": [
        "riyadh_tea = Company('Riyadh Tea Co', 'Food', 30, 2000.0)"
      ],
      "execution_count": null,
      "outputs": []
    },
    {
      "cell_type": "code",
      "metadata": {
        "colab": {
          "base_uri": "https://localhost:8080/"
        },
        "id": "27aAHIYoF1lx",
        "outputId": "45bddc9b-10e4-4278-d78d-4d2d99ece403"
      },
      "source": [
        "riyadh_tea.serve_customer(100.50)"
      ],
      "execution_count": null,
      "outputs": [
        {
          "output_type": "stream",
          "text": [
            "2100.5\n"
          ],
          "name": "stdout"
        }
      ]
    },
    {
      "cell_type": "code",
      "metadata": {
        "colab": {
          "base_uri": "https://localhost:8080/"
        },
        "id": "hCdWzi-yIJ_4",
        "outputId": "ccf6e113-705a-45b1-afd5-3ba38e43dbb6"
      },
      "source": [
        "riyadh_tea.gain_employees(['Sara','Ghadi','Hind'])"
      ],
      "execution_count": null,
      "outputs": [
        {
          "output_type": "stream",
          "text": [
            "33\n"
          ],
          "name": "stdout"
        }
      ]
    },
    {
      "cell_type": "markdown",
      "metadata": {
        "id": "QrywJx-hIjr8"
      },
      "source": [
        "# **Build Class TV**"
      ]
    },
    {
      "cell_type": "code",
      "metadata": {
        "id": "NrMh8voWIpJZ"
      },
      "source": [
        "# define a class\r\n",
        "class TV:\r\n",
        "\r\n",
        "    # create instances\r\n",
        "    def __init__(self, brand, on_status = False, life_perc = 100.0):\r\n",
        "      self.brand = brand\r\n",
        "      self.on_status = on_status\r\n",
        "      self.current_channel = 0\r\n",
        "      self.life_perc = life_perc\r\n",
        "\r\n",
        "    # First Method\r\n",
        "    def hit_power(self):\r\n",
        "\r\n",
        "      # Turn TV Off\r\n",
        "      if self.on_status == True:\r\n",
        "        self.on_status = False\r\n",
        "        self.life_perc -= 0.01\r\n",
        "        self.current_channel = 0\r\n",
        "        print(f' Status is {self.on_status}\\n Current Channel is {self.current_channel}\\n Life Perc is {self.life_perc}')\r\n",
        "\r\n",
        "     # Turn TV On\r\n",
        "      else:\r\n",
        "        self.on_status = True\r\n",
        "        print(f' Status is {self.on_status}\\n Current Channel is {self.current_channel}\\n Life Perc is {self.life_perc}')\r\n",
        "\r\n",
        "\r\n",
        "    # Second Method \r\n",
        "    def change_channel(self, new_channel):\r\n",
        "      self.new_channel = new_channel\r\n",
        "      # if TV is off\r\n",
        "      if self.on_status == True:\r\n",
        "        self.current_channel = new_channel\r\n",
        "        print(f'New Channel is {self.new_channel}')\r\n",
        "      else:\r\n",
        "        print('Television is not on!')\r\n",
        "\r\n",
        "\r\n"
      ],
      "execution_count": null,
      "outputs": []
    },
    {
      "cell_type": "code",
      "metadata": {
        "id": "CAcqAVBnLoS8"
      },
      "source": [
        "# When Status is True\r\n",
        "sony_TV = TV('Sony',True, 122)"
      ],
      "execution_count": null,
      "outputs": []
    },
    {
      "cell_type": "code",
      "metadata": {
        "colab": {
          "base_uri": "https://localhost:8080/"
        },
        "id": "nspaPNjFMOWE",
        "outputId": "b512eeb2-2eb1-421c-c0e1-590c58382c74"
      },
      "source": [
        "sony_TV.hit_power()"
      ],
      "execution_count": null,
      "outputs": [
        {
          "output_type": "stream",
          "text": [
            " Status is False\n",
            " Current Channel is 0\n",
            " Life Perc is 121.99\n"
          ],
          "name": "stdout"
        }
      ]
    },
    {
      "cell_type": "code",
      "metadata": {
        "id": "DUZy8434NYN_"
      },
      "source": [
        "# When Status is False\r\n",
        "lg_TV = TV('LG' ,False,80.50)"
      ],
      "execution_count": null,
      "outputs": []
    },
    {
      "cell_type": "code",
      "metadata": {
        "colab": {
          "base_uri": "https://localhost:8080/"
        },
        "id": "2cXKddvgNdvq",
        "outputId": "be1596f3-96ee-40d2-81ab-29795285cc9a"
      },
      "source": [
        "lg_TV.hit_power()"
      ],
      "execution_count": null,
      "outputs": [
        {
          "output_type": "stream",
          "text": [
            " Status is True\n",
            " Current Channel is 0\n",
            " Life Perc is 80.5\n"
          ],
          "name": "stdout"
        }
      ]
    },
    {
      "cell_type": "code",
      "metadata": {
        "colab": {
          "base_uri": "https://localhost:8080/"
        },
        "id": "NhbiRUF1Sx34",
        "outputId": "9bbaddd6-a9d7-4c17-b4eb-864d7be6a794"
      },
      "source": [
        "# When Status is default\r\n",
        "# test the methods \r\n",
        "new_TV = TV('LG')\r\n",
        "new_TV.on_status\r\n",
        "new_TV.hit_power()\r\n",
        "\r\n",
        "new_TV.change_channel(43)\r\n",
        "new_TV.current_channel\r\n",
        "\r\n",
        "new_TV.hit_power()\r\n",
        "new_TV.current_channel"
      ],
      "execution_count": null,
      "outputs": [
        {
          "output_type": "stream",
          "text": [
            " Status is True\n",
            " Current Channel is 0\n",
            " Life Perc is 100.0\n",
            "New Channel is 43\n",
            " Status is False\n",
            " Current Channel is 0\n",
            " Life Perc is 99.99\n"
          ],
          "name": "stdout"
        },
        {
          "output_type": "execute_result",
          "data": {
            "text/plain": [
              "0"
            ]
          },
          "metadata": {
            "tags": []
          },
          "execution_count": 165
        }
      ]
    },
    {
      "cell_type": "code",
      "metadata": {
        "colab": {
          "base_uri": "https://localhost:8080/"
        },
        "id": "7Avqy8lyPyc2",
        "outputId": "da0c7439-3fc5-4ed7-d1f5-94e711fec89b"
      },
      "source": [
        "# change channel when TV is off\r\n",
        "sony_TV.change_channel(55)"
      ],
      "execution_count": null,
      "outputs": [
        {
          "output_type": "stream",
          "text": [
            "Television is not on!\n"
          ],
          "name": "stdout"
        }
      ]
    },
    {
      "cell_type": "code",
      "metadata": {
        "colab": {
          "base_uri": "https://localhost:8080/"
        },
        "id": "NIcB3yT0SWBC",
        "outputId": "1dea3dbd-1aa7-4437-cec0-ed300f1fe8d7"
      },
      "source": [
        "# change channel when TV is on\r\n",
        "lg_TV.change_channel(55)"
      ],
      "execution_count": null,
      "outputs": [
        {
          "output_type": "stream",
          "text": [
            "New Channel is 55\n"
          ],
          "name": "stdout"
        }
      ]
    },
    {
      "cell_type": "markdown",
      "metadata": {
        "id": "fAk-EiQ0fLBS"
      },
      "source": [
        "## **[Link to Assignment Questions](https://github.com/gumdropsteve/intro_to_python/blob/main/day_07/02_assignment.md)**"
      ]
    }
  ]
}