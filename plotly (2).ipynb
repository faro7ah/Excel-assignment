{
 "cells": [
  {
   "cell_type": "code",
   "execution_count": 5,
   "metadata": {},
   "outputs": [],
   "source": [
    "import pandas as pd\n",
    "import numpy as np\n",
    "from plotly import __version__\n",
    "import dash\n",
    "import dash_core_components as dcc\n",
    "import dash_html_components as html\n",
    "import plotly.graph_objs as go\n",
    "from dash.dependencies import Input, Output\n",
    "import plotly.express as px\n",
    "from jupyter_dash import JupyterDash\n",
    "from plotly.offline import download_plotlyjs, init_notebook_mode, plot, iplot\n",
    "import cufflinks as cf"
   ]
  },
  {
   "cell_type": "code",
   "execution_count": null,
   "metadata": {},
   "outputs": [],
   "source": [
    "init_notebook_mode(connected= True)"
   ]
  },
  {
   "cell_type": "code",
   "execution_count": null,
   "metadata": {},
   "outputs": [],
   "source": [
    "cf.go_offline()"
   ]
  },
  {
   "cell_type": "code",
   "execution_count": 1,
   "metadata": {},
   "outputs": [
    {
     "data": {
      "text/html": [
       "\n",
       "        <iframe\n",
       "            width=\"100%\"\n",
       "            height=\"650\"\n",
       "            src=\"http://127.0.0.1:8050/\"\n",
       "            frameborder=\"0\"\n",
       "            allowfullscreen\n",
       "        ></iframe>\n",
       "        "
      ],
      "text/plain": [
       "<IPython.lib.display.IFrame at 0x1ecc481b100>"
      ]
     },
     "metadata": {},
     "output_type": "display_data"
    }
   ],
   "source": [
    "import plotly.express as px\n",
    "from jupyter_dash import JupyterDash\n",
    "import dash_core_components as dcc\n",
    "import dash_html_components as html\n",
    "from dash.dependencies import Input, Output\n",
    "# Load Data\n",
    "df = px.data.tips()\n",
    "# Build App\n",
    "app = JupyterDash(__name__)\n",
    "app.layout = html.Div([\n",
    "    html.H1(\"JupyterDash Demo\"),\n",
    "    dcc.Graph(id='graph'),\n",
    "    html.Label([\n",
    "        \"colorscale\",\n",
    "        dcc.Dropdown(\n",
    "            id='colorscale-dropdown', clearable=False,\n",
    "            value='plasma', options=[\n",
    "                {'label': c, 'value': c}\n",
    "                for c in px.colors.named_colorscales()\n",
    "            ])\n",
    "    ]),\n",
    "])\n",
    "# Define callback to update graph\n",
    "@app.callback(\n",
    "    Output('graph', 'figure'),\n",
    "    [Input(\"colorscale-dropdown\", \"value\")]\n",
    ")\n",
    "def update_figure(colorscale):\n",
    "    return px.scatter(\n",
    "        df, x=\"total_bill\", y=\"tip\", color=\"size\",\n",
    "        color_continuous_scale=colorscale,\n",
    "        render_mode=\"webgl\", title=\"Tips\"\n",
    "    )\n",
    "# Run app and display result inline in the notebook\n",
    "app.run_server(mode='inline')"
   ]
  },
  {
   "cell_type": "code",
   "execution_count": 10,
   "metadata": {},
   "outputs": [],
   "source": [
    "#app.run_server(mode='external')"
   ]
  },
  {
   "cell_type": "code",
   "execution_count": 11,
   "metadata": {},
   "outputs": [],
   "source": [
    "df = pd.read_excel(\"C:/Users/farah/Downloads/world-cup-data.xlsx\")"
   ]
  },
  {
   "cell_type": "code",
   "execution_count": 12,
   "metadata": {},
   "outputs": [
    {
     "data": {
      "text/html": [
       "<div>\n",
       "<style scoped>\n",
       "    .dataframe tbody tr th:only-of-type {\n",
       "        vertical-align: middle;\n",
       "    }\n",
       "\n",
       "    .dataframe tbody tr th {\n",
       "        vertical-align: top;\n",
       "    }\n",
       "\n",
       "    .dataframe thead th {\n",
       "        text-align: right;\n",
       "    }\n",
       "</style>\n",
       "<table border=\"1\" class=\"dataframe\">\n",
       "  <thead>\n",
       "    <tr style=\"text-align: right;\">\n",
       "      <th></th>\n",
       "      <th>game_id</th>\n",
       "      <th>attendance</th>\n",
       "      <th>team</th>\n",
       "      <th>tie</th>\n",
       "      <th>pk</th>\n",
       "      <th>stage</th>\n",
       "      <th>round</th>\n",
       "      <th>year</th>\n",
       "      <th>date</th>\n",
       "      <th>time</th>\n",
       "      <th>stadium</th>\n",
       "      <th>home</th>\n",
       "      <th>lat</th>\n",
       "      <th>long</th>\n",
       "      <th>referee</th>\n",
       "      <th>booked</th>\n",
       "      <th>url</th>\n",
       "      <th>goals</th>\n",
       "      <th>team_num</th>\n",
       "    </tr>\n",
       "  </thead>\n",
       "  <tbody>\n",
       "    <tr>\n",
       "      <th>0</th>\n",
       "      <td>1</td>\n",
       "      <td>25000</td>\n",
       "      <td>Italy</td>\n",
       "      <td>False</td>\n",
       "      <td>False</td>\n",
       "      <td>FIRST ROUND</td>\n",
       "      <td>False</td>\n",
       "      <td>1934</td>\n",
       "      <td>27-05-1934 (16:00 h)</td>\n",
       "      <td>16:00</td>\n",
       "      <td>Stadio Nazionale del PNF (Roma)</td>\n",
       "      <td>Italy</td>\n",
       "      <td>41.926953</td>\n",
       "      <td>12.472197</td>\n",
       "      <td>RenÃÂ© Mercet (SWI)</td>\n",
       "      <td>NaN</td>\n",
       "      <td>1934_ITALY_FS.htm</td>\n",
       "      <td>7</td>\n",
       "      <td>1</td>\n",
       "    </tr>\n",
       "    <tr>\n",
       "      <th>1</th>\n",
       "      <td>1</td>\n",
       "      <td>25000</td>\n",
       "      <td>USA</td>\n",
       "      <td>False</td>\n",
       "      <td>False</td>\n",
       "      <td>FIRST ROUND</td>\n",
       "      <td>False</td>\n",
       "      <td>1934</td>\n",
       "      <td>27-05-1934 (16:00 h)</td>\n",
       "      <td>16:00</td>\n",
       "      <td>Stadio Nazionale del PNF (Roma)</td>\n",
       "      <td>Italy</td>\n",
       "      <td>41.926953</td>\n",
       "      <td>12.472197</td>\n",
       "      <td>RenÃÂ© Mercet (SWI)</td>\n",
       "      <td>NaN</td>\n",
       "      <td>1934_ITALY_FS.htm</td>\n",
       "      <td>1</td>\n",
       "      <td>2</td>\n",
       "    </tr>\n",
       "    <tr>\n",
       "      <th>2</th>\n",
       "      <td>2</td>\n",
       "      <td>16000</td>\n",
       "      <td>Austria</td>\n",
       "      <td>False</td>\n",
       "      <td>False</td>\n",
       "      <td>FIRST ROUND</td>\n",
       "      <td>False</td>\n",
       "      <td>1934</td>\n",
       "      <td>27-05-1934 (16:30 h)</td>\n",
       "      <td>16:30</td>\n",
       "      <td>Benito Mussolini (Torino)</td>\n",
       "      <td>Italy</td>\n",
       "      <td>45.066251</td>\n",
       "      <td>7.691228</td>\n",
       "      <td>John van Moorsel (NED)</td>\n",
       "      <td>NaN</td>\n",
       "      <td>1934_ITALY_FS.htm</td>\n",
       "      <td>3</td>\n",
       "      <td>1</td>\n",
       "    </tr>\n",
       "    <tr>\n",
       "      <th>3</th>\n",
       "      <td>2</td>\n",
       "      <td>16000</td>\n",
       "      <td>France</td>\n",
       "      <td>False</td>\n",
       "      <td>False</td>\n",
       "      <td>FIRST ROUND</td>\n",
       "      <td>False</td>\n",
       "      <td>1934</td>\n",
       "      <td>27-05-1934 (16:30 h)</td>\n",
       "      <td>16:30</td>\n",
       "      <td>Benito Mussolini (Torino)</td>\n",
       "      <td>Italy</td>\n",
       "      <td>45.066251</td>\n",
       "      <td>7.691228</td>\n",
       "      <td>John van Moorsel (NED)</td>\n",
       "      <td>NaN</td>\n",
       "      <td>1934_ITALY_FS.htm</td>\n",
       "      <td>2</td>\n",
       "      <td>2</td>\n",
       "    </tr>\n",
       "    <tr>\n",
       "      <th>4</th>\n",
       "      <td>3</td>\n",
       "      <td>8000</td>\n",
       "      <td>Germany</td>\n",
       "      <td>False</td>\n",
       "      <td>False</td>\n",
       "      <td>FIRST ROUND</td>\n",
       "      <td>False</td>\n",
       "      <td>1934</td>\n",
       "      <td>27-05-1934 (16:30 h)</td>\n",
       "      <td>16:30</td>\n",
       "      <td>Giovanni Berta (Firenze)</td>\n",
       "      <td>Italy</td>\n",
       "      <td>44.275234</td>\n",
       "      <td>11.722625</td>\n",
       "      <td>Francesco Mattea (ITA)</td>\n",
       "      <td>NaN</td>\n",
       "      <td>1934_ITALY_FS.htm</td>\n",
       "      <td>5</td>\n",
       "      <td>1</td>\n",
       "    </tr>\n",
       "  </tbody>\n",
       "</table>\n",
       "</div>"
      ],
      "text/plain": [
       "   game_id  attendance     team    tie     pk        stage  round  year  \\\n",
       "0        1       25000    Italy  False  False  FIRST ROUND  False  1934   \n",
       "1        1       25000      USA  False  False  FIRST ROUND  False  1934   \n",
       "2        2       16000  Austria  False  False  FIRST ROUND  False  1934   \n",
       "3        2       16000   France  False  False  FIRST ROUND  False  1934   \n",
       "4        3        8000  Germany  False  False  FIRST ROUND  False  1934   \n",
       "\n",
       "                   date   time                          stadium   home  \\\n",
       "0  27-05-1934 (16:00 h)  16:00  Stadio Nazionale del PNF (Roma)  Italy   \n",
       "1  27-05-1934 (16:00 h)  16:00  Stadio Nazionale del PNF (Roma)  Italy   \n",
       "2  27-05-1934 (16:30 h)  16:30        Benito Mussolini (Torino)  Italy   \n",
       "3  27-05-1934 (16:30 h)  16:30        Benito Mussolini (Torino)  Italy   \n",
       "4  27-05-1934 (16:30 h)  16:30         Giovanni Berta (Firenze)  Italy   \n",
       "\n",
       "         lat       long                 referee booked                url  \\\n",
       "0  41.926953  12.472197    RenÃÂ© Mercet (SWI)    NaN  1934_ITALY_FS.htm   \n",
       "1  41.926953  12.472197    RenÃÂ© Mercet (SWI)    NaN  1934_ITALY_FS.htm   \n",
       "2  45.066251   7.691228  John van Moorsel (NED)    NaN  1934_ITALY_FS.htm   \n",
       "3  45.066251   7.691228  John van Moorsel (NED)    NaN  1934_ITALY_FS.htm   \n",
       "4  44.275234  11.722625  Francesco Mattea (ITA)    NaN  1934_ITALY_FS.htm   \n",
       "\n",
       "   goals  team_num  \n",
       "0      7         1  \n",
       "1      1         2  \n",
       "2      3         1  \n",
       "3      2         2  \n",
       "4      5         1  "
      ]
     },
     "execution_count": 12,
     "metadata": {},
     "output_type": "execute_result"
    }
   ],
   "source": [
    "df.head()"
   ]
  },
  {
   "cell_type": "code",
   "execution_count": 20,
   "metadata": {},
   "outputs": [
    {
     "ename": "AttributeError",
     "evalue": "'DataFrame' object has no attribute 'goals'",
     "output_type": "error",
     "traceback": [
      "\u001b[1;31m---------------------------------------------------------------------------\u001b[0m",
      "\u001b[1;31mAttributeError\u001b[0m                            Traceback (most recent call last)",
      "\u001b[1;32m<ipython-input-20-bafc4ada4d2f>\u001b[0m in \u001b[0;36m<module>\u001b[1;34m\u001b[0m\n\u001b[0;32m     15\u001b[0m         dcc.Dropdown(\n\u001b[0;32m     16\u001b[0m             \u001b[0mid\u001b[0m\u001b[1;33m=\u001b[0m\u001b[1;34m'colorscale-dropdown'\u001b[0m\u001b[1;33m,\u001b[0m \u001b[0mclearable\u001b[0m\u001b[1;33m=\u001b[0m\u001b[1;32mFalse\u001b[0m\u001b[1;33m,\u001b[0m\u001b[1;33m\u001b[0m\u001b[1;33m\u001b[0m\u001b[0m\n\u001b[1;32m---> 17\u001b[1;33m             value=df.goals, options=[\n\u001b[0m\u001b[0;32m     18\u001b[0m                 \u001b[1;33m{\u001b[0m\u001b[1;34m'label'\u001b[0m\u001b[1;33m:\u001b[0m \u001b[0mc\u001b[0m\u001b[1;33m,\u001b[0m \u001b[1;34m'value'\u001b[0m\u001b[1;33m:\u001b[0m \u001b[0mc\u001b[0m\u001b[1;33m}\u001b[0m\u001b[1;33m\u001b[0m\u001b[1;33m\u001b[0m\u001b[0m\n\u001b[0;32m     19\u001b[0m                 \u001b[1;32mfor\u001b[0m \u001b[0mc\u001b[0m \u001b[1;32min\u001b[0m \u001b[0mdf\u001b[0m\u001b[1;33m.\u001b[0m\u001b[0mgoals\u001b[0m\u001b[1;33m\u001b[0m\u001b[1;33m\u001b[0m\u001b[0m\n",
      "\u001b[1;32m~\\anaconda3\\lib\\site-packages\\pandas\\core\\generic.py\u001b[0m in \u001b[0;36m__getattr__\u001b[1;34m(self, name)\u001b[0m\n\u001b[0;32m   5137\u001b[0m             \u001b[1;32mif\u001b[0m \u001b[0mself\u001b[0m\u001b[1;33m.\u001b[0m\u001b[0m_info_axis\u001b[0m\u001b[1;33m.\u001b[0m\u001b[0m_can_hold_identifiers_and_holds_name\u001b[0m\u001b[1;33m(\u001b[0m\u001b[0mname\u001b[0m\u001b[1;33m)\u001b[0m\u001b[1;33m:\u001b[0m\u001b[1;33m\u001b[0m\u001b[1;33m\u001b[0m\u001b[0m\n\u001b[0;32m   5138\u001b[0m                 \u001b[1;32mreturn\u001b[0m \u001b[0mself\u001b[0m\u001b[1;33m[\u001b[0m\u001b[0mname\u001b[0m\u001b[1;33m]\u001b[0m\u001b[1;33m\u001b[0m\u001b[1;33m\u001b[0m\u001b[0m\n\u001b[1;32m-> 5139\u001b[1;33m             \u001b[1;32mreturn\u001b[0m \u001b[0mobject\u001b[0m\u001b[1;33m.\u001b[0m\u001b[0m__getattribute__\u001b[0m\u001b[1;33m(\u001b[0m\u001b[0mself\u001b[0m\u001b[1;33m,\u001b[0m \u001b[0mname\u001b[0m\u001b[1;33m)\u001b[0m\u001b[1;33m\u001b[0m\u001b[1;33m\u001b[0m\u001b[0m\n\u001b[0m\u001b[0;32m   5140\u001b[0m \u001b[1;33m\u001b[0m\u001b[0m\n\u001b[0;32m   5141\u001b[0m     \u001b[1;32mdef\u001b[0m \u001b[0m__setattr__\u001b[0m\u001b[1;33m(\u001b[0m\u001b[0mself\u001b[0m\u001b[1;33m,\u001b[0m \u001b[0mname\u001b[0m\u001b[1;33m:\u001b[0m \u001b[0mstr\u001b[0m\u001b[1;33m,\u001b[0m \u001b[0mvalue\u001b[0m\u001b[1;33m)\u001b[0m \u001b[1;33m->\u001b[0m \u001b[1;32mNone\u001b[0m\u001b[1;33m:\u001b[0m\u001b[1;33m\u001b[0m\u001b[1;33m\u001b[0m\u001b[0m\n",
      "\u001b[1;31mAttributeError\u001b[0m: 'DataFrame' object has no attribute 'goals'"
     ]
    }
   ],
   "source": [
    "import plotly.express as px\n",
    "from jupyter_dash import JupyterDash\n",
    "import dash_core_components as dcc\n",
    "import dash_html_components as html\n",
    "from dash.dependencies import Input, Output\n",
    "# Load Data\n",
    "df = px.data.tips()\n",
    "# Build App\n",
    "app = JupyterDash(__name__)\n",
    "app.layout = html.Div([\n",
    "    html.H1(\"JupyterDash Demo\"),\n",
    "    dcc.Graph(id='graph'),\n",
    "    html.Label([\n",
    "        \"colorscale\",\n",
    "        dcc.Dropdown(\n",
    "            id='colorscale-dropdown', clearable=False,\n",
    "            value=df.goals, options=[\n",
    "                {'label': c, 'value': c}\n",
    "                for c in df.goals\n",
    "            ])\n",
    "    ]),\n",
    "])\n",
    "# Define callback to update graph\n",
    "@app.callback(\n",
    "    Output('graph', 'figure'),\n",
    "    [Input(\"colorscale-dropdown\", \"value\")]\n",
    ")\n",
    "def update_figure(goals):\n",
    "    return px.scatter(\n",
    "        df, x=goals, y=\"team_num\", color=\"goals\",\n",
    "        color_continuous_scale=colorscale,\n",
    "        render_mode=\"webgl\", title=\"scatter\"\n",
    "    )\n",
    "# Run app and display result inline in the notebook\n",
    "app.run_server(mode='inline')"
   ]
  },
  {
   "cell_type": "code",
   "execution_count": 26,
   "metadata": {},
   "outputs": [
    {
     "data": {
      "application/vnd.jupyter.widget-view+json": {
       "model_id": "3688bf8b9b804a0fa0737a3e9747525d",
       "version_major": 2,
       "version_minor": 0
      },
      "text/plain": [
       "IntSlider(value=50)"
      ]
     },
     "metadata": {},
     "output_type": "display_data"
    }
   ],
   "source": [
    "from ipywidgets import IntSlider\n",
    "slider = IntSlider(value=50)\n",
    "slider"
   ]
  },
  {
   "cell_type": "code",
   "execution_count": 30,
   "metadata": {},
   "outputs": [
    {
     "name": "stdout",
     "output_type": "stream",
     "text": [
      "<class 'pandas.core.frame.DataFrame'>\n",
      "Int64Index: 1672 entries, 1934 to 1954\n",
      "Data columns (total 18 columns):\n",
      " #   Column      Non-Null Count  Dtype \n",
      "---  ------      --------------  ----- \n",
      " 0   game_id     1672 non-null   int64 \n",
      " 1   attendance  1672 non-null   int64 \n",
      " 2   team        1672 non-null   object\n",
      " 3   tie         1672 non-null   bool  \n",
      " 4   pk          1672 non-null   object\n",
      " 5   stage       1672 non-null   object\n",
      " 6   round       1672 non-null   object\n",
      " 7   date        1672 non-null   object\n",
      " 8   time        1672 non-null   object\n",
      " 9   stadium     1672 non-null   object\n",
      " 10  home        1672 non-null   object\n",
      " 11  lat         1672 non-null   object\n",
      " 12  long        1672 non-null   object\n",
      " 13  referee     1672 non-null   object\n",
      " 14  booked      576 non-null    object\n",
      " 15  url         1672 non-null   object\n",
      " 16  goals       1672 non-null   int64 \n",
      " 17  team_num    1672 non-null   int64 \n",
      "dtypes: bool(1), int64(4), object(13)\n",
      "memory usage: 276.8+ KB\n"
     ]
    }
   ],
   "source": [
    "df.info()"
   ]
  },
  {
   "cell_type": "code",
   "execution_count": 20,
   "metadata": {},
   "outputs": [],
   "source": [
    "df.set_index(['year'], inplace=True)"
   ]
  },
  {
   "cell_type": "code",
   "execution_count": 25,
   "metadata": {},
   "outputs": [
    {
     "data": {
      "text/plain": [
       "year\n",
       "2014    South Korea\n",
       "2014         Greece\n",
       "2014        Belgium\n",
       "2014        Belgium\n",
       "2014         Brazil\n",
       "2014         Greece\n",
       "2014          Chile\n",
       "2014          Chile\n",
       "2014      Argentina\n",
       "2014            USA\n",
       "Name: team, dtype: object"
      ]
     },
     "execution_count": 25,
     "metadata": {},
     "output_type": "execute_result"
    }
   ],
   "source": [
    "df.loc[2014].team.sample(10)"
   ]
  },
  {
   "cell_type": "code",
   "execution_count": 14,
   "metadata": {},
   "outputs": [
    {
     "data": {
      "text/html": [
       "<div>\n",
       "<style scoped>\n",
       "    .dataframe tbody tr th:only-of-type {\n",
       "        vertical-align: middle;\n",
       "    }\n",
       "\n",
       "    .dataframe tbody tr th {\n",
       "        vertical-align: top;\n",
       "    }\n",
       "\n",
       "    .dataframe thead th {\n",
       "        text-align: right;\n",
       "    }\n",
       "</style>\n",
       "<table border=\"1\" class=\"dataframe\">\n",
       "  <thead>\n",
       "    <tr style=\"text-align: right;\">\n",
       "      <th></th>\n",
       "      <th>game_id</th>\n",
       "      <th>attendance</th>\n",
       "      <th>team</th>\n",
       "      <th>tie</th>\n",
       "      <th>pk</th>\n",
       "      <th>stage</th>\n",
       "      <th>round</th>\n",
       "      <th>year</th>\n",
       "      <th>date</th>\n",
       "      <th>time</th>\n",
       "      <th>stadium</th>\n",
       "      <th>home</th>\n",
       "      <th>lat</th>\n",
       "      <th>long</th>\n",
       "      <th>referee</th>\n",
       "      <th>booked</th>\n",
       "      <th>url</th>\n",
       "      <th>goals</th>\n",
       "      <th>team_num</th>\n",
       "    </tr>\n",
       "  </thead>\n",
       "  <tbody>\n",
       "    <tr>\n",
       "      <th>272</th>\n",
       "      <td>137</td>\n",
       "      <td>62103</td>\n",
       "      <td>Brazil</td>\n",
       "      <td>False</td>\n",
       "      <td>False</td>\n",
       "      <td>GROUP STAGE</td>\n",
       "      <td>False</td>\n",
       "      <td>2014</td>\n",
       "      <td>12-06-2014 (17:00 h)</td>\n",
       "      <td>17:00</td>\n",
       "      <td>Arena Corinthians (SÃ£o Paulo)</td>\n",
       "      <td>Brazil</td>\n",
       "      <td>False</td>\n",
       "      <td>False</td>\n",
       "      <td>Yuichi Nishimura (JAP)</td>\n",
       "      <td>Neymar (27Ã¢ÂÂ), Luiz Gustavo (88Ã¢ÂÂ) / Ä...</td>\n",
       "      <td>2014_BRAZIL_FS.htm</td>\n",
       "      <td>3</td>\n",
       "      <td>1</td>\n",
       "    </tr>\n",
       "    <tr>\n",
       "      <th>273</th>\n",
       "      <td>137</td>\n",
       "      <td>62103</td>\n",
       "      <td>Croatia</td>\n",
       "      <td>False</td>\n",
       "      <td>False</td>\n",
       "      <td>GROUP STAGE</td>\n",
       "      <td>False</td>\n",
       "      <td>2014</td>\n",
       "      <td>12-06-2014 (17:00 h)</td>\n",
       "      <td>17:00</td>\n",
       "      <td>Arena Corinthians (SÃ£o Paulo)</td>\n",
       "      <td>Brazil</td>\n",
       "      <td>False</td>\n",
       "      <td>False</td>\n",
       "      <td>Yuichi Nishimura (JAP)</td>\n",
       "      <td>Neymar (27Ã¢ÂÂ), Luiz Gustavo (88Ã¢ÂÂ) / Ä...</td>\n",
       "      <td>2014_BRAZIL_FS.htm</td>\n",
       "      <td>1</td>\n",
       "      <td>2</td>\n",
       "    </tr>\n",
       "    <tr>\n",
       "      <th>274</th>\n",
       "      <td>138</td>\n",
       "      <td>39216</td>\n",
       "      <td>Mexico</td>\n",
       "      <td>False</td>\n",
       "      <td>False</td>\n",
       "      <td>GROUP STAGE</td>\n",
       "      <td>False</td>\n",
       "      <td>2014</td>\n",
       "      <td>13-06-2014 (13:00 h)</td>\n",
       "      <td>13:00</td>\n",
       "      <td>Arena das Dunas (Natal)</td>\n",
       "      <td>Brazil</td>\n",
       "      <td>-5.826827</td>\n",
       "      <td>-35.21243</td>\n",
       "      <td>Wilmar RoldÃÂ¡n (COL)</td>\n",
       "      <td>Moreno (57Ã¢ÂÂ) / Nounkeu (77Ã¢ÂÂ)</td>\n",
       "      <td>2014_BRAZIL_FS.htm</td>\n",
       "      <td>1</td>\n",
       "      <td>1</td>\n",
       "    </tr>\n",
       "    <tr>\n",
       "      <th>275</th>\n",
       "      <td>138</td>\n",
       "      <td>39216</td>\n",
       "      <td>Cameroon</td>\n",
       "      <td>False</td>\n",
       "      <td>False</td>\n",
       "      <td>GROUP STAGE</td>\n",
       "      <td>False</td>\n",
       "      <td>2014</td>\n",
       "      <td>13-06-2014 (13:00 h)</td>\n",
       "      <td>13:00</td>\n",
       "      <td>Arena das Dunas (Natal)</td>\n",
       "      <td>Brazil</td>\n",
       "      <td>-5.826827</td>\n",
       "      <td>-35.21243</td>\n",
       "      <td>Wilmar RoldÃÂ¡n (COL)</td>\n",
       "      <td>Moreno (57Ã¢ÂÂ) / Nounkeu (77Ã¢ÂÂ)</td>\n",
       "      <td>2014_BRAZIL_FS.htm</td>\n",
       "      <td>0</td>\n",
       "      <td>2</td>\n",
       "    </tr>\n",
       "    <tr>\n",
       "      <th>276</th>\n",
       "      <td>139</td>\n",
       "      <td>48173</td>\n",
       "      <td>Spain</td>\n",
       "      <td>False</td>\n",
       "      <td>False</td>\n",
       "      <td>GROUP STAGE</td>\n",
       "      <td>False</td>\n",
       "      <td>2014</td>\n",
       "      <td>13-06-2014 (16:00 h)</td>\n",
       "      <td>16:00</td>\n",
       "      <td>Arena Fonte Nova (Salvador)</td>\n",
       "      <td>Brazil</td>\n",
       "      <td>-12.97883</td>\n",
       "      <td>-38.504371</td>\n",
       "      <td>Nicola Rizzoli (ITA)</td>\n",
       "      <td>Casillas (65Ã¢ÂÂ) / De GuzmÃÂ¡n (25Ã¢ÂÂ),...</td>\n",
       "      <td>2014_BRAZIL_FS.htm</td>\n",
       "      <td>1</td>\n",
       "      <td>1</td>\n",
       "    </tr>\n",
       "  </tbody>\n",
       "</table>\n",
       "</div>"
      ],
      "text/plain": [
       "     game_id  attendance      team    tie     pk        stage  round  year  \\\n",
       "272      137       62103    Brazil  False  False  GROUP STAGE  False  2014   \n",
       "273      137       62103   Croatia  False  False  GROUP STAGE  False  2014   \n",
       "274      138       39216    Mexico  False  False  GROUP STAGE  False  2014   \n",
       "275      138       39216  Cameroon  False  False  GROUP STAGE  False  2014   \n",
       "276      139       48173     Spain  False  False  GROUP STAGE  False  2014   \n",
       "\n",
       "                     date   time                         stadium    home  \\\n",
       "272  12-06-2014 (17:00 h)  17:00  Arena Corinthians (SÃ£o Paulo)  Brazil   \n",
       "273  12-06-2014 (17:00 h)  17:00  Arena Corinthians (SÃ£o Paulo)  Brazil   \n",
       "274  13-06-2014 (13:00 h)  13:00         Arena das Dunas (Natal)  Brazil   \n",
       "275  13-06-2014 (13:00 h)  13:00         Arena das Dunas (Natal)  Brazil   \n",
       "276  13-06-2014 (16:00 h)  16:00     Arena Fonte Nova (Salvador)  Brazil   \n",
       "\n",
       "           lat        long                 referee  \\\n",
       "272      False       False  Yuichi Nishimura (JAP)   \n",
       "273      False       False  Yuichi Nishimura (JAP)   \n",
       "274  -5.826827   -35.21243  Wilmar RoldÃÂ¡n (COL)   \n",
       "275  -5.826827   -35.21243  Wilmar RoldÃÂ¡n (COL)   \n",
       "276  -12.97883  -38.504371    Nicola Rizzoli (ITA)   \n",
       "\n",
       "                                                booked                 url  \\\n",
       "272  Neymar (27Ã¢ÂÂ), Luiz Gustavo (88Ã¢ÂÂ) / Ä...  2014_BRAZIL_FS.htm   \n",
       "273  Neymar (27Ã¢ÂÂ), Luiz Gustavo (88Ã¢ÂÂ) / Ä...  2014_BRAZIL_FS.htm   \n",
       "274             Moreno (57Ã¢ÂÂ) / Nounkeu (77Ã¢ÂÂ)  2014_BRAZIL_FS.htm   \n",
       "275             Moreno (57Ã¢ÂÂ) / Nounkeu (77Ã¢ÂÂ)  2014_BRAZIL_FS.htm   \n",
       "276  Casillas (65Ã¢ÂÂ) / De GuzmÃÂ¡n (25Ã¢ÂÂ),...  2014_BRAZIL_FS.htm   \n",
       "\n",
       "     goals  team_num  \n",
       "272      3         1  \n",
       "273      1         2  \n",
       "274      1         1  \n",
       "275      0         2  \n",
       "276      1         1  "
      ]
     },
     "execution_count": 14,
     "metadata": {},
     "output_type": "execute_result"
    }
   ],
   "source": [
    "df.loc[(df[\"year\"] == 1999) | (df[\"year\"] == 2014)].head()"
   ]
  },
  {
   "cell_type": "code",
   "execution_count": 32,
   "metadata": {},
   "outputs": [],
   "source": [
    "df = pd.DataFrame(np.random.randn(100,4), columns ='A B C D'.split())"
   ]
  },
  {
   "cell_type": "code",
   "execution_count": 34,
   "metadata": {},
   "outputs": [
    {
     "data": {
      "text/html": [
       "<div>\n",
       "<style scoped>\n",
       "    .dataframe tbody tr th:only-of-type {\n",
       "        vertical-align: middle;\n",
       "    }\n",
       "\n",
       "    .dataframe tbody tr th {\n",
       "        vertical-align: top;\n",
       "    }\n",
       "\n",
       "    .dataframe thead th {\n",
       "        text-align: right;\n",
       "    }\n",
       "</style>\n",
       "<table border=\"1\" class=\"dataframe\">\n",
       "  <thead>\n",
       "    <tr style=\"text-align: right;\">\n",
       "      <th></th>\n",
       "      <th>A</th>\n",
       "      <th>B</th>\n",
       "      <th>C</th>\n",
       "      <th>D</th>\n",
       "    </tr>\n",
       "  </thead>\n",
       "  <tbody>\n",
       "    <tr>\n",
       "      <th>0</th>\n",
       "      <td>-0.550139</td>\n",
       "      <td>-0.487910</td>\n",
       "      <td>-0.768635</td>\n",
       "      <td>-1.082917</td>\n",
       "    </tr>\n",
       "    <tr>\n",
       "      <th>1</th>\n",
       "      <td>0.282821</td>\n",
       "      <td>0.987648</td>\n",
       "      <td>-0.500593</td>\n",
       "      <td>-0.326448</td>\n",
       "    </tr>\n",
       "    <tr>\n",
       "      <th>2</th>\n",
       "      <td>0.334889</td>\n",
       "      <td>0.594510</td>\n",
       "      <td>1.627382</td>\n",
       "      <td>1.774946</td>\n",
       "    </tr>\n",
       "    <tr>\n",
       "      <th>3</th>\n",
       "      <td>1.544155</td>\n",
       "      <td>-0.828371</td>\n",
       "      <td>0.754142</td>\n",
       "      <td>0.750577</td>\n",
       "    </tr>\n",
       "    <tr>\n",
       "      <th>4</th>\n",
       "      <td>-1.278897</td>\n",
       "      <td>1.190322</td>\n",
       "      <td>3.215290</td>\n",
       "      <td>0.385026</td>\n",
       "    </tr>\n",
       "  </tbody>\n",
       "</table>\n",
       "</div>"
      ],
      "text/plain": [
       "          A         B         C         D\n",
       "0 -0.550139 -0.487910 -0.768635 -1.082917\n",
       "1  0.282821  0.987648 -0.500593 -0.326448\n",
       "2  0.334889  0.594510  1.627382  1.774946\n",
       "3  1.544155 -0.828371  0.754142  0.750577\n",
       "4 -1.278897  1.190322  3.215290  0.385026"
      ]
     },
     "execution_count": 34,
     "metadata": {},
     "output_type": "execute_result"
    }
   ],
   "source": [
    "df.head()"
   ]
  },
  {
   "cell_type": "code",
   "execution_count": 35,
   "metadata": {},
   "outputs": [],
   "source": [
    "df2=pd.DataFrame({'Category':['A', 'B', 'C'], 'Values':[32,43,50]})"
   ]
  },
  {
   "cell_type": "code",
   "execution_count": 36,
   "metadata": {},
   "outputs": [
    {
     "data": {
      "text/html": [
       "<div>\n",
       "<style scoped>\n",
       "    .dataframe tbody tr th:only-of-type {\n",
       "        vertical-align: middle;\n",
       "    }\n",
       "\n",
       "    .dataframe tbody tr th {\n",
       "        vertical-align: top;\n",
       "    }\n",
       "\n",
       "    .dataframe thead th {\n",
       "        text-align: right;\n",
       "    }\n",
       "</style>\n",
       "<table border=\"1\" class=\"dataframe\">\n",
       "  <thead>\n",
       "    <tr style=\"text-align: right;\">\n",
       "      <th></th>\n",
       "      <th>Category</th>\n",
       "      <th>Values</th>\n",
       "    </tr>\n",
       "  </thead>\n",
       "  <tbody>\n",
       "    <tr>\n",
       "      <th>0</th>\n",
       "      <td>A</td>\n",
       "      <td>32</td>\n",
       "    </tr>\n",
       "    <tr>\n",
       "      <th>1</th>\n",
       "      <td>B</td>\n",
       "      <td>43</td>\n",
       "    </tr>\n",
       "    <tr>\n",
       "      <th>2</th>\n",
       "      <td>C</td>\n",
       "      <td>50</td>\n",
       "    </tr>\n",
       "  </tbody>\n",
       "</table>\n",
       "</div>"
      ],
      "text/plain": [
       "  Category  Values\n",
       "0        A      32\n",
       "1        B      43\n",
       "2        C      50"
      ]
     },
     "execution_count": 36,
     "metadata": {},
     "output_type": "execute_result"
    }
   ],
   "source": [
    "df2"
   ]
  },
  {
   "cell_type": "code",
   "execution_count": 39,
   "metadata": {},
   "outputs": [
    {
     "data": {
      "application/vnd.plotly.v1+json": {
       "config": {
        "linkText": "Export to plot.ly",
        "plotlyServerURL": "https://plot.ly",
        "showLink": true
       },
       "data": [
        {
         "line": {
          "color": "rgba(255, 153, 51, 1.0)",
          "dash": "solid",
          "shape": "linear",
          "width": 1.3
         },
         "mode": "lines",
         "name": "A",
         "text": "",
         "type": "scatter",
         "x": [
          0,
          1,
          2,
          3,
          4,
          5,
          6,
          7,
          8,
          9,
          10,
          11,
          12,
          13,
          14,
          15,
          16,
          17,
          18,
          19,
          20,
          21,
          22,
          23,
          24,
          25,
          26,
          27,
          28,
          29,
          30,
          31,
          32,
          33,
          34,
          35,
          36,
          37,
          38,
          39,
          40,
          41,
          42,
          43,
          44,
          45,
          46,
          47,
          48,
          49,
          50,
          51,
          52,
          53,
          54,
          55,
          56,
          57,
          58,
          59,
          60,
          61,
          62,
          63,
          64,
          65,
          66,
          67,
          68,
          69,
          70,
          71,
          72,
          73,
          74,
          75,
          76,
          77,
          78,
          79,
          80,
          81,
          82,
          83,
          84,
          85,
          86,
          87,
          88,
          89,
          90,
          91,
          92,
          93,
          94,
          95,
          96,
          97,
          98,
          99
         ],
         "y": [
          -0.5501388279051266,
          0.2828211706046115,
          0.3348885677685019,
          1.5441553301502704,
          -1.2788967984211475,
          -0.09287337886648836,
          0.026711175106763223,
          0.2736110339907986,
          1.2384539659263458,
          0.6841331941667201,
          0.8848141040882154,
          0.04674681129296364,
          -0.48457724557233833,
          0.9154330198158651,
          1.442961145898735,
          -0.6005167049768165,
          0.6914871363986601,
          -1.9340954633544607,
          -0.5528903726821605,
          -0.7582308673122365,
          1.246734794724521,
          -2.1837977887999713,
          -1.4680811654544452,
          0.3796931539204804,
          0.06500665689533985,
          1.1710685059421095,
          -0.6998637194560006,
          -0.36680393313093124,
          -1.3944636763970932,
          -1.1454607991015293,
          -1.6503914782766194,
          -0.9798001283784527,
          0.06531541409851416,
          0.23925285257423903,
          -0.11196366385739318,
          0.7638411793486141,
          0.5994657583266502,
          -1.2616598603096307,
          0.5647500909253008,
          0.3164851071831265,
          -0.758078403841214,
          -0.7572967533364672,
          -1.2659119723581245,
          0.3134788271746873,
          -0.372936495147463,
          -1.134564328873474,
          -0.7677057054591264,
          -0.22458428341787287,
          -0.6978273727055969,
          0.17982399452691353,
          -0.09825542576519485,
          -0.7609701011786149,
          2.429609255555754,
          0.6472224488945693,
          -0.5016986709857216,
          1.7858591787165392,
          1.9252459189204463,
          -0.4436413872184579,
          -0.5986522680093763,
          -0.2993447176771738,
          0.2505318114217243,
          -0.4103417199762127,
          -1.0291476841023008,
          0.5818339299789222,
          -0.09580070612026968,
          0.4635665178419798,
          1.5857128815417192,
          -1.1040309449405015,
          0.027808309836411152,
          1.3486151862901092,
          -0.6732123515164896,
          0.01140713006941128,
          2.2590963048383306,
          0.3519757248705982,
          0.6712817218629114,
          -0.411641365208767,
          0.635167634734974,
          0.08401135755864605,
          1.081603468933302,
          1.2336082779778854,
          -0.05437711603619317,
          -1.2411256094122494,
          -0.294647477797967,
          -0.2721153624525617,
          1.7731103395016483,
          -0.3573149741111688,
          -0.6553012072340859,
          0.6339825579045116,
          -1.0024926958205458,
          -0.8915084398988622,
          0.5915212520180977,
          0.6872292069877427,
          0.4875277270329744,
          2.280449055206641,
          0.938243953349557,
          1.3661948835762125,
          -0.9050314394338017,
          0.41200559213496957,
          -0.903589167542792,
          0.031508477584495834
         ]
        },
        {
         "line": {
          "color": "rgba(55, 128, 191, 1.0)",
          "dash": "solid",
          "shape": "linear",
          "width": 1.3
         },
         "mode": "lines",
         "name": "B",
         "text": "",
         "type": "scatter",
         "x": [
          0,
          1,
          2,
          3,
          4,
          5,
          6,
          7,
          8,
          9,
          10,
          11,
          12,
          13,
          14,
          15,
          16,
          17,
          18,
          19,
          20,
          21,
          22,
          23,
          24,
          25,
          26,
          27,
          28,
          29,
          30,
          31,
          32,
          33,
          34,
          35,
          36,
          37,
          38,
          39,
          40,
          41,
          42,
          43,
          44,
          45,
          46,
          47,
          48,
          49,
          50,
          51,
          52,
          53,
          54,
          55,
          56,
          57,
          58,
          59,
          60,
          61,
          62,
          63,
          64,
          65,
          66,
          67,
          68,
          69,
          70,
          71,
          72,
          73,
          74,
          75,
          76,
          77,
          78,
          79,
          80,
          81,
          82,
          83,
          84,
          85,
          86,
          87,
          88,
          89,
          90,
          91,
          92,
          93,
          94,
          95,
          96,
          97,
          98,
          99
         ],
         "y": [
          -0.48791002678018597,
          0.987647631537103,
          0.5945095465032735,
          -0.8283706609401779,
          1.190322493921422,
          0.7812721128085657,
          -0.9096914676548563,
          -0.7173022361936521,
          1.1515787056963926,
          0.39920566579026273,
          0.38315850503567245,
          -0.264752939659317,
          0.29396201578770775,
          -1.2254333737797507,
          0.12935858163033137,
          -0.2686813852333544,
          0.6559777810950715,
          -0.18348767874642782,
          -0.160085990313816,
          0.5310582262486891,
          -0.40540375439093795,
          -0.24598075453693716,
          1.3856923493808804,
          -2.163575409902003,
          -0.6204021095906505,
          0.06881977956926566,
          0.016025939600353162,
          -0.11488286237699141,
          -0.15233666749154096,
          -1.3769452996755438,
          -0.7626386108132678,
          -1.5054549158607704,
          1.0969194565503417,
          -1.7051580589764737,
          -0.8658578476660473,
          -1.5014733817324954,
          0.3180234133541351,
          0.6525626278924859,
          -0.37680168698010924,
          1.6204805279625403,
          0.9052803109711928,
          -1.1879254006733497,
          0.242686321507178,
          -0.4964299546346243,
          -1.5253066526838772,
          0.15624412543578345,
          0.5896687775884655,
          0.14145220078674478,
          0.25141403837264376,
          -0.7348781152706002,
          -0.5184289088465611,
          -0.8920623285618051,
          -1.2617315376763125,
          1.5974663951895165,
          -0.6674842945669651,
          -0.7714160813953526,
          -1.4467605399259897,
          1.128288395268088,
          -0.39707566121686444,
          1.6102730083326415,
          -1.5568307936124655,
          -0.5535415424497399,
          0.5101496178775116,
          -0.26334991078952535,
          0.7808626963014158,
          -0.44139714874650643,
          -0.5020903931664377,
          -0.8823585142166717,
          -0.0777742527095273,
          -0.6142137082510551,
          0.5010452546099327,
          -0.7377747135138231,
          -1.0100318903767749,
          0.08092904449910325,
          1.0490871355344724,
          -1.5392996062805844,
          -1.76909434791513,
          -0.7561640309208387,
          0.4753418092725977,
          -0.6994091114035899,
          -1.8711878406556868,
          0.30083219727552224,
          0.5745369267834564,
          0.44642574006749347,
          -0.8953828845427201,
          -0.3194695076448172,
          0.05944405361755224,
          1.861382666385668,
          0.977394907805844,
          0.0026500803802341727,
          -1.1647932732025816,
          1.0224792461393641,
          0.9135000199251628,
          -0.8523034858287108,
          -0.002836363876322738,
          0.5534155965694564,
          -1.1296686770952686,
          -0.1671036270749407,
          0.7193726425897998,
          0.3875698044433354
         ]
        },
        {
         "line": {
          "color": "rgba(50, 171, 96, 1.0)",
          "dash": "solid",
          "shape": "linear",
          "width": 1.3
         },
         "mode": "lines",
         "name": "C",
         "text": "",
         "type": "scatter",
         "x": [
          0,
          1,
          2,
          3,
          4,
          5,
          6,
          7,
          8,
          9,
          10,
          11,
          12,
          13,
          14,
          15,
          16,
          17,
          18,
          19,
          20,
          21,
          22,
          23,
          24,
          25,
          26,
          27,
          28,
          29,
          30,
          31,
          32,
          33,
          34,
          35,
          36,
          37,
          38,
          39,
          40,
          41,
          42,
          43,
          44,
          45,
          46,
          47,
          48,
          49,
          50,
          51,
          52,
          53,
          54,
          55,
          56,
          57,
          58,
          59,
          60,
          61,
          62,
          63,
          64,
          65,
          66,
          67,
          68,
          69,
          70,
          71,
          72,
          73,
          74,
          75,
          76,
          77,
          78,
          79,
          80,
          81,
          82,
          83,
          84,
          85,
          86,
          87,
          88,
          89,
          90,
          91,
          92,
          93,
          94,
          95,
          96,
          97,
          98,
          99
         ],
         "y": [
          -0.7686352870394729,
          -0.5005929127684193,
          1.6273815899402355,
          0.7541424908962521,
          3.21528967162806,
          -0.07847553205492538,
          1.7005722401289458,
          1.1566762699184967,
          0.7346738177366564,
          -0.43988152404630115,
          1.6347627306141226,
          -0.2858836163806502,
          -0.7367346472135279,
          -1.2760415488638783,
          -0.8603515174295174,
          0.6319288981108254,
          -1.5616749085920751,
          0.6675936941189572,
          -1.4148324668681873,
          -0.6479755251471522,
          -0.8184219971759439,
          -0.3316299393199406,
          1.7635301206625769,
          -0.39197102181523086,
          -0.2371483003961358,
          0.022208767687005724,
          0.28574100534725155,
          -0.9447087271720123,
          0.5209279914189591,
          0.4888728564699685,
          -0.9499413928432333,
          0.03376845496667163,
          0.9028665514788343,
          0.7415332924295379,
          0.6230338806093985,
          -0.48896755814234477,
          1.6076516574401252,
          0.9188161229080418,
          0.34811962263220075,
          0.8588803895606412,
          -1.4507015068673672,
          -0.625080744270706,
          0.18962339563387115,
          1.1129755492925932,
          1.0847038940242828,
          -0.8643947073115332,
          0.006462637527801694,
          1.4822234053104895,
          0.17058150991126964,
          -0.9066849066706235,
          1.0430869603890818,
          0.04710422547327424,
          -0.7901288898721954,
          0.5618730995854034,
          -0.272800689058418,
          -0.6572014760164268,
          0.7132152922065768,
          0.10380771702153388,
          0.047342365963783224,
          1.0509501744786918,
          -1.6221446107471407,
          -1.3663347342297254,
          0.10334108448495223,
          1.495967157601308,
          0.42361192885059196,
          1.0113063532970752,
          -1.23433234513809,
          0.6944937963246417,
          0.0629749394779745,
          0.44326862749735063,
          -0.6978026833824434,
          -3.342157270675878,
          0.7878841309045427,
          1.5219306855093546,
          -0.35762556082549646,
          1.1400341641592369,
          1.039518388072946,
          1.3200181280749868,
          1.2955422033677848,
          -1.36491268003342,
          0.7678143530175171,
          0.30505967605230516,
          0.6891429843248748,
          1.4252667850526084,
          -0.9717078470006122,
          0.4601835634742277,
          0.35036992872636386,
          0.14218931823391157,
          1.340372831822923,
          -0.18784572858310175,
          -0.556000118904999,
          0.08886157787818058,
          -1.0965766243512105,
          0.7990717017998756,
          1.309954493724775,
          0.5262193775088226,
          -2.275467376987988,
          0.3572539372364792,
          -0.1646181908316166,
          0.38184921781911507
         ]
        },
        {
         "line": {
          "color": "rgba(128, 0, 128, 1.0)",
          "dash": "solid",
          "shape": "linear",
          "width": 1.3
         },
         "mode": "lines",
         "name": "D",
         "text": "",
         "type": "scatter",
         "x": [
          0,
          1,
          2,
          3,
          4,
          5,
          6,
          7,
          8,
          9,
          10,
          11,
          12,
          13,
          14,
          15,
          16,
          17,
          18,
          19,
          20,
          21,
          22,
          23,
          24,
          25,
          26,
          27,
          28,
          29,
          30,
          31,
          32,
          33,
          34,
          35,
          36,
          37,
          38,
          39,
          40,
          41,
          42,
          43,
          44,
          45,
          46,
          47,
          48,
          49,
          50,
          51,
          52,
          53,
          54,
          55,
          56,
          57,
          58,
          59,
          60,
          61,
          62,
          63,
          64,
          65,
          66,
          67,
          68,
          69,
          70,
          71,
          72,
          73,
          74,
          75,
          76,
          77,
          78,
          79,
          80,
          81,
          82,
          83,
          84,
          85,
          86,
          87,
          88,
          89,
          90,
          91,
          92,
          93,
          94,
          95,
          96,
          97,
          98,
          99
         ],
         "y": [
          -1.0829174647895734,
          -0.3264478653156613,
          1.7749457244159383,
          0.7505771519207103,
          0.38502629585819675,
          -0.24665383939239113,
          0.15982968970500974,
          1.1004689120183822,
          -0.5275400869147789,
          1.5192459344341538,
          -0.16418508272194024,
          -0.6971537729067928,
          -1.430872939641151,
          1.5623577199389191,
          0.5857623164771328,
          0.5295373499108055,
          0.13091909095140333,
          1.745113563252414,
          -1.777861370563535,
          -0.7840785915477513,
          -0.16638397812463557,
          -0.1944764958998176,
          0.0535712135650019,
          -0.8635647802719993,
          -0.9963201061025423,
          -1.0133501031597885,
          0.5426762999423757,
          -0.11289880092785584,
          -0.540342685069216,
          -2.4336519235790246,
          0.9864370741550704,
          0.5650097581832978,
          -0.7523400743980521,
          0.6972842788708032,
          0.2599115385012333,
          -0.350577488149285,
          -0.04592949943078049,
          -0.2894090047189445,
          -1.2703952844229618,
          -0.8234923515241498,
          -0.7060408402320951,
          0.5159977217165224,
          -1.0889870529033385,
          -1.2082205355423892,
          -1.8317001590068618,
          0.41073018062364364,
          -1.176930944574498,
          1.08264736017185,
          -0.7643260042145898,
          -2.679871949006736,
          -0.32552865059812264,
          -0.4029645576035117,
          0.9494676561809723,
          1.9052376709323602,
          -0.38301573292044583,
          -0.23204573356063646,
          -2.1075704516898384,
          1.5727632019008122,
          1.2956021013319572,
          0.7080125466913473,
          -1.4131744595798374,
          1.5888403328375043,
          -0.2981685780151461,
          0.4829873952687019,
          -0.169895070516765,
          -0.008416071628812643,
          1.1858013833074241,
          0.4647229232883668,
          1.0212959633912884,
          -1.0897109787591792,
          0.15744747636061904,
          -0.33465678742960375,
          -0.9312635847931175,
          1.934733983554715,
          0.8538204089159082,
          -0.9013555316621277,
          0.5168023270152615,
          -1.8744914757226243,
          -0.6804355912866883,
          -0.0876538243533555,
          -0.21492991460481234,
          -2.386371284859528,
          0.20998651933534954,
          -0.12512238354323477,
          -0.674139878561764,
          0.5150099395442697,
          -0.042603931735340446,
          -0.8804642992428915,
          1.378722239914689,
          -0.23307229461049025,
          1.3231502050581954,
          0.748239854935927,
          0.11982909363443044,
          0.5230828663247632,
          -1.9652690814372122,
          -0.5179917117320738,
          1.1268711515121748,
          1.6544024713269192,
          1.7386655205522845,
          -0.2908493269452821
         ]
        }
       ],
       "layout": {
        "legend": {
         "bgcolor": "#F5F6F9",
         "font": {
          "color": "#4D5663"
         }
        },
        "paper_bgcolor": "#F5F6F9",
        "plot_bgcolor": "#F5F6F9",
        "template": {
         "data": {
          "bar": [
           {
            "error_x": {
             "color": "#2a3f5f"
            },
            "error_y": {
             "color": "#2a3f5f"
            },
            "marker": {
             "line": {
              "color": "#E5ECF6",
              "width": 0.5
             }
            },
            "type": "bar"
           }
          ],
          "barpolar": [
           {
            "marker": {
             "line": {
              "color": "#E5ECF6",
              "width": 0.5
             }
            },
            "type": "barpolar"
           }
          ],
          "carpet": [
           {
            "aaxis": {
             "endlinecolor": "#2a3f5f",
             "gridcolor": "white",
             "linecolor": "white",
             "minorgridcolor": "white",
             "startlinecolor": "#2a3f5f"
            },
            "baxis": {
             "endlinecolor": "#2a3f5f",
             "gridcolor": "white",
             "linecolor": "white",
             "minorgridcolor": "white",
             "startlinecolor": "#2a3f5f"
            },
            "type": "carpet"
           }
          ],
          "choropleth": [
           {
            "colorbar": {
             "outlinewidth": 0,
             "ticks": ""
            },
            "type": "choropleth"
           }
          ],
          "contour": [
           {
            "colorbar": {
             "outlinewidth": 0,
             "ticks": ""
            },
            "colorscale": [
             [
              0,
              "#0d0887"
             ],
             [
              0.1111111111111111,
              "#46039f"
             ],
             [
              0.2222222222222222,
              "#7201a8"
             ],
             [
              0.3333333333333333,
              "#9c179e"
             ],
             [
              0.4444444444444444,
              "#bd3786"
             ],
             [
              0.5555555555555556,
              "#d8576b"
             ],
             [
              0.6666666666666666,
              "#ed7953"
             ],
             [
              0.7777777777777778,
              "#fb9f3a"
             ],
             [
              0.8888888888888888,
              "#fdca26"
             ],
             [
              1,
              "#f0f921"
             ]
            ],
            "type": "contour"
           }
          ],
          "contourcarpet": [
           {
            "colorbar": {
             "outlinewidth": 0,
             "ticks": ""
            },
            "type": "contourcarpet"
           }
          ],
          "heatmap": [
           {
            "colorbar": {
             "outlinewidth": 0,
             "ticks": ""
            },
            "colorscale": [
             [
              0,
              "#0d0887"
             ],
             [
              0.1111111111111111,
              "#46039f"
             ],
             [
              0.2222222222222222,
              "#7201a8"
             ],
             [
              0.3333333333333333,
              "#9c179e"
             ],
             [
              0.4444444444444444,
              "#bd3786"
             ],
             [
              0.5555555555555556,
              "#d8576b"
             ],
             [
              0.6666666666666666,
              "#ed7953"
             ],
             [
              0.7777777777777778,
              "#fb9f3a"
             ],
             [
              0.8888888888888888,
              "#fdca26"
             ],
             [
              1,
              "#f0f921"
             ]
            ],
            "type": "heatmap"
           }
          ],
          "heatmapgl": [
           {
            "colorbar": {
             "outlinewidth": 0,
             "ticks": ""
            },
            "colorscale": [
             [
              0,
              "#0d0887"
             ],
             [
              0.1111111111111111,
              "#46039f"
             ],
             [
              0.2222222222222222,
              "#7201a8"
             ],
             [
              0.3333333333333333,
              "#9c179e"
             ],
             [
              0.4444444444444444,
              "#bd3786"
             ],
             [
              0.5555555555555556,
              "#d8576b"
             ],
             [
              0.6666666666666666,
              "#ed7953"
             ],
             [
              0.7777777777777778,
              "#fb9f3a"
             ],
             [
              0.8888888888888888,
              "#fdca26"
             ],
             [
              1,
              "#f0f921"
             ]
            ],
            "type": "heatmapgl"
           }
          ],
          "histogram": [
           {
            "marker": {
             "colorbar": {
              "outlinewidth": 0,
              "ticks": ""
             }
            },
            "type": "histogram"
           }
          ],
          "histogram2d": [
           {
            "colorbar": {
             "outlinewidth": 0,
             "ticks": ""
            },
            "colorscale": [
             [
              0,
              "#0d0887"
             ],
             [
              0.1111111111111111,
              "#46039f"
             ],
             [
              0.2222222222222222,
              "#7201a8"
             ],
             [
              0.3333333333333333,
              "#9c179e"
             ],
             [
              0.4444444444444444,
              "#bd3786"
             ],
             [
              0.5555555555555556,
              "#d8576b"
             ],
             [
              0.6666666666666666,
              "#ed7953"
             ],
             [
              0.7777777777777778,
              "#fb9f3a"
             ],
             [
              0.8888888888888888,
              "#fdca26"
             ],
             [
              1,
              "#f0f921"
             ]
            ],
            "type": "histogram2d"
           }
          ],
          "histogram2dcontour": [
           {
            "colorbar": {
             "outlinewidth": 0,
             "ticks": ""
            },
            "colorscale": [
             [
              0,
              "#0d0887"
             ],
             [
              0.1111111111111111,
              "#46039f"
             ],
             [
              0.2222222222222222,
              "#7201a8"
             ],
             [
              0.3333333333333333,
              "#9c179e"
             ],
             [
              0.4444444444444444,
              "#bd3786"
             ],
             [
              0.5555555555555556,
              "#d8576b"
             ],
             [
              0.6666666666666666,
              "#ed7953"
             ],
             [
              0.7777777777777778,
              "#fb9f3a"
             ],
             [
              0.8888888888888888,
              "#fdca26"
             ],
             [
              1,
              "#f0f921"
             ]
            ],
            "type": "histogram2dcontour"
           }
          ],
          "mesh3d": [
           {
            "colorbar": {
             "outlinewidth": 0,
             "ticks": ""
            },
            "type": "mesh3d"
           }
          ],
          "parcoords": [
           {
            "line": {
             "colorbar": {
              "outlinewidth": 0,
              "ticks": ""
             }
            },
            "type": "parcoords"
           }
          ],
          "pie": [
           {
            "automargin": true,
            "type": "pie"
           }
          ],
          "scatter": [
           {
            "marker": {
             "colorbar": {
              "outlinewidth": 0,
              "ticks": ""
             }
            },
            "type": "scatter"
           }
          ],
          "scatter3d": [
           {
            "line": {
             "colorbar": {
              "outlinewidth": 0,
              "ticks": ""
             }
            },
            "marker": {
             "colorbar": {
              "outlinewidth": 0,
              "ticks": ""
             }
            },
            "type": "scatter3d"
           }
          ],
          "scattercarpet": [
           {
            "marker": {
             "colorbar": {
              "outlinewidth": 0,
              "ticks": ""
             }
            },
            "type": "scattercarpet"
           }
          ],
          "scattergeo": [
           {
            "marker": {
             "colorbar": {
              "outlinewidth": 0,
              "ticks": ""
             }
            },
            "type": "scattergeo"
           }
          ],
          "scattergl": [
           {
            "marker": {
             "colorbar": {
              "outlinewidth": 0,
              "ticks": ""
             }
            },
            "type": "scattergl"
           }
          ],
          "scattermapbox": [
           {
            "marker": {
             "colorbar": {
              "outlinewidth": 0,
              "ticks": ""
             }
            },
            "type": "scattermapbox"
           }
          ],
          "scatterpolar": [
           {
            "marker": {
             "colorbar": {
              "outlinewidth": 0,
              "ticks": ""
             }
            },
            "type": "scatterpolar"
           }
          ],
          "scatterpolargl": [
           {
            "marker": {
             "colorbar": {
              "outlinewidth": 0,
              "ticks": ""
             }
            },
            "type": "scatterpolargl"
           }
          ],
          "scatterternary": [
           {
            "marker": {
             "colorbar": {
              "outlinewidth": 0,
              "ticks": ""
             }
            },
            "type": "scatterternary"
           }
          ],
          "surface": [
           {
            "colorbar": {
             "outlinewidth": 0,
             "ticks": ""
            },
            "colorscale": [
             [
              0,
              "#0d0887"
             ],
             [
              0.1111111111111111,
              "#46039f"
             ],
             [
              0.2222222222222222,
              "#7201a8"
             ],
             [
              0.3333333333333333,
              "#9c179e"
             ],
             [
              0.4444444444444444,
              "#bd3786"
             ],
             [
              0.5555555555555556,
              "#d8576b"
             ],
             [
              0.6666666666666666,
              "#ed7953"
             ],
             [
              0.7777777777777778,
              "#fb9f3a"
             ],
             [
              0.8888888888888888,
              "#fdca26"
             ],
             [
              1,
              "#f0f921"
             ]
            ],
            "type": "surface"
           }
          ],
          "table": [
           {
            "cells": {
             "fill": {
              "color": "#EBF0F8"
             },
             "line": {
              "color": "white"
             }
            },
            "header": {
             "fill": {
              "color": "#C8D4E3"
             },
             "line": {
              "color": "white"
             }
            },
            "type": "table"
           }
          ]
         },
         "layout": {
          "annotationdefaults": {
           "arrowcolor": "#2a3f5f",
           "arrowhead": 0,
           "arrowwidth": 1
          },
          "autotypenumbers": "strict",
          "coloraxis": {
           "colorbar": {
            "outlinewidth": 0,
            "ticks": ""
           }
          },
          "colorscale": {
           "diverging": [
            [
             0,
             "#8e0152"
            ],
            [
             0.1,
             "#c51b7d"
            ],
            [
             0.2,
             "#de77ae"
            ],
            [
             0.3,
             "#f1b6da"
            ],
            [
             0.4,
             "#fde0ef"
            ],
            [
             0.5,
             "#f7f7f7"
            ],
            [
             0.6,
             "#e6f5d0"
            ],
            [
             0.7,
             "#b8e186"
            ],
            [
             0.8,
             "#7fbc41"
            ],
            [
             0.9,
             "#4d9221"
            ],
            [
             1,
             "#276419"
            ]
           ],
           "sequential": [
            [
             0,
             "#0d0887"
            ],
            [
             0.1111111111111111,
             "#46039f"
            ],
            [
             0.2222222222222222,
             "#7201a8"
            ],
            [
             0.3333333333333333,
             "#9c179e"
            ],
            [
             0.4444444444444444,
             "#bd3786"
            ],
            [
             0.5555555555555556,
             "#d8576b"
            ],
            [
             0.6666666666666666,
             "#ed7953"
            ],
            [
             0.7777777777777778,
             "#fb9f3a"
            ],
            [
             0.8888888888888888,
             "#fdca26"
            ],
            [
             1,
             "#f0f921"
            ]
           ],
           "sequentialminus": [
            [
             0,
             "#0d0887"
            ],
            [
             0.1111111111111111,
             "#46039f"
            ],
            [
             0.2222222222222222,
             "#7201a8"
            ],
            [
             0.3333333333333333,
             "#9c179e"
            ],
            [
             0.4444444444444444,
             "#bd3786"
            ],
            [
             0.5555555555555556,
             "#d8576b"
            ],
            [
             0.6666666666666666,
             "#ed7953"
            ],
            [
             0.7777777777777778,
             "#fb9f3a"
            ],
            [
             0.8888888888888888,
             "#fdca26"
            ],
            [
             1,
             "#f0f921"
            ]
           ]
          },
          "colorway": [
           "#636efa",
           "#EF553B",
           "#00cc96",
           "#ab63fa",
           "#FFA15A",
           "#19d3f3",
           "#FF6692",
           "#B6E880",
           "#FF97FF",
           "#FECB52"
          ],
          "font": {
           "color": "#2a3f5f"
          },
          "geo": {
           "bgcolor": "white",
           "lakecolor": "white",
           "landcolor": "#E5ECF6",
           "showlakes": true,
           "showland": true,
           "subunitcolor": "white"
          },
          "hoverlabel": {
           "align": "left"
          },
          "hovermode": "closest",
          "mapbox": {
           "style": "light"
          },
          "paper_bgcolor": "white",
          "plot_bgcolor": "#E5ECF6",
          "polar": {
           "angularaxis": {
            "gridcolor": "white",
            "linecolor": "white",
            "ticks": ""
           },
           "bgcolor": "#E5ECF6",
           "radialaxis": {
            "gridcolor": "white",
            "linecolor": "white",
            "ticks": ""
           }
          },
          "scene": {
           "xaxis": {
            "backgroundcolor": "#E5ECF6",
            "gridcolor": "white",
            "gridwidth": 2,
            "linecolor": "white",
            "showbackground": true,
            "ticks": "",
            "zerolinecolor": "white"
           },
           "yaxis": {
            "backgroundcolor": "#E5ECF6",
            "gridcolor": "white",
            "gridwidth": 2,
            "linecolor": "white",
            "showbackground": true,
            "ticks": "",
            "zerolinecolor": "white"
           },
           "zaxis": {
            "backgroundcolor": "#E5ECF6",
            "gridcolor": "white",
            "gridwidth": 2,
            "linecolor": "white",
            "showbackground": true,
            "ticks": "",
            "zerolinecolor": "white"
           }
          },
          "shapedefaults": {
           "line": {
            "color": "#2a3f5f"
           }
          },
          "ternary": {
           "aaxis": {
            "gridcolor": "white",
            "linecolor": "white",
            "ticks": ""
           },
           "baxis": {
            "gridcolor": "white",
            "linecolor": "white",
            "ticks": ""
           },
           "bgcolor": "#E5ECF6",
           "caxis": {
            "gridcolor": "white",
            "linecolor": "white",
            "ticks": ""
           }
          },
          "title": {
           "x": 0.05
          },
          "xaxis": {
           "automargin": true,
           "gridcolor": "white",
           "linecolor": "white",
           "ticks": "",
           "title": {
            "standoff": 15
           },
           "zerolinecolor": "white",
           "zerolinewidth": 2
          },
          "yaxis": {
           "automargin": true,
           "gridcolor": "white",
           "linecolor": "white",
           "ticks": "",
           "title": {
            "standoff": 15
           },
           "zerolinecolor": "white",
           "zerolinewidth": 2
          }
         }
        },
        "title": {
         "font": {
          "color": "#4D5663"
         }
        },
        "xaxis": {
         "gridcolor": "#E1E5ED",
         "showgrid": true,
         "tickfont": {
          "color": "#4D5663"
         },
         "title": {
          "font": {
           "color": "#4D5663"
          },
          "text": ""
         },
         "zerolinecolor": "#E1E5ED"
        },
        "yaxis": {
         "gridcolor": "#E1E5ED",
         "showgrid": true,
         "tickfont": {
          "color": "#4D5663"
         },
         "title": {
          "font": {
           "color": "#4D5663"
          },
          "text": ""
         },
         "zerolinecolor": "#E1E5ED"
        }
       }
      },
      "text/html": [
       "<div>                            <div id=\"ccc348aa-d524-4962-8e8f-3c2473895b0f\" class=\"plotly-graph-div\" style=\"height:525px; width:100%;\"></div>            <script type=\"text/javascript\">                require([\"plotly\"], function(Plotly) {                    window.PLOTLYENV=window.PLOTLYENV || {};\n",
       "                    window.PLOTLYENV.BASE_URL='https://plot.ly';                                    if (document.getElementById(\"ccc348aa-d524-4962-8e8f-3c2473895b0f\")) {                    Plotly.newPlot(                        \"ccc348aa-d524-4962-8e8f-3c2473895b0f\",                        [{\"line\": {\"color\": \"rgba(255, 153, 51, 1.0)\", \"dash\": \"solid\", \"shape\": \"linear\", \"width\": 1.3}, \"mode\": \"lines\", \"name\": \"A\", \"text\": \"\", \"type\": \"scatter\", \"x\": [0, 1, 2, 3, 4, 5, 6, 7, 8, 9, 10, 11, 12, 13, 14, 15, 16, 17, 18, 19, 20, 21, 22, 23, 24, 25, 26, 27, 28, 29, 30, 31, 32, 33, 34, 35, 36, 37, 38, 39, 40, 41, 42, 43, 44, 45, 46, 47, 48, 49, 50, 51, 52, 53, 54, 55, 56, 57, 58, 59, 60, 61, 62, 63, 64, 65, 66, 67, 68, 69, 70, 71, 72, 73, 74, 75, 76, 77, 78, 79, 80, 81, 82, 83, 84, 85, 86, 87, 88, 89, 90, 91, 92, 93, 94, 95, 96, 97, 98, 99], \"y\": [-0.5501388279051266, 0.2828211706046115, 0.3348885677685019, 1.5441553301502704, -1.2788967984211475, -0.09287337886648836, 0.026711175106763223, 0.2736110339907986, 1.2384539659263458, 0.6841331941667201, 0.8848141040882154, 0.04674681129296364, -0.48457724557233833, 0.9154330198158651, 1.442961145898735, -0.6005167049768165, 0.6914871363986601, -1.9340954633544607, -0.5528903726821605, -0.7582308673122365, 1.246734794724521, -2.1837977887999713, -1.4680811654544452, 0.3796931539204804, 0.06500665689533985, 1.1710685059421095, -0.6998637194560006, -0.36680393313093124, -1.3944636763970932, -1.1454607991015293, -1.6503914782766194, -0.9798001283784527, 0.06531541409851416, 0.23925285257423903, -0.11196366385739318, 0.7638411793486141, 0.5994657583266502, -1.2616598603096307, 0.5647500909253008, 0.3164851071831265, -0.758078403841214, -0.7572967533364672, -1.2659119723581245, 0.3134788271746873, -0.372936495147463, -1.134564328873474, -0.7677057054591264, -0.22458428341787287, -0.6978273727055969, 0.17982399452691353, -0.09825542576519485, -0.7609701011786149, 2.429609255555754, 0.6472224488945693, -0.5016986709857216, 1.7858591787165392, 1.9252459189204463, -0.4436413872184579, -0.5986522680093763, -0.2993447176771738, 0.2505318114217243, -0.4103417199762127, -1.0291476841023008, 0.5818339299789222, -0.09580070612026968, 0.4635665178419798, 1.5857128815417192, -1.1040309449405015, 0.027808309836411152, 1.3486151862901092, -0.6732123515164896, 0.01140713006941128, 2.2590963048383306, 0.3519757248705982, 0.6712817218629114, -0.411641365208767, 0.635167634734974, 0.08401135755864605, 1.081603468933302, 1.2336082779778854, -0.05437711603619317, -1.2411256094122494, -0.294647477797967, -0.2721153624525617, 1.7731103395016483, -0.3573149741111688, -0.6553012072340859, 0.6339825579045116, -1.0024926958205458, -0.8915084398988622, 0.5915212520180977, 0.6872292069877427, 0.4875277270329744, 2.280449055206641, 0.938243953349557, 1.3661948835762125, -0.9050314394338017, 0.41200559213496957, -0.903589167542792, 0.031508477584495834]}, {\"line\": {\"color\": \"rgba(55, 128, 191, 1.0)\", \"dash\": \"solid\", \"shape\": \"linear\", \"width\": 1.3}, \"mode\": \"lines\", \"name\": \"B\", \"text\": \"\", \"type\": \"scatter\", \"x\": [0, 1, 2, 3, 4, 5, 6, 7, 8, 9, 10, 11, 12, 13, 14, 15, 16, 17, 18, 19, 20, 21, 22, 23, 24, 25, 26, 27, 28, 29, 30, 31, 32, 33, 34, 35, 36, 37, 38, 39, 40, 41, 42, 43, 44, 45, 46, 47, 48, 49, 50, 51, 52, 53, 54, 55, 56, 57, 58, 59, 60, 61, 62, 63, 64, 65, 66, 67, 68, 69, 70, 71, 72, 73, 74, 75, 76, 77, 78, 79, 80, 81, 82, 83, 84, 85, 86, 87, 88, 89, 90, 91, 92, 93, 94, 95, 96, 97, 98, 99], \"y\": [-0.48791002678018597, 0.987647631537103, 0.5945095465032735, -0.8283706609401779, 1.190322493921422, 0.7812721128085657, -0.9096914676548563, -0.7173022361936521, 1.1515787056963926, 0.39920566579026273, 0.38315850503567245, -0.264752939659317, 0.29396201578770775, -1.2254333737797507, 0.12935858163033137, -0.2686813852333544, 0.6559777810950715, -0.18348767874642782, -0.160085990313816, 0.5310582262486891, -0.40540375439093795, -0.24598075453693716, 1.3856923493808804, -2.163575409902003, -0.6204021095906505, 0.06881977956926566, 0.016025939600353162, -0.11488286237699141, -0.15233666749154096, -1.3769452996755438, -0.7626386108132678, -1.5054549158607704, 1.0969194565503417, -1.7051580589764737, -0.8658578476660473, -1.5014733817324954, 0.3180234133541351, 0.6525626278924859, -0.37680168698010924, 1.6204805279625403, 0.9052803109711928, -1.1879254006733497, 0.242686321507178, -0.4964299546346243, -1.5253066526838772, 0.15624412543578345, 0.5896687775884655, 0.14145220078674478, 0.25141403837264376, -0.7348781152706002, -0.5184289088465611, -0.8920623285618051, -1.2617315376763125, 1.5974663951895165, -0.6674842945669651, -0.7714160813953526, -1.4467605399259897, 1.128288395268088, -0.39707566121686444, 1.6102730083326415, -1.5568307936124655, -0.5535415424497399, 0.5101496178775116, -0.26334991078952535, 0.7808626963014158, -0.44139714874650643, -0.5020903931664377, -0.8823585142166717, -0.0777742527095273, -0.6142137082510551, 0.5010452546099327, -0.7377747135138231, -1.0100318903767749, 0.08092904449910325, 1.0490871355344724, -1.5392996062805844, -1.76909434791513, -0.7561640309208387, 0.4753418092725977, -0.6994091114035899, -1.8711878406556868, 0.30083219727552224, 0.5745369267834564, 0.44642574006749347, -0.8953828845427201, -0.3194695076448172, 0.05944405361755224, 1.861382666385668, 0.977394907805844, 0.0026500803802341727, -1.1647932732025816, 1.0224792461393641, 0.9135000199251628, -0.8523034858287108, -0.002836363876322738, 0.5534155965694564, -1.1296686770952686, -0.1671036270749407, 0.7193726425897998, 0.3875698044433354]}, {\"line\": {\"color\": \"rgba(50, 171, 96, 1.0)\", \"dash\": \"solid\", \"shape\": \"linear\", \"width\": 1.3}, \"mode\": \"lines\", \"name\": \"C\", \"text\": \"\", \"type\": \"scatter\", \"x\": [0, 1, 2, 3, 4, 5, 6, 7, 8, 9, 10, 11, 12, 13, 14, 15, 16, 17, 18, 19, 20, 21, 22, 23, 24, 25, 26, 27, 28, 29, 30, 31, 32, 33, 34, 35, 36, 37, 38, 39, 40, 41, 42, 43, 44, 45, 46, 47, 48, 49, 50, 51, 52, 53, 54, 55, 56, 57, 58, 59, 60, 61, 62, 63, 64, 65, 66, 67, 68, 69, 70, 71, 72, 73, 74, 75, 76, 77, 78, 79, 80, 81, 82, 83, 84, 85, 86, 87, 88, 89, 90, 91, 92, 93, 94, 95, 96, 97, 98, 99], \"y\": [-0.7686352870394729, -0.5005929127684193, 1.6273815899402355, 0.7541424908962521, 3.21528967162806, -0.07847553205492538, 1.7005722401289458, 1.1566762699184967, 0.7346738177366564, -0.43988152404630115, 1.6347627306141226, -0.2858836163806502, -0.7367346472135279, -1.2760415488638783, -0.8603515174295174, 0.6319288981108254, -1.5616749085920751, 0.6675936941189572, -1.4148324668681873, -0.6479755251471522, -0.8184219971759439, -0.3316299393199406, 1.7635301206625769, -0.39197102181523086, -0.2371483003961358, 0.022208767687005724, 0.28574100534725155, -0.9447087271720123, 0.5209279914189591, 0.4888728564699685, -0.9499413928432333, 0.03376845496667163, 0.9028665514788343, 0.7415332924295379, 0.6230338806093985, -0.48896755814234477, 1.6076516574401252, 0.9188161229080418, 0.34811962263220075, 0.8588803895606412, -1.4507015068673672, -0.625080744270706, 0.18962339563387115, 1.1129755492925932, 1.0847038940242828, -0.8643947073115332, 0.006462637527801694, 1.4822234053104895, 0.17058150991126964, -0.9066849066706235, 1.0430869603890818, 0.04710422547327424, -0.7901288898721954, 0.5618730995854034, -0.272800689058418, -0.6572014760164268, 0.7132152922065768, 0.10380771702153388, 0.047342365963783224, 1.0509501744786918, -1.6221446107471407, -1.3663347342297254, 0.10334108448495223, 1.495967157601308, 0.42361192885059196, 1.0113063532970752, -1.23433234513809, 0.6944937963246417, 0.0629749394779745, 0.44326862749735063, -0.6978026833824434, -3.342157270675878, 0.7878841309045427, 1.5219306855093546, -0.35762556082549646, 1.1400341641592369, 1.039518388072946, 1.3200181280749868, 1.2955422033677848, -1.36491268003342, 0.7678143530175171, 0.30505967605230516, 0.6891429843248748, 1.4252667850526084, -0.9717078470006122, 0.4601835634742277, 0.35036992872636386, 0.14218931823391157, 1.340372831822923, -0.18784572858310175, -0.556000118904999, 0.08886157787818058, -1.0965766243512105, 0.7990717017998756, 1.309954493724775, 0.5262193775088226, -2.275467376987988, 0.3572539372364792, -0.1646181908316166, 0.38184921781911507]}, {\"line\": {\"color\": \"rgba(128, 0, 128, 1.0)\", \"dash\": \"solid\", \"shape\": \"linear\", \"width\": 1.3}, \"mode\": \"lines\", \"name\": \"D\", \"text\": \"\", \"type\": \"scatter\", \"x\": [0, 1, 2, 3, 4, 5, 6, 7, 8, 9, 10, 11, 12, 13, 14, 15, 16, 17, 18, 19, 20, 21, 22, 23, 24, 25, 26, 27, 28, 29, 30, 31, 32, 33, 34, 35, 36, 37, 38, 39, 40, 41, 42, 43, 44, 45, 46, 47, 48, 49, 50, 51, 52, 53, 54, 55, 56, 57, 58, 59, 60, 61, 62, 63, 64, 65, 66, 67, 68, 69, 70, 71, 72, 73, 74, 75, 76, 77, 78, 79, 80, 81, 82, 83, 84, 85, 86, 87, 88, 89, 90, 91, 92, 93, 94, 95, 96, 97, 98, 99], \"y\": [-1.0829174647895734, -0.3264478653156613, 1.7749457244159383, 0.7505771519207103, 0.38502629585819675, -0.24665383939239113, 0.15982968970500974, 1.1004689120183822, -0.5275400869147789, 1.5192459344341538, -0.16418508272194024, -0.6971537729067928, -1.430872939641151, 1.5623577199389191, 0.5857623164771328, 0.5295373499108055, 0.13091909095140333, 1.745113563252414, -1.777861370563535, -0.7840785915477513, -0.16638397812463557, -0.1944764958998176, 0.0535712135650019, -0.8635647802719993, -0.9963201061025423, -1.0133501031597885, 0.5426762999423757, -0.11289880092785584, -0.540342685069216, -2.4336519235790246, 0.9864370741550704, 0.5650097581832978, -0.7523400743980521, 0.6972842788708032, 0.2599115385012333, -0.350577488149285, -0.04592949943078049, -0.2894090047189445, -1.2703952844229618, -0.8234923515241498, -0.7060408402320951, 0.5159977217165224, -1.0889870529033385, -1.2082205355423892, -1.8317001590068618, 0.41073018062364364, -1.176930944574498, 1.08264736017185, -0.7643260042145898, -2.679871949006736, -0.32552865059812264, -0.4029645576035117, 0.9494676561809723, 1.9052376709323602, -0.38301573292044583, -0.23204573356063646, -2.1075704516898384, 1.5727632019008122, 1.2956021013319572, 0.7080125466913473, -1.4131744595798374, 1.5888403328375043, -0.2981685780151461, 0.4829873952687019, -0.169895070516765, -0.008416071628812643, 1.1858013833074241, 0.4647229232883668, 1.0212959633912884, -1.0897109787591792, 0.15744747636061904, -0.33465678742960375, -0.9312635847931175, 1.934733983554715, 0.8538204089159082, -0.9013555316621277, 0.5168023270152615, -1.8744914757226243, -0.6804355912866883, -0.0876538243533555, -0.21492991460481234, -2.386371284859528, 0.20998651933534954, -0.12512238354323477, -0.674139878561764, 0.5150099395442697, -0.042603931735340446, -0.8804642992428915, 1.378722239914689, -0.23307229461049025, 1.3231502050581954, 0.748239854935927, 0.11982909363443044, 0.5230828663247632, -1.9652690814372122, -0.5179917117320738, 1.1268711515121748, 1.6544024713269192, 1.7386655205522845, -0.2908493269452821]}],                        {\"legend\": {\"bgcolor\": \"#F5F6F9\", \"font\": {\"color\": \"#4D5663\"}}, \"paper_bgcolor\": \"#F5F6F9\", \"plot_bgcolor\": \"#F5F6F9\", \"template\": {\"data\": {\"bar\": [{\"error_x\": {\"color\": \"#2a3f5f\"}, \"error_y\": {\"color\": \"#2a3f5f\"}, \"marker\": {\"line\": {\"color\": \"#E5ECF6\", \"width\": 0.5}}, \"type\": \"bar\"}], \"barpolar\": [{\"marker\": {\"line\": {\"color\": \"#E5ECF6\", \"width\": 0.5}}, \"type\": \"barpolar\"}], \"carpet\": [{\"aaxis\": {\"endlinecolor\": \"#2a3f5f\", \"gridcolor\": \"white\", \"linecolor\": \"white\", \"minorgridcolor\": \"white\", \"startlinecolor\": \"#2a3f5f\"}, \"baxis\": {\"endlinecolor\": \"#2a3f5f\", \"gridcolor\": \"white\", \"linecolor\": \"white\", \"minorgridcolor\": \"white\", \"startlinecolor\": \"#2a3f5f\"}, \"type\": \"carpet\"}], \"choropleth\": [{\"colorbar\": {\"outlinewidth\": 0, \"ticks\": \"\"}, \"type\": \"choropleth\"}], \"contour\": [{\"colorbar\": {\"outlinewidth\": 0, \"ticks\": \"\"}, \"colorscale\": [[0.0, \"#0d0887\"], [0.1111111111111111, \"#46039f\"], [0.2222222222222222, \"#7201a8\"], [0.3333333333333333, \"#9c179e\"], [0.4444444444444444, \"#bd3786\"], [0.5555555555555556, \"#d8576b\"], [0.6666666666666666, \"#ed7953\"], [0.7777777777777778, \"#fb9f3a\"], [0.8888888888888888, \"#fdca26\"], [1.0, \"#f0f921\"]], \"type\": \"contour\"}], \"contourcarpet\": [{\"colorbar\": {\"outlinewidth\": 0, \"ticks\": \"\"}, \"type\": \"contourcarpet\"}], \"heatmap\": [{\"colorbar\": {\"outlinewidth\": 0, \"ticks\": \"\"}, \"colorscale\": [[0.0, \"#0d0887\"], [0.1111111111111111, \"#46039f\"], [0.2222222222222222, \"#7201a8\"], [0.3333333333333333, \"#9c179e\"], [0.4444444444444444, \"#bd3786\"], [0.5555555555555556, \"#d8576b\"], [0.6666666666666666, \"#ed7953\"], [0.7777777777777778, \"#fb9f3a\"], [0.8888888888888888, \"#fdca26\"], [1.0, \"#f0f921\"]], \"type\": \"heatmap\"}], \"heatmapgl\": [{\"colorbar\": {\"outlinewidth\": 0, \"ticks\": \"\"}, \"colorscale\": [[0.0, \"#0d0887\"], [0.1111111111111111, \"#46039f\"], [0.2222222222222222, \"#7201a8\"], [0.3333333333333333, \"#9c179e\"], [0.4444444444444444, \"#bd3786\"], [0.5555555555555556, \"#d8576b\"], [0.6666666666666666, \"#ed7953\"], [0.7777777777777778, \"#fb9f3a\"], [0.8888888888888888, \"#fdca26\"], [1.0, \"#f0f921\"]], \"type\": \"heatmapgl\"}], \"histogram\": [{\"marker\": {\"colorbar\": {\"outlinewidth\": 0, \"ticks\": \"\"}}, \"type\": \"histogram\"}], \"histogram2d\": [{\"colorbar\": {\"outlinewidth\": 0, \"ticks\": \"\"}, \"colorscale\": [[0.0, \"#0d0887\"], [0.1111111111111111, \"#46039f\"], [0.2222222222222222, \"#7201a8\"], [0.3333333333333333, \"#9c179e\"], [0.4444444444444444, \"#bd3786\"], [0.5555555555555556, \"#d8576b\"], [0.6666666666666666, \"#ed7953\"], [0.7777777777777778, \"#fb9f3a\"], [0.8888888888888888, \"#fdca26\"], [1.0, \"#f0f921\"]], \"type\": \"histogram2d\"}], \"histogram2dcontour\": [{\"colorbar\": {\"outlinewidth\": 0, \"ticks\": \"\"}, \"colorscale\": [[0.0, \"#0d0887\"], [0.1111111111111111, \"#46039f\"], [0.2222222222222222, \"#7201a8\"], [0.3333333333333333, \"#9c179e\"], [0.4444444444444444, \"#bd3786\"], [0.5555555555555556, \"#d8576b\"], [0.6666666666666666, \"#ed7953\"], [0.7777777777777778, \"#fb9f3a\"], [0.8888888888888888, \"#fdca26\"], [1.0, \"#f0f921\"]], \"type\": \"histogram2dcontour\"}], \"mesh3d\": [{\"colorbar\": {\"outlinewidth\": 0, \"ticks\": \"\"}, \"type\": \"mesh3d\"}], \"parcoords\": [{\"line\": {\"colorbar\": {\"outlinewidth\": 0, \"ticks\": \"\"}}, \"type\": \"parcoords\"}], \"pie\": [{\"automargin\": true, \"type\": \"pie\"}], \"scatter\": [{\"marker\": {\"colorbar\": {\"outlinewidth\": 0, \"ticks\": \"\"}}, \"type\": \"scatter\"}], \"scatter3d\": [{\"line\": {\"colorbar\": {\"outlinewidth\": 0, \"ticks\": \"\"}}, \"marker\": {\"colorbar\": {\"outlinewidth\": 0, \"ticks\": \"\"}}, \"type\": \"scatter3d\"}], \"scattercarpet\": [{\"marker\": {\"colorbar\": {\"outlinewidth\": 0, \"ticks\": \"\"}}, \"type\": \"scattercarpet\"}], \"scattergeo\": [{\"marker\": {\"colorbar\": {\"outlinewidth\": 0, \"ticks\": \"\"}}, \"type\": \"scattergeo\"}], \"scattergl\": [{\"marker\": {\"colorbar\": {\"outlinewidth\": 0, \"ticks\": \"\"}}, \"type\": \"scattergl\"}], \"scattermapbox\": [{\"marker\": {\"colorbar\": {\"outlinewidth\": 0, \"ticks\": \"\"}}, \"type\": \"scattermapbox\"}], \"scatterpolar\": [{\"marker\": {\"colorbar\": {\"outlinewidth\": 0, \"ticks\": \"\"}}, \"type\": \"scatterpolar\"}], \"scatterpolargl\": [{\"marker\": {\"colorbar\": {\"outlinewidth\": 0, \"ticks\": \"\"}}, \"type\": \"scatterpolargl\"}], \"scatterternary\": [{\"marker\": {\"colorbar\": {\"outlinewidth\": 0, \"ticks\": \"\"}}, \"type\": \"scatterternary\"}], \"surface\": [{\"colorbar\": {\"outlinewidth\": 0, \"ticks\": \"\"}, \"colorscale\": [[0.0, \"#0d0887\"], [0.1111111111111111, \"#46039f\"], [0.2222222222222222, \"#7201a8\"], [0.3333333333333333, \"#9c179e\"], [0.4444444444444444, \"#bd3786\"], [0.5555555555555556, \"#d8576b\"], [0.6666666666666666, \"#ed7953\"], [0.7777777777777778, \"#fb9f3a\"], [0.8888888888888888, \"#fdca26\"], [1.0, \"#f0f921\"]], \"type\": \"surface\"}], \"table\": [{\"cells\": {\"fill\": {\"color\": \"#EBF0F8\"}, \"line\": {\"color\": \"white\"}}, \"header\": {\"fill\": {\"color\": \"#C8D4E3\"}, \"line\": {\"color\": \"white\"}}, \"type\": \"table\"}]}, \"layout\": {\"annotationdefaults\": {\"arrowcolor\": \"#2a3f5f\", \"arrowhead\": 0, \"arrowwidth\": 1}, \"autotypenumbers\": \"strict\", \"coloraxis\": {\"colorbar\": {\"outlinewidth\": 0, \"ticks\": \"\"}}, \"colorscale\": {\"diverging\": [[0, \"#8e0152\"], [0.1, \"#c51b7d\"], [0.2, \"#de77ae\"], [0.3, \"#f1b6da\"], [0.4, \"#fde0ef\"], [0.5, \"#f7f7f7\"], [0.6, \"#e6f5d0\"], [0.7, \"#b8e186\"], [0.8, \"#7fbc41\"], [0.9, \"#4d9221\"], [1, \"#276419\"]], \"sequential\": [[0.0, \"#0d0887\"], [0.1111111111111111, \"#46039f\"], [0.2222222222222222, \"#7201a8\"], [0.3333333333333333, \"#9c179e\"], [0.4444444444444444, \"#bd3786\"], [0.5555555555555556, \"#d8576b\"], [0.6666666666666666, \"#ed7953\"], [0.7777777777777778, \"#fb9f3a\"], [0.8888888888888888, \"#fdca26\"], [1.0, \"#f0f921\"]], \"sequentialminus\": [[0.0, \"#0d0887\"], [0.1111111111111111, \"#46039f\"], [0.2222222222222222, \"#7201a8\"], [0.3333333333333333, \"#9c179e\"], [0.4444444444444444, \"#bd3786\"], [0.5555555555555556, \"#d8576b\"], [0.6666666666666666, \"#ed7953\"], [0.7777777777777778, \"#fb9f3a\"], [0.8888888888888888, \"#fdca26\"], [1.0, \"#f0f921\"]]}, \"colorway\": [\"#636efa\", \"#EF553B\", \"#00cc96\", \"#ab63fa\", \"#FFA15A\", \"#19d3f3\", \"#FF6692\", \"#B6E880\", \"#FF97FF\", \"#FECB52\"], \"font\": {\"color\": \"#2a3f5f\"}, \"geo\": {\"bgcolor\": \"white\", \"lakecolor\": \"white\", \"landcolor\": \"#E5ECF6\", \"showlakes\": true, \"showland\": true, \"subunitcolor\": \"white\"}, \"hoverlabel\": {\"align\": \"left\"}, \"hovermode\": \"closest\", \"mapbox\": {\"style\": \"light\"}, \"paper_bgcolor\": \"white\", \"plot_bgcolor\": \"#E5ECF6\", \"polar\": {\"angularaxis\": {\"gridcolor\": \"white\", \"linecolor\": \"white\", \"ticks\": \"\"}, \"bgcolor\": \"#E5ECF6\", \"radialaxis\": {\"gridcolor\": \"white\", \"linecolor\": \"white\", \"ticks\": \"\"}}, \"scene\": {\"xaxis\": {\"backgroundcolor\": \"#E5ECF6\", \"gridcolor\": \"white\", \"gridwidth\": 2, \"linecolor\": \"white\", \"showbackground\": true, \"ticks\": \"\", \"zerolinecolor\": \"white\"}, \"yaxis\": {\"backgroundcolor\": \"#E5ECF6\", \"gridcolor\": \"white\", \"gridwidth\": 2, \"linecolor\": \"white\", \"showbackground\": true, \"ticks\": \"\", \"zerolinecolor\": \"white\"}, \"zaxis\": {\"backgroundcolor\": \"#E5ECF6\", \"gridcolor\": \"white\", \"gridwidth\": 2, \"linecolor\": \"white\", \"showbackground\": true, \"ticks\": \"\", \"zerolinecolor\": \"white\"}}, \"shapedefaults\": {\"line\": {\"color\": \"#2a3f5f\"}}, \"ternary\": {\"aaxis\": {\"gridcolor\": \"white\", \"linecolor\": \"white\", \"ticks\": \"\"}, \"baxis\": {\"gridcolor\": \"white\", \"linecolor\": \"white\", \"ticks\": \"\"}, \"bgcolor\": \"#E5ECF6\", \"caxis\": {\"gridcolor\": \"white\", \"linecolor\": \"white\", \"ticks\": \"\"}}, \"title\": {\"x\": 0.05}, \"xaxis\": {\"automargin\": true, \"gridcolor\": \"white\", \"linecolor\": \"white\", \"ticks\": \"\", \"title\": {\"standoff\": 15}, \"zerolinecolor\": \"white\", \"zerolinewidth\": 2}, \"yaxis\": {\"automargin\": true, \"gridcolor\": \"white\", \"linecolor\": \"white\", \"ticks\": \"\", \"title\": {\"standoff\": 15}, \"zerolinecolor\": \"white\", \"zerolinewidth\": 2}}}, \"title\": {\"font\": {\"color\": \"#4D5663\"}}, \"xaxis\": {\"gridcolor\": \"#E1E5ED\", \"showgrid\": true, \"tickfont\": {\"color\": \"#4D5663\"}, \"title\": {\"font\": {\"color\": \"#4D5663\"}, \"text\": \"\"}, \"zerolinecolor\": \"#E1E5ED\"}, \"yaxis\": {\"gridcolor\": \"#E1E5ED\", \"showgrid\": true, \"tickfont\": {\"color\": \"#4D5663\"}, \"title\": {\"font\": {\"color\": \"#4D5663\"}, \"text\": \"\"}, \"zerolinecolor\": \"#E1E5ED\"}},                        {\"showLink\": true, \"linkText\": \"Export to plot.ly\", \"plotlyServerURL\": \"https://plot.ly\", \"responsive\": true}                    ).then(function(){\n",
       "                            \n",
       "var gd = document.getElementById('ccc348aa-d524-4962-8e8f-3c2473895b0f');\n",
       "var x = new MutationObserver(function (mutations, observer) {{\n",
       "        var display = window.getComputedStyle(gd).display;\n",
       "        if (!display || display === 'none') {{\n",
       "            console.log([gd, 'removed!']);\n",
       "            Plotly.purge(gd);\n",
       "            observer.disconnect();\n",
       "        }}\n",
       "}});\n",
       "\n",
       "// Listen for the removal of the full notebook cells\n",
       "var notebookContainer = gd.closest('#notebook-container');\n",
       "if (notebookContainer) {{\n",
       "    x.observe(notebookContainer, {childList: true});\n",
       "}}\n",
       "\n",
       "// Listen for the clearing of the current output cell\n",
       "var outputEl = gd.closest('.output');\n",
       "if (outputEl) {{\n",
       "    x.observe(outputEl, {childList: true});\n",
       "}}\n",
       "\n",
       "                        })                };                });            </script>        </div>"
      ]
     },
     "metadata": {},
     "output_type": "display_data"
    }
   ],
   "source": [
    "df.iplot()"
   ]
  },
  {
   "cell_type": "code",
   "execution_count": null,
   "metadata": {},
   "outputs": [],
   "source": []
  }
 ],
 "metadata": {
  "kernelspec": {
   "display_name": "Python 3",
   "language": "python",
   "name": "python3"
  },
  "language_info": {
   "codemirror_mode": {
    "name": "ipython",
    "version": 3
   },
   "file_extension": ".py",
   "mimetype": "text/x-python",
   "name": "python",
   "nbconvert_exporter": "python",
   "pygments_lexer": "ipython3",
   "version": "3.8.5"
  }
 },
 "nbformat": 4,
 "nbformat_minor": 4
}
